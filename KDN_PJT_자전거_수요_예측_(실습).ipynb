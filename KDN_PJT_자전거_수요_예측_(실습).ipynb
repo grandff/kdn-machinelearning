{
  "nbformat": 4,
  "nbformat_minor": 0,
  "metadata": {
    "kernelspec": {
      "display_name": "Python 3",
      "language": "python",
      "name": "python3"
    },
    "language_info": {
      "codemirror_mode": {
        "name": "ipython",
        "version": 3
      },
      "file_extension": ".py",
      "mimetype": "text/x-python",
      "name": "python",
      "nbconvert_exporter": "python",
      "pygments_lexer": "ipython3",
      "version": "3.8.7"
    },
    "colab": {
      "name": "KDN_PJT_자전거 수요 예측 (실습).ipynb",
      "provenance": [],
      "collapsed_sections": [
        "5m17lJKj_u2E"
      ],
      "include_colab_link": true
    }
  },
  "cells": [
    {
      "cell_type": "markdown",
      "metadata": {
        "id": "view-in-github",
        "colab_type": "text"
      },
      "source": [
        "<a href=\"https://colab.research.google.com/github/grandff/kdn-machinelearning/blob/main/KDN_PJT_%EC%9E%90%EC%A0%84%EA%B1%B0_%EC%88%98%EC%9A%94_%EC%98%88%EC%B8%A1_(%EC%8B%A4%EC%8A%B5).ipynb\" target=\"_parent\"><img src=\"https://colab.research.google.com/assets/colab-badge.svg\" alt=\"Open In Colab\"/></a>"
      ]
    },
    {
      "cell_type": "markdown",
      "metadata": {
        "id": "mRqEWAE9_u14"
      },
      "source": [
        "## 모듈 import \n",
        "\n",
        "필요한 모듈을 import 합니다. 필요에 따라 추가 패키지를 load 할 수 있습니다."
      ]
    },
    {
      "cell_type": "code",
      "metadata": {
        "id": "Xlx2hISpBM4V",
        "colab": {
          "base_uri": "https://localhost:8080/"
        },
        "outputId": "0fd75bb4-a63b-48af-e7d3-bbaa67258432"
      },
      "source": [
        "!wget http://49.247.133.7/KDN_DAY3.zip\n",
        "!mkdir data\n",
        "!unzip KDN_DAY3.zip -d data"
      ],
      "execution_count": 1,
      "outputs": [
        {
          "output_type": "stream",
          "name": "stdout",
          "text": [
            "--2021-10-07 04:33:41--  http://49.247.133.7/KDN_DAY3.zip\n",
            "Connecting to 49.247.133.7:80... connected.\n",
            "HTTP request sent, awaiting response... 200 OK\n",
            "Length: 1115586 (1.1M) [application/zip]\n",
            "Saving to: ‘KDN_DAY3.zip’\n",
            "\n",
            "KDN_DAY3.zip        100%[===================>]   1.06M  3.22MB/s    in 0.3s    \n",
            "\n",
            "2021-10-07 04:33:42 (3.22 MB/s) - ‘KDN_DAY3.zip’ saved [1115586/1115586]\n",
            "\n",
            "Archive:  KDN_DAY3.zip\n",
            " extracting: data/submission.csv     \n",
            " extracting: data/test.csv           \n",
            " extracting: data/train.csv          \n"
          ]
        }
      ]
    },
    {
      "cell_type": "code",
      "metadata": {
        "id": "-hqbjsUR_-y-",
        "colab": {
          "base_uri": "https://localhost:8080/"
        },
        "outputId": "5a606116-02b4-4bc3-b345-5619636edb82"
      },
      "source": [
        "!pip install jaen"
      ],
      "execution_count": 2,
      "outputs": [
        {
          "output_type": "stream",
          "name": "stdout",
          "text": [
            "Collecting jaen\n",
            "  Downloading JAEN-0.0.1-py3-none-any.whl (2.1 kB)\n",
            "Installing collected packages: jaen\n",
            "Successfully installed jaen-0.0.1\n"
          ]
        }
      ]
    },
    {
      "cell_type": "code",
      "metadata": {
        "id": "RMIEucbc_-Ht"
      },
      "source": [
        "# 실전프로젝트 환경 설정\n",
        "from JAEN.project import Project\n",
        "pjt = Project('자전거 대여량 예측', # 프로젝트 이름\n",
        "              '한전KDN',                       # 과정명\n",
        "              '1차수 A반',                     # 차수 정보\n",
        "              '198080@kdn.com')                  # 이메일 (숫자@kdn.com) * 본인의 이메일로 수정"
      ],
      "execution_count": 3,
      "outputs": []
    },
    {
      "cell_type": "code",
      "metadata": {
        "id": "qUbSVS30_u16"
      },
      "source": [
        "import json\n",
        "import datetime\n",
        "import requests\n",
        "from sklearn.metrics import mean_squared_error\n",
        "\n",
        "def RMSLE(y_true, y_pred):\n",
        "    return np.sqrt(mean_squared_error(np.log1p(y_true), np.log1p(y_pred)))"
      ],
      "execution_count": 4,
      "outputs": []
    },
    {
      "cell_type": "code",
      "metadata": {
        "id": "COtdqvyA_u17"
      },
      "source": [
        "import pandas as pd\n",
        "import numpy as np\n",
        "import matplotlib.pyplot as plt\n",
        "import seaborn as sns\n",
        "import datetime\n",
        "import os"
      ],
      "execution_count": 5,
      "outputs": []
    },
    {
      "cell_type": "markdown",
      "metadata": {
        "id": "xZlvX_S9_u17"
      },
      "source": [
        "## 데이터 로드"
      ]
    },
    {
      "cell_type": "markdown",
      "metadata": {
        "id": "AFp1cB2B_u17"
      },
      "source": [
        "2개의 데이터 셋트를 나누어 제공합니다.\n",
        "\n",
        "1. train: 학습용 데이터 세트. 정답 값이라고 할 수 있는 `label` 값이 같이 제공됩니다.\n",
        "2. test: 예측용 데이터 세트. 정답 값이 빠진 `feature` 들만 제공됩니다. 우리는 이 `feature`를 활용하여 예측을 진행합니다.\n",
        "3. submission: 정답 제출용 데이터 세트. 주어진 형식에 맞춰 정답 값을 기입하고 제출합니다."
      ]
    },
    {
      "cell_type": "code",
      "metadata": {
        "id": "lGeuLs2Z_u17"
      },
      "source": [
        "# train 데이터셋 로드 (train.csv)\n",
        "train = pd.read_csv('./data/train.csv')\n",
        "# test 데이터셋 로드 (test.csv)\n",
        "test = pd.read_csv('./data/test.csv')"
      ],
      "execution_count": 7,
      "outputs": []
    },
    {
      "cell_type": "markdown",
      "metadata": {
        "id": "HXIzMvp6_u17"
      },
      "source": [
        "## 데이터 개요 확인\n",
        "\n",
        "로드한 DataFrame의 가장 기본적인 데이터 구조 및 결측치를 확인합니다."
      ]
    },
    {
      "cell_type": "code",
      "metadata": {
        "id": "RfdneMJt_u18",
        "colab": {
          "base_uri": "https://localhost:8080/",
          "height": 293
        },
        "outputId": "122fc068-8210-4b73-d072-bd9cdc0dcc25"
      },
      "source": [
        "# train 앞 부분 5개 행 출력\n",
        "train.head(5)"
      ],
      "execution_count": 8,
      "outputs": [
        {
          "output_type": "execute_result",
          "data": {
            "text/html": [
              "<div>\n",
              "<style scoped>\n",
              "    .dataframe tbody tr th:only-of-type {\n",
              "        vertical-align: middle;\n",
              "    }\n",
              "\n",
              "    .dataframe tbody tr th {\n",
              "        vertical-align: top;\n",
              "    }\n",
              "\n",
              "    .dataframe thead th {\n",
              "        text-align: right;\n",
              "    }\n",
              "</style>\n",
              "<table border=\"1\" class=\"dataframe\">\n",
              "  <thead>\n",
              "    <tr style=\"text-align: right;\">\n",
              "      <th></th>\n",
              "      <th>datetime</th>\n",
              "      <th>season</th>\n",
              "      <th>holiday</th>\n",
              "      <th>workingday</th>\n",
              "      <th>weather</th>\n",
              "      <th>temp</th>\n",
              "      <th>atemp</th>\n",
              "      <th>humidity</th>\n",
              "      <th>windspeed</th>\n",
              "      <th>casual</th>\n",
              "      <th>registered</th>\n",
              "      <th>count</th>\n",
              "    </tr>\n",
              "  </thead>\n",
              "  <tbody>\n",
              "    <tr>\n",
              "      <th>0</th>\n",
              "      <td>2011-01-01 00:00:00</td>\n",
              "      <td>1</td>\n",
              "      <td>0</td>\n",
              "      <td>0</td>\n",
              "      <td>1</td>\n",
              "      <td>9.84</td>\n",
              "      <td>14.395</td>\n",
              "      <td>81</td>\n",
              "      <td>0.0</td>\n",
              "      <td>3</td>\n",
              "      <td>13</td>\n",
              "      <td>16</td>\n",
              "    </tr>\n",
              "    <tr>\n",
              "      <th>1</th>\n",
              "      <td>2011-01-01 01:00:00</td>\n",
              "      <td>1</td>\n",
              "      <td>0</td>\n",
              "      <td>0</td>\n",
              "      <td>1</td>\n",
              "      <td>9.02</td>\n",
              "      <td>13.635</td>\n",
              "      <td>80</td>\n",
              "      <td>0.0</td>\n",
              "      <td>8</td>\n",
              "      <td>32</td>\n",
              "      <td>40</td>\n",
              "    </tr>\n",
              "    <tr>\n",
              "      <th>2</th>\n",
              "      <td>2011-01-01 02:00:00</td>\n",
              "      <td>1</td>\n",
              "      <td>0</td>\n",
              "      <td>0</td>\n",
              "      <td>1</td>\n",
              "      <td>9.02</td>\n",
              "      <td>13.635</td>\n",
              "      <td>80</td>\n",
              "      <td>0.0</td>\n",
              "      <td>5</td>\n",
              "      <td>27</td>\n",
              "      <td>32</td>\n",
              "    </tr>\n",
              "    <tr>\n",
              "      <th>3</th>\n",
              "      <td>2011-01-01 03:00:00</td>\n",
              "      <td>1</td>\n",
              "      <td>0</td>\n",
              "      <td>0</td>\n",
              "      <td>1</td>\n",
              "      <td>9.84</td>\n",
              "      <td>14.395</td>\n",
              "      <td>75</td>\n",
              "      <td>0.0</td>\n",
              "      <td>3</td>\n",
              "      <td>10</td>\n",
              "      <td>13</td>\n",
              "    </tr>\n",
              "    <tr>\n",
              "      <th>4</th>\n",
              "      <td>2011-01-01 04:00:00</td>\n",
              "      <td>1</td>\n",
              "      <td>0</td>\n",
              "      <td>0</td>\n",
              "      <td>1</td>\n",
              "      <td>9.84</td>\n",
              "      <td>14.395</td>\n",
              "      <td>75</td>\n",
              "      <td>0.0</td>\n",
              "      <td>0</td>\n",
              "      <td>1</td>\n",
              "      <td>1</td>\n",
              "    </tr>\n",
              "  </tbody>\n",
              "</table>\n",
              "</div>"
            ],
            "text/plain": [
              "              datetime  season  holiday  ...  casual  registered  count\n",
              "0  2011-01-01 00:00:00       1        0  ...       3          13     16\n",
              "1  2011-01-01 01:00:00       1        0  ...       8          32     40\n",
              "2  2011-01-01 02:00:00       1        0  ...       5          27     32\n",
              "3  2011-01-01 03:00:00       1        0  ...       3          10     13\n",
              "4  2011-01-01 04:00:00       1        0  ...       0           1      1\n",
              "\n",
              "[5 rows x 12 columns]"
            ]
          },
          "metadata": {},
          "execution_count": 8
        }
      ]
    },
    {
      "cell_type": "code",
      "metadata": {
        "id": "CnuBkL_3_u18",
        "colab": {
          "base_uri": "https://localhost:8080/",
          "height": 206
        },
        "outputId": "02da06a1-cd3b-43d4-f58e-80d1e94dad2e"
      },
      "source": [
        "# test 앞 부분 5개 행 출력\n",
        "test.head(5)"
      ],
      "execution_count": 9,
      "outputs": [
        {
          "output_type": "execute_result",
          "data": {
            "text/html": [
              "<div>\n",
              "<style scoped>\n",
              "    .dataframe tbody tr th:only-of-type {\n",
              "        vertical-align: middle;\n",
              "    }\n",
              "\n",
              "    .dataframe tbody tr th {\n",
              "        vertical-align: top;\n",
              "    }\n",
              "\n",
              "    .dataframe thead th {\n",
              "        text-align: right;\n",
              "    }\n",
              "</style>\n",
              "<table border=\"1\" class=\"dataframe\">\n",
              "  <thead>\n",
              "    <tr style=\"text-align: right;\">\n",
              "      <th></th>\n",
              "      <th>datetime</th>\n",
              "      <th>season</th>\n",
              "      <th>holiday</th>\n",
              "      <th>workingday</th>\n",
              "      <th>weather</th>\n",
              "      <th>temp</th>\n",
              "      <th>atemp</th>\n",
              "      <th>humidity</th>\n",
              "      <th>windspeed</th>\n",
              "    </tr>\n",
              "  </thead>\n",
              "  <tbody>\n",
              "    <tr>\n",
              "      <th>0</th>\n",
              "      <td>2011-01-20 00:00:00</td>\n",
              "      <td>1</td>\n",
              "      <td>0</td>\n",
              "      <td>1</td>\n",
              "      <td>1</td>\n",
              "      <td>10.66</td>\n",
              "      <td>11.365</td>\n",
              "      <td>56</td>\n",
              "      <td>26.0027</td>\n",
              "    </tr>\n",
              "    <tr>\n",
              "      <th>1</th>\n",
              "      <td>2011-01-20 01:00:00</td>\n",
              "      <td>1</td>\n",
              "      <td>0</td>\n",
              "      <td>1</td>\n",
              "      <td>1</td>\n",
              "      <td>10.66</td>\n",
              "      <td>13.635</td>\n",
              "      <td>56</td>\n",
              "      <td>0.0000</td>\n",
              "    </tr>\n",
              "    <tr>\n",
              "      <th>2</th>\n",
              "      <td>2011-01-20 02:00:00</td>\n",
              "      <td>1</td>\n",
              "      <td>0</td>\n",
              "      <td>1</td>\n",
              "      <td>1</td>\n",
              "      <td>10.66</td>\n",
              "      <td>13.635</td>\n",
              "      <td>56</td>\n",
              "      <td>0.0000</td>\n",
              "    </tr>\n",
              "    <tr>\n",
              "      <th>3</th>\n",
              "      <td>2011-01-20 03:00:00</td>\n",
              "      <td>1</td>\n",
              "      <td>0</td>\n",
              "      <td>1</td>\n",
              "      <td>1</td>\n",
              "      <td>10.66</td>\n",
              "      <td>12.880</td>\n",
              "      <td>56</td>\n",
              "      <td>11.0014</td>\n",
              "    </tr>\n",
              "    <tr>\n",
              "      <th>4</th>\n",
              "      <td>2011-01-20 04:00:00</td>\n",
              "      <td>1</td>\n",
              "      <td>0</td>\n",
              "      <td>1</td>\n",
              "      <td>1</td>\n",
              "      <td>10.66</td>\n",
              "      <td>12.880</td>\n",
              "      <td>56</td>\n",
              "      <td>11.0014</td>\n",
              "    </tr>\n",
              "  </tbody>\n",
              "</table>\n",
              "</div>"
            ],
            "text/plain": [
              "              datetime  season  holiday  ...   atemp  humidity  windspeed\n",
              "0  2011-01-20 00:00:00       1        0  ...  11.365        56    26.0027\n",
              "1  2011-01-20 01:00:00       1        0  ...  13.635        56     0.0000\n",
              "2  2011-01-20 02:00:00       1        0  ...  13.635        56     0.0000\n",
              "3  2011-01-20 03:00:00       1        0  ...  12.880        56    11.0014\n",
              "4  2011-01-20 04:00:00       1        0  ...  12.880        56    11.0014\n",
              "\n",
              "[5 rows x 9 columns]"
            ]
          },
          "metadata": {},
          "execution_count": 9
        }
      ]
    },
    {
      "cell_type": "code",
      "metadata": {
        "id": "aEYm7vKK_u19",
        "colab": {
          "base_uri": "https://localhost:8080/"
        },
        "outputId": "27393776-5319-4b32-bd25-85e18733fc6c"
      },
      "source": [
        "# train, test 의 shape 확인\n",
        "train.shape, test.shape"
      ],
      "execution_count": 10,
      "outputs": [
        {
          "output_type": "execute_result",
          "data": {
            "text/plain": [
              "((10886, 12), (6493, 9))"
            ]
          },
          "metadata": {},
          "execution_count": 10
        }
      ]
    },
    {
      "cell_type": "code",
      "metadata": {
        "id": "B_QEQrps_u19",
        "colab": {
          "base_uri": "https://localhost:8080/"
        },
        "outputId": "139e6876-09b9-4491-b35d-070b1b9b8a97"
      },
      "source": [
        "# train column 별 데이터 개수, 타입 확인\n",
        "train.info()"
      ],
      "execution_count": 13,
      "outputs": [
        {
          "output_type": "stream",
          "name": "stdout",
          "text": [
            "<class 'pandas.core.frame.DataFrame'>\n",
            "RangeIndex: 10886 entries, 0 to 10885\n",
            "Data columns (total 12 columns):\n",
            " #   Column      Non-Null Count  Dtype  \n",
            "---  ------      --------------  -----  \n",
            " 0   datetime    10886 non-null  object \n",
            " 1   season      10886 non-null  int64  \n",
            " 2   holiday     10886 non-null  int64  \n",
            " 3   workingday  10886 non-null  int64  \n",
            " 4   weather     10886 non-null  int64  \n",
            " 5   temp        10886 non-null  float64\n",
            " 6   atemp       10886 non-null  float64\n",
            " 7   humidity    10886 non-null  int64  \n",
            " 8   windspeed   10886 non-null  float64\n",
            " 9   casual      10886 non-null  int64  \n",
            " 10  registered  10886 non-null  int64  \n",
            " 11  count       10886 non-null  int64  \n",
            "dtypes: float64(3), int64(8), object(1)\n",
            "memory usage: 1020.7+ KB\n"
          ]
        }
      ]
    },
    {
      "cell_type": "code",
      "metadata": {
        "id": "CRMKbR6r_u19",
        "colab": {
          "base_uri": "https://localhost:8080/"
        },
        "outputId": "9816be94-56bc-4a08-83ae-8c67daa1828b"
      },
      "source": [
        "# test column 별 데이터 개수, 타입 확인\n",
        "test.info()"
      ],
      "execution_count": 14,
      "outputs": [
        {
          "output_type": "stream",
          "name": "stdout",
          "text": [
            "<class 'pandas.core.frame.DataFrame'>\n",
            "RangeIndex: 6493 entries, 0 to 6492\n",
            "Data columns (total 9 columns):\n",
            " #   Column      Non-Null Count  Dtype  \n",
            "---  ------      --------------  -----  \n",
            " 0   datetime    6493 non-null   object \n",
            " 1   season      6493 non-null   int64  \n",
            " 2   holiday     6493 non-null   int64  \n",
            " 3   workingday  6493 non-null   int64  \n",
            " 4   weather     6493 non-null   int64  \n",
            " 5   temp        6493 non-null   float64\n",
            " 6   atemp       6493 non-null   float64\n",
            " 7   humidity    6493 non-null   int64  \n",
            " 8   windspeed   6493 non-null   float64\n",
            "dtypes: float64(3), int64(5), object(1)\n",
            "memory usage: 456.7+ KB\n"
          ]
        }
      ]
    },
    {
      "cell_type": "code",
      "metadata": {
        "id": "jIIX4H_J_u19",
        "colab": {
          "base_uri": "https://localhost:8080/"
        },
        "outputId": "939d9377-4cbb-432e-e136-bf012707dd0b"
      },
      "source": [
        "# train 결측치 확인 \n",
        "train.isnull().sum()"
      ],
      "execution_count": 15,
      "outputs": [
        {
          "output_type": "execute_result",
          "data": {
            "text/plain": [
              "datetime      0\n",
              "season        0\n",
              "holiday       0\n",
              "workingday    0\n",
              "weather       0\n",
              "temp          0\n",
              "atemp         0\n",
              "humidity      0\n",
              "windspeed     0\n",
              "casual        0\n",
              "registered    0\n",
              "count         0\n",
              "dtype: int64"
            ]
          },
          "metadata": {},
          "execution_count": 15
        }
      ]
    },
    {
      "cell_type": "code",
      "metadata": {
        "id": "zk7MhhOY_u1-",
        "colab": {
          "base_uri": "https://localhost:8080/"
        },
        "outputId": "8359d88a-c8e6-4594-ce9f-dac6269f60ea"
      },
      "source": [
        "# test 결측치 확인\n",
        "test.isnull().sum()"
      ],
      "execution_count": 16,
      "outputs": [
        {
          "output_type": "execute_result",
          "data": {
            "text/plain": [
              "datetime      0\n",
              "season        0\n",
              "holiday       0\n",
              "workingday    0\n",
              "weather       0\n",
              "temp          0\n",
              "atemp         0\n",
              "humidity      0\n",
              "windspeed     0\n",
              "dtype: int64"
            ]
          },
          "metadata": {},
          "execution_count": 16
        }
      ]
    },
    {
      "cell_type": "code",
      "metadata": {
        "id": "9H9MySwb_u1-"
      },
      "source": [
        "# datetime 컬럼 변환\n",
        "# datetime64 타입으로 변환\n",
        "# train 데이터셋 \n",
        "train['datetime'] = pd.to_datetime(train['datetime'])"
      ],
      "execution_count": 17,
      "outputs": []
    },
    {
      "cell_type": "code",
      "metadata": {
        "id": "oMJtDRN5_u1-"
      },
      "source": [
        "# 연도(year), 월(month), 일(day), 요일(dayofweek), 분기(quarter), 시(hour), 분(minute), 초(second) 컬럼 생성\n",
        "# 생성된 컬럼에 datetime 컬럼으로부터 정보를 추출하여 대입\n",
        "# train 데이터셋 \n",
        "train['year'] = train['datetime'].dt.year\n",
        "train['month'] = train['datetime'].dt.month\n",
        "train['day'] = train['datetime'].dt.day\n",
        "train['dayofweek'] = train['datetime'].dt.dayofweek\n",
        "train['quarter'] = train['datetime'].dt.quarter\n",
        "train['hour'] = train['datetime'].dt.hour\n",
        "train['minute'] = train['datetime'].dt.minute\n",
        "train['second'] = train['datetime'].dt.second"
      ],
      "execution_count": 18,
      "outputs": []
    },
    {
      "cell_type": "code",
      "metadata": {
        "id": "5Q5zfwYq_u1-"
      },
      "source": [
        "# datetime 컬럼 변환\n",
        "# datetime64 타입으로 변환\n",
        "# test 데이터셋 \n",
        "test['datetime'] = pd.to_datetime(test['datetime'])"
      ],
      "execution_count": 19,
      "outputs": []
    },
    {
      "cell_type": "code",
      "metadata": {
        "id": "Lw7GNwif_u1_"
      },
      "source": [
        "# 연도(year), 월(month), 일(day), 요일(dayofweek), 분기(quarter), 시(hour), 분(minute), 초(second) 컬럼 생성\n",
        "# 생성된 컬럼에 datetime 컬럼으로부터 정보를 추출하여 대입\n",
        "# test\n",
        "test['year'] = test['datetime'].dt.year\n",
        "test['month'] = test['datetime'].dt.month\n",
        "test['day'] = test['datetime'].dt.day\n",
        "test['dayofweek'] = test['datetime'].dt.dayofweek\n",
        "test['quarter'] = test['datetime'].dt.quarter\n",
        "test['hour'] = test['datetime'].dt.hour\n",
        "test['minute'] = test['datetime'].dt.minute\n",
        "test['second'] = test['datetime'].dt.second"
      ],
      "execution_count": 20,
      "outputs": []
    },
    {
      "cell_type": "markdown",
      "metadata": {
        "id": "KIwK1R8B_u1_"
      },
      "source": [
        "## Feature(컬럼) 선택"
      ]
    },
    {
      "cell_type": "markdown",
      "metadata": {
        "id": "-dEo-d3w_u1_"
      },
      "source": [
        "분석을 토대로 머신러닝 알고리즘에 입력할 feature(컬럼)를 선택합니다."
      ]
    },
    {
      "cell_type": "code",
      "metadata": {
        "id": "tBpaihvg_u2A"
      },
      "source": [
        "# 본인의 판단에 따라 훈련에 사용할 feature와 사용하지 않을 feature를 선택합니다.\n",
        "## casual register count만 제외\n",
        "features = [\n",
        "    'season',\n",
        "     'holiday',\n",
        "     'workingday',\n",
        "     'weather',\n",
        "     'temp',\n",
        "     'atemp',\n",
        "     'humidity',\n",
        "     'windspeed',\n",
        "     'year',\n",
        "     'month',\n",
        "     'day',\n",
        "     'dayofweek',\n",
        "     'quarter',\n",
        "     'hour',\n",
        "     'minute',\n",
        "     'second'\n",
        "]"
      ],
      "execution_count": 23,
      "outputs": []
    },
    {
      "cell_type": "markdown",
      "metadata": {
        "id": "vtI0BnIr_u2A"
      },
      "source": [
        "# Features(X값)"
      ]
    },
    {
      "cell_type": "code",
      "metadata": {
        "id": "veH2vYG__u2A",
        "colab": {
          "base_uri": "https://localhost:8080/",
          "height": 443
        },
        "outputId": "a1987d85-4895-450c-da66-8e83df64bec0"
      },
      "source": [
        "# features의 컬럼을 X로 설정한다.\n",
        "X = train[features]\n",
        "X"
      ],
      "execution_count": 25,
      "outputs": [
        {
          "output_type": "execute_result",
          "data": {
            "text/html": [
              "<div>\n",
              "<style scoped>\n",
              "    .dataframe tbody tr th:only-of-type {\n",
              "        vertical-align: middle;\n",
              "    }\n",
              "\n",
              "    .dataframe tbody tr th {\n",
              "        vertical-align: top;\n",
              "    }\n",
              "\n",
              "    .dataframe thead th {\n",
              "        text-align: right;\n",
              "    }\n",
              "</style>\n",
              "<table border=\"1\" class=\"dataframe\">\n",
              "  <thead>\n",
              "    <tr style=\"text-align: right;\">\n",
              "      <th></th>\n",
              "      <th>season</th>\n",
              "      <th>holiday</th>\n",
              "      <th>workingday</th>\n",
              "      <th>weather</th>\n",
              "      <th>temp</th>\n",
              "      <th>atemp</th>\n",
              "      <th>humidity</th>\n",
              "      <th>windspeed</th>\n",
              "      <th>year</th>\n",
              "      <th>month</th>\n",
              "      <th>day</th>\n",
              "      <th>dayofweek</th>\n",
              "      <th>quarter</th>\n",
              "      <th>hour</th>\n",
              "      <th>minute</th>\n",
              "      <th>second</th>\n",
              "    </tr>\n",
              "  </thead>\n",
              "  <tbody>\n",
              "    <tr>\n",
              "      <th>0</th>\n",
              "      <td>1</td>\n",
              "      <td>0</td>\n",
              "      <td>0</td>\n",
              "      <td>1</td>\n",
              "      <td>9.84</td>\n",
              "      <td>14.395</td>\n",
              "      <td>81</td>\n",
              "      <td>0.0000</td>\n",
              "      <td>2011</td>\n",
              "      <td>1</td>\n",
              "      <td>1</td>\n",
              "      <td>5</td>\n",
              "      <td>1</td>\n",
              "      <td>0</td>\n",
              "      <td>0</td>\n",
              "      <td>0</td>\n",
              "    </tr>\n",
              "    <tr>\n",
              "      <th>1</th>\n",
              "      <td>1</td>\n",
              "      <td>0</td>\n",
              "      <td>0</td>\n",
              "      <td>1</td>\n",
              "      <td>9.02</td>\n",
              "      <td>13.635</td>\n",
              "      <td>80</td>\n",
              "      <td>0.0000</td>\n",
              "      <td>2011</td>\n",
              "      <td>1</td>\n",
              "      <td>1</td>\n",
              "      <td>5</td>\n",
              "      <td>1</td>\n",
              "      <td>1</td>\n",
              "      <td>0</td>\n",
              "      <td>0</td>\n",
              "    </tr>\n",
              "    <tr>\n",
              "      <th>2</th>\n",
              "      <td>1</td>\n",
              "      <td>0</td>\n",
              "      <td>0</td>\n",
              "      <td>1</td>\n",
              "      <td>9.02</td>\n",
              "      <td>13.635</td>\n",
              "      <td>80</td>\n",
              "      <td>0.0000</td>\n",
              "      <td>2011</td>\n",
              "      <td>1</td>\n",
              "      <td>1</td>\n",
              "      <td>5</td>\n",
              "      <td>1</td>\n",
              "      <td>2</td>\n",
              "      <td>0</td>\n",
              "      <td>0</td>\n",
              "    </tr>\n",
              "    <tr>\n",
              "      <th>3</th>\n",
              "      <td>1</td>\n",
              "      <td>0</td>\n",
              "      <td>0</td>\n",
              "      <td>1</td>\n",
              "      <td>9.84</td>\n",
              "      <td>14.395</td>\n",
              "      <td>75</td>\n",
              "      <td>0.0000</td>\n",
              "      <td>2011</td>\n",
              "      <td>1</td>\n",
              "      <td>1</td>\n",
              "      <td>5</td>\n",
              "      <td>1</td>\n",
              "      <td>3</td>\n",
              "      <td>0</td>\n",
              "      <td>0</td>\n",
              "    </tr>\n",
              "    <tr>\n",
              "      <th>4</th>\n",
              "      <td>1</td>\n",
              "      <td>0</td>\n",
              "      <td>0</td>\n",
              "      <td>1</td>\n",
              "      <td>9.84</td>\n",
              "      <td>14.395</td>\n",
              "      <td>75</td>\n",
              "      <td>0.0000</td>\n",
              "      <td>2011</td>\n",
              "      <td>1</td>\n",
              "      <td>1</td>\n",
              "      <td>5</td>\n",
              "      <td>1</td>\n",
              "      <td>4</td>\n",
              "      <td>0</td>\n",
              "      <td>0</td>\n",
              "    </tr>\n",
              "    <tr>\n",
              "      <th>...</th>\n",
              "      <td>...</td>\n",
              "      <td>...</td>\n",
              "      <td>...</td>\n",
              "      <td>...</td>\n",
              "      <td>...</td>\n",
              "      <td>...</td>\n",
              "      <td>...</td>\n",
              "      <td>...</td>\n",
              "      <td>...</td>\n",
              "      <td>...</td>\n",
              "      <td>...</td>\n",
              "      <td>...</td>\n",
              "      <td>...</td>\n",
              "      <td>...</td>\n",
              "      <td>...</td>\n",
              "      <td>...</td>\n",
              "    </tr>\n",
              "    <tr>\n",
              "      <th>10881</th>\n",
              "      <td>4</td>\n",
              "      <td>0</td>\n",
              "      <td>1</td>\n",
              "      <td>1</td>\n",
              "      <td>15.58</td>\n",
              "      <td>19.695</td>\n",
              "      <td>50</td>\n",
              "      <td>26.0027</td>\n",
              "      <td>2012</td>\n",
              "      <td>12</td>\n",
              "      <td>19</td>\n",
              "      <td>2</td>\n",
              "      <td>4</td>\n",
              "      <td>19</td>\n",
              "      <td>0</td>\n",
              "      <td>0</td>\n",
              "    </tr>\n",
              "    <tr>\n",
              "      <th>10882</th>\n",
              "      <td>4</td>\n",
              "      <td>0</td>\n",
              "      <td>1</td>\n",
              "      <td>1</td>\n",
              "      <td>14.76</td>\n",
              "      <td>17.425</td>\n",
              "      <td>57</td>\n",
              "      <td>15.0013</td>\n",
              "      <td>2012</td>\n",
              "      <td>12</td>\n",
              "      <td>19</td>\n",
              "      <td>2</td>\n",
              "      <td>4</td>\n",
              "      <td>20</td>\n",
              "      <td>0</td>\n",
              "      <td>0</td>\n",
              "    </tr>\n",
              "    <tr>\n",
              "      <th>10883</th>\n",
              "      <td>4</td>\n",
              "      <td>0</td>\n",
              "      <td>1</td>\n",
              "      <td>1</td>\n",
              "      <td>13.94</td>\n",
              "      <td>15.910</td>\n",
              "      <td>61</td>\n",
              "      <td>15.0013</td>\n",
              "      <td>2012</td>\n",
              "      <td>12</td>\n",
              "      <td>19</td>\n",
              "      <td>2</td>\n",
              "      <td>4</td>\n",
              "      <td>21</td>\n",
              "      <td>0</td>\n",
              "      <td>0</td>\n",
              "    </tr>\n",
              "    <tr>\n",
              "      <th>10884</th>\n",
              "      <td>4</td>\n",
              "      <td>0</td>\n",
              "      <td>1</td>\n",
              "      <td>1</td>\n",
              "      <td>13.94</td>\n",
              "      <td>17.425</td>\n",
              "      <td>61</td>\n",
              "      <td>6.0032</td>\n",
              "      <td>2012</td>\n",
              "      <td>12</td>\n",
              "      <td>19</td>\n",
              "      <td>2</td>\n",
              "      <td>4</td>\n",
              "      <td>22</td>\n",
              "      <td>0</td>\n",
              "      <td>0</td>\n",
              "    </tr>\n",
              "    <tr>\n",
              "      <th>10885</th>\n",
              "      <td>4</td>\n",
              "      <td>0</td>\n",
              "      <td>1</td>\n",
              "      <td>1</td>\n",
              "      <td>13.12</td>\n",
              "      <td>16.665</td>\n",
              "      <td>66</td>\n",
              "      <td>8.9981</td>\n",
              "      <td>2012</td>\n",
              "      <td>12</td>\n",
              "      <td>19</td>\n",
              "      <td>2</td>\n",
              "      <td>4</td>\n",
              "      <td>23</td>\n",
              "      <td>0</td>\n",
              "      <td>0</td>\n",
              "    </tr>\n",
              "  </tbody>\n",
              "</table>\n",
              "<p>10886 rows × 16 columns</p>\n",
              "</div>"
            ],
            "text/plain": [
              "       season  holiday  workingday  weather  ...  quarter  hour  minute  second\n",
              "0           1        0           0        1  ...        1     0       0       0\n",
              "1           1        0           0        1  ...        1     1       0       0\n",
              "2           1        0           0        1  ...        1     2       0       0\n",
              "3           1        0           0        1  ...        1     3       0       0\n",
              "4           1        0           0        1  ...        1     4       0       0\n",
              "...       ...      ...         ...      ...  ...      ...   ...     ...     ...\n",
              "10881       4        0           1        1  ...        4    19       0       0\n",
              "10882       4        0           1        1  ...        4    20       0       0\n",
              "10883       4        0           1        1  ...        4    21       0       0\n",
              "10884       4        0           1        1  ...        4    22       0       0\n",
              "10885       4        0           1        1  ...        4    23       0       0\n",
              "\n",
              "[10886 rows x 16 columns]"
            ]
          },
          "metadata": {},
          "execution_count": 25
        }
      ]
    },
    {
      "cell_type": "markdown",
      "metadata": {
        "id": "m_8deHyg_u2A"
      },
      "source": [
        "## Label(Y값)"
      ]
    },
    {
      "cell_type": "code",
      "metadata": {
        "id": "WteJxaXi_u2A",
        "colab": {
          "base_uri": "https://localhost:8080/"
        },
        "outputId": "55468c63-5fea-4007-e86c-f9a6f5235c85"
      },
      "source": [
        "# count 값을 Y값으로 설정한다.\n",
        "Y = train['count']\n",
        "Y"
      ],
      "execution_count": 27,
      "outputs": [
        {
          "output_type": "execute_result",
          "data": {
            "text/plain": [
              "0         16\n",
              "1         40\n",
              "2         32\n",
              "3         13\n",
              "4          1\n",
              "        ... \n",
              "10881    336\n",
              "10882    241\n",
              "10883    168\n",
              "10884    129\n",
              "10885     88\n",
              "Name: count, Length: 10886, dtype: int64"
            ]
          },
          "metadata": {},
          "execution_count": 27
        }
      ]
    },
    {
      "cell_type": "markdown",
      "metadata": {
        "id": "xH55BxtM_u2B"
      },
      "source": [
        "## 훈련(Train) / 검증(Validation) 세트 분할"
      ]
    },
    {
      "cell_type": "markdown",
      "metadata": {
        "id": "BBtOKY3y_u2B"
      },
      "source": [
        "- random_state=123\n",
        "- test_size=0.2"
      ]
    },
    {
      "cell_type": "code",
      "metadata": {
        "id": "NpUrImlq_u2B"
      },
      "source": [
        "from sklearn.model_selection import train_test_split\n",
        "## random_state ???\n",
        "## test_size = 0.2 -> 80% , 20%로 훈련, 테스트 데이터 나눔\n",
        "x_train, x_test, y_train, y_test = train_test_split(X, Y, random_state=123, test_size=0.2)"
      ],
      "execution_count": 28,
      "outputs": []
    },
    {
      "cell_type": "markdown",
      "metadata": {
        "id": "qsd-nR8u_u2B"
      },
      "source": [
        "## 모델 정의\n",
        "- RandomForestRegressor 사용\n",
        "    - n_estimators=500,random_state=123,n_jobs=1 적용"
      ]
    },
    {
      "cell_type": "code",
      "metadata": {
        "id": "5PDdGfEb_u2B",
        "colab": {
          "base_uri": "https://localhost:8080/"
        },
        "outputId": "a3d6e356-422f-420f-ea44-30d6f37cafa6"
      },
      "source": [
        "from sklearn.ensemble import RandomForestRegressor\n",
        "model = RandomForestRegressor(n_estimators=500, random_state=123, n_jobs=1).fit(x_train, y_train)\n",
        "model.score(x_train, y_train), model.score(x_test, y_test)"
      ],
      "execution_count": 29,
      "outputs": [
        {
          "output_type": "execute_result",
          "data": {
            "text/plain": [
              "(0.9933656573097778, 0.9468400208974246)"
            ]
          },
          "metadata": {},
          "execution_count": 29
        }
      ]
    },
    {
      "cell_type": "code",
      "metadata": {
        "id": "O57J1KAt_u2B",
        "colab": {
          "base_uri": "https://localhost:8080/"
        },
        "outputId": "6b64e6f6-fc18-4c74-9c49-5eebdd67a3f1"
      },
      "source": [
        "# x_test에 대한 예측\n",
        "# 결과 값은 pred 변수에 저장\n",
        "pred = model.predict(x_test)\n",
        "pred"
      ],
      "execution_count": 30,
      "outputs": [
        {
          "output_type": "execute_result",
          "data": {
            "text/plain": [
              "array([183.49 ,   3.054, 103.156, ..., 299.946, 327.378,   4.652])"
            ]
          },
          "metadata": {},
          "execution_count": 30
        }
      ]
    },
    {
      "cell_type": "markdown",
      "metadata": {
        "id": "adZ3s7ax_u2B"
      },
      "source": [
        "## 평가지표 & 검증 (Evaluation)"
      ]
    },
    {
      "cell_type": "code",
      "metadata": {
        "id": "Orwzas6B_u2C",
        "colab": {
          "base_uri": "https://localhost:8080/"
        },
        "outputId": "828db9c8-d583-409a-e22f-87e6db8d6f0f"
      },
      "source": [
        "# y_test와 pred 사이의 RMSLE 결과 확인 \n",
        "# 평가지표 결과 출력\n",
        "RMSLE(y_test, pred)"
      ],
      "execution_count": 31,
      "outputs": [
        {
          "output_type": "execute_result",
          "data": {
            "text/plain": [
              "0.3345960077569905"
            ]
          },
          "metadata": {},
          "execution_count": 31
        }
      ]
    },
    {
      "cell_type": "markdown",
      "metadata": {
        "id": "8zd-IGJS_u2C"
      },
      "source": [
        "## 예측 (Predict)"
      ]
    },
    {
      "cell_type": "code",
      "metadata": {
        "id": "Ja4u9esl_u2C"
      },
      "source": [
        "# test 데이터셋에 대한 예측\n",
        "prediction = model.predict(test[features])"
      ],
      "execution_count": 32,
      "outputs": []
    },
    {
      "cell_type": "markdown",
      "metadata": {
        "id": "JuMF-43f_u2C"
      },
      "source": [
        "# 1단계 제출"
      ]
    },
    {
      "cell_type": "code",
      "metadata": {
        "id": "3s55GfCd_u2C",
        "colab": {
          "base_uri": "https://localhost:8080/",
          "height": 423
        },
        "outputId": "660932f4-613f-4628-c7f1-a48e99c460fc"
      },
      "source": [
        "submission = pd.read_csv('./data/submission.csv')\n",
        "submission['count'] = prediction\n",
        "submission"
      ],
      "execution_count": 34,
      "outputs": [
        {
          "output_type": "execute_result",
          "data": {
            "text/html": [
              "<div>\n",
              "<style scoped>\n",
              "    .dataframe tbody tr th:only-of-type {\n",
              "        vertical-align: middle;\n",
              "    }\n",
              "\n",
              "    .dataframe tbody tr th {\n",
              "        vertical-align: top;\n",
              "    }\n",
              "\n",
              "    .dataframe thead th {\n",
              "        text-align: right;\n",
              "    }\n",
              "</style>\n",
              "<table border=\"1\" class=\"dataframe\">\n",
              "  <thead>\n",
              "    <tr style=\"text-align: right;\">\n",
              "      <th></th>\n",
              "      <th>datetime</th>\n",
              "      <th>count</th>\n",
              "    </tr>\n",
              "  </thead>\n",
              "  <tbody>\n",
              "    <tr>\n",
              "      <th>0</th>\n",
              "      <td>2011-01-20 00:00:00</td>\n",
              "      <td>14.024</td>\n",
              "    </tr>\n",
              "    <tr>\n",
              "      <th>1</th>\n",
              "      <td>2011-01-20 01:00:00</td>\n",
              "      <td>6.260</td>\n",
              "    </tr>\n",
              "    <tr>\n",
              "      <th>2</th>\n",
              "      <td>2011-01-20 02:00:00</td>\n",
              "      <td>6.656</td>\n",
              "    </tr>\n",
              "    <tr>\n",
              "      <th>3</th>\n",
              "      <td>2011-01-20 03:00:00</td>\n",
              "      <td>2.730</td>\n",
              "    </tr>\n",
              "    <tr>\n",
              "      <th>4</th>\n",
              "      <td>2011-01-20 04:00:00</td>\n",
              "      <td>2.352</td>\n",
              "    </tr>\n",
              "    <tr>\n",
              "      <th>...</th>\n",
              "      <td>...</td>\n",
              "      <td>...</td>\n",
              "    </tr>\n",
              "    <tr>\n",
              "      <th>6488</th>\n",
              "      <td>2012-12-31 19:00:00</td>\n",
              "      <td>317.008</td>\n",
              "    </tr>\n",
              "    <tr>\n",
              "      <th>6489</th>\n",
              "      <td>2012-12-31 20:00:00</td>\n",
              "      <td>209.494</td>\n",
              "    </tr>\n",
              "    <tr>\n",
              "      <th>6490</th>\n",
              "      <td>2012-12-31 21:00:00</td>\n",
              "      <td>165.216</td>\n",
              "    </tr>\n",
              "    <tr>\n",
              "      <th>6491</th>\n",
              "      <td>2012-12-31 22:00:00</td>\n",
              "      <td>117.136</td>\n",
              "    </tr>\n",
              "    <tr>\n",
              "      <th>6492</th>\n",
              "      <td>2012-12-31 23:00:00</td>\n",
              "      <td>72.850</td>\n",
              "    </tr>\n",
              "  </tbody>\n",
              "</table>\n",
              "<p>6493 rows × 2 columns</p>\n",
              "</div>"
            ],
            "text/plain": [
              "                 datetime    count\n",
              "0     2011-01-20 00:00:00   14.024\n",
              "1     2011-01-20 01:00:00    6.260\n",
              "2     2011-01-20 02:00:00    6.656\n",
              "3     2011-01-20 03:00:00    2.730\n",
              "4     2011-01-20 04:00:00    2.352\n",
              "...                   ...      ...\n",
              "6488  2012-12-31 19:00:00  317.008\n",
              "6489  2012-12-31 20:00:00  209.494\n",
              "6490  2012-12-31 21:00:00  165.216\n",
              "6491  2012-12-31 22:00:00  117.136\n",
              "6492  2012-12-31 23:00:00   72.850\n",
              "\n",
              "[6493 rows x 2 columns]"
            ]
          },
          "metadata": {},
          "execution_count": 34
        }
      ]
    },
    {
      "cell_type": "code",
      "metadata": {
        "id": "BGuFWdaxAPNm",
        "colab": {
          "base_uri": "https://localhost:8080/"
        },
        "outputId": "3036eda5-5208-4f87-81d5-5ea2c21b24b6"
      },
      "source": [
        "pjt.submit(submission)"
      ],
      "execution_count": 35,
      "outputs": [
        {
          "output_type": "stream",
          "name": "stdout",
          "text": [
            "파일을 저장하였습니다. 파일명: submission-04-46-57.csv\n",
            "제출 여부 :success\n",
            "오늘 제출 횟수 : 1\n",
            "제출 결과:0.48685\n"
          ]
        }
      ]
    },
    {
      "cell_type": "markdown",
      "metadata": {
        "id": "y3DNX_jI_u2D"
      },
      "source": [
        "# 2단계 Y Label 값 스케일 변환"
      ]
    },
    {
      "cell_type": "code",
      "metadata": {
        "colab": {
          "base_uri": "https://localhost:8080/",
          "height": 836
        },
        "id": "NGluEc-mFSVC",
        "outputId": "8bddaa2a-b384-4abb-f430-969cf776476f"
      },
      "source": [
        "train.plot(kind='box', figsize=(15,15), subplots=True, layout=(4,5))\n",
        "plt.show\n",
        "# casual, registerd, count의 분포를 균등하게 하는, 즉 스케일 변환 작업을 하고 나서 다시 학습"
      ],
      "execution_count": 39,
      "outputs": [
        {
          "output_type": "execute_result",
          "data": {
            "text/plain": [
              "<function matplotlib.pyplot.show>"
            ]
          },
          "metadata": {},
          "execution_count": 39
        },
        {
          "output_type": "display_data",
          "data": {
            "image/png": "[encoded data removed]",
            "text/plain": [
              "<Figure size 1080x1080 with 20 Axes>"
            ]
          },
          "metadata": {
            "needs_background": "light"
          }
        }
      ]
    },
    {
      "cell_type": "code",
      "metadata": {
        "id": "DdlAUk4u_u2D",
        "colab": {
          "base_uri": "https://localhost:8080/",
          "height": 791
        },
        "outputId": "1adfbf05-a5d9-4cfc-b78d-21b4da6746c8"
      },
      "source": [
        "# casual, registered, count에 대하여 log1p 변환을 하고\n",
        "# casual_log, registered_log, count_log 컬럼을 생성한 후 대입합니다.\n",
        "# train 데이터셋 적용\n",
        "train['casual_log'] = np.log1p(train['casual'])\n",
        "train['registered_log'] = np.log1p(train['registered'])\n",
        "train['count_log'] = np.log1p(train['count'])\n",
        "train"
      ],
      "execution_count": 40,
      "outputs": [
        {
          "output_type": "execute_result",
          "data": {
            "text/html": [
              "<div>\n",
              "<style scoped>\n",
              "    .dataframe tbody tr th:only-of-type {\n",
              "        vertical-align: middle;\n",
              "    }\n",
              "\n",
              "    .dataframe tbody tr th {\n",
              "        vertical-align: top;\n",
              "    }\n",
              "\n",
              "    .dataframe thead th {\n",
              "        text-align: right;\n",
              "    }\n",
              "</style>\n",
              "<table border=\"1\" class=\"dataframe\">\n",
              "  <thead>\n",
              "    <tr style=\"text-align: right;\">\n",
              "      <th></th>\n",
              "      <th>datetime</th>\n",
              "      <th>season</th>\n",
              "      <th>holiday</th>\n",
              "      <th>workingday</th>\n",
              "      <th>weather</th>\n",
              "      <th>temp</th>\n",
              "      <th>atemp</th>\n",
              "      <th>humidity</th>\n",
              "      <th>windspeed</th>\n",
              "      <th>casual</th>\n",
              "      <th>registered</th>\n",
              "      <th>count</th>\n",
              "      <th>year</th>\n",
              "      <th>month</th>\n",
              "      <th>day</th>\n",
              "      <th>dayofweek</th>\n",
              "      <th>quarter</th>\n",
              "      <th>hour</th>\n",
              "      <th>minute</th>\n",
              "      <th>second</th>\n",
              "      <th>casual_log</th>\n",
              "      <th>registered_log</th>\n",
              "      <th>count_log</th>\n",
              "    </tr>\n",
              "  </thead>\n",
              "  <tbody>\n",
              "    <tr>\n",
              "      <th>0</th>\n",
              "      <td>2011-01-01 00:00:00</td>\n",
              "      <td>1</td>\n",
              "      <td>0</td>\n",
              "      <td>0</td>\n",
              "      <td>1</td>\n",
              "      <td>9.84</td>\n",
              "      <td>14.395</td>\n",
              "      <td>81</td>\n",
              "      <td>0.0000</td>\n",
              "      <td>3</td>\n",
              "      <td>13</td>\n",
              "      <td>16</td>\n",
              "      <td>2011</td>\n",
              "      <td>1</td>\n",
              "      <td>1</td>\n",
              "      <td>5</td>\n",
              "      <td>1</td>\n",
              "      <td>0</td>\n",
              "      <td>0</td>\n",
              "      <td>0</td>\n",
              "      <td>1.386294</td>\n",
              "      <td>2.639057</td>\n",
              "      <td>2.833213</td>\n",
              "    </tr>\n",
              "    <tr>\n",
              "      <th>1</th>\n",
              "      <td>2011-01-01 01:00:00</td>\n",
              "      <td>1</td>\n",
              "      <td>0</td>\n",
              "      <td>0</td>\n",
              "      <td>1</td>\n",
              "      <td>9.02</td>\n",
              "      <td>13.635</td>\n",
              "      <td>80</td>\n",
              "      <td>0.0000</td>\n",
              "      <td>8</td>\n",
              "      <td>32</td>\n",
              "      <td>40</td>\n",
              "      <td>2011</td>\n",
              "      <td>1</td>\n",
              "      <td>1</td>\n",
              "      <td>5</td>\n",
              "      <td>1</td>\n",
              "      <td>1</td>\n",
              "      <td>0</td>\n",
              "      <td>0</td>\n",
              "      <td>2.197225</td>\n",
              "      <td>3.496508</td>\n",
              "      <td>3.713572</td>\n",
              "    </tr>\n",
              "    <tr>\n",
              "      <th>2</th>\n",
              "      <td>2011-01-01 02:00:00</td>\n",
              "      <td>1</td>\n",
              "      <td>0</td>\n",
              "      <td>0</td>\n",
              "      <td>1</td>\n",
              "      <td>9.02</td>\n",
              "      <td>13.635</td>\n",
              "      <td>80</td>\n",
              "      <td>0.0000</td>\n",
              "      <td>5</td>\n",
              "      <td>27</td>\n",
              "      <td>32</td>\n",
              "      <td>2011</td>\n",
              "      <td>1</td>\n",
              "      <td>1</td>\n",
              "      <td>5</td>\n",
              "      <td>1</td>\n",
              "      <td>2</td>\n",
              "      <td>0</td>\n",
              "      <td>0</td>\n",
              "      <td>1.791759</td>\n",
              "      <td>3.332205</td>\n",
              "      <td>3.496508</td>\n",
              "    </tr>\n",
              "    <tr>\n",
              "      <th>3</th>\n",
              "      <td>2011-01-01 03:00:00</td>\n",
              "      <td>1</td>\n",
              "      <td>0</td>\n",
              "      <td>0</td>\n",
              "      <td>1</td>\n",
              "      <td>9.84</td>\n",
              "      <td>14.395</td>\n",
              "      <td>75</td>\n",
              "      <td>0.0000</td>\n",
              "      <td>3</td>\n",
              "      <td>10</td>\n",
              "      <td>13</td>\n",
              "      <td>2011</td>\n",
              "      <td>1</td>\n",
              "      <td>1</td>\n",
              "      <td>5</td>\n",
              "      <td>1</td>\n",
              "      <td>3</td>\n",
              "      <td>0</td>\n",
              "      <td>0</td>\n",
              "      <td>1.386294</td>\n",
              "      <td>2.397895</td>\n",
              "      <td>2.639057</td>\n",
              "    </tr>\n",
              "    <tr>\n",
              "      <th>4</th>\n",
              "      <td>2011-01-01 04:00:00</td>\n",
              "      <td>1</td>\n",
              "      <td>0</td>\n",
              "      <td>0</td>\n",
              "      <td>1</td>\n",
              "      <td>9.84</td>\n",
              "      <td>14.395</td>\n",
              "      <td>75</td>\n",
              "      <td>0.0000</td>\n",
              "      <td>0</td>\n",
              "      <td>1</td>\n",
              "      <td>1</td>\n",
              "      <td>2011</td>\n",
              "      <td>1</td>\n",
              "      <td>1</td>\n",
              "      <td>5</td>\n",
              "      <td>1</td>\n",
              "      <td>4</td>\n",
              "      <td>0</td>\n",
              "      <td>0</td>\n",
              "      <td>0.000000</td>\n",
              "      <td>0.693147</td>\n",
              "      <td>0.693147</td>\n",
              "    </tr>\n",
              "    <tr>\n",
              "      <th>...</th>\n",
              "      <td>...</td>\n",
              "      <td>...</td>\n",
              "      <td>...</td>\n",
              "      <td>...</td>\n",
              "      <td>...</td>\n",
              "      <td>...</td>\n",
              "      <td>...</td>\n",
              "      <td>...</td>\n",
              "      <td>...</td>\n",
              "      <td>...</td>\n",
              "      <td>...</td>\n",
              "      <td>...</td>\n",
              "      <td>...</td>\n",
              "      <td>...</td>\n",
              "      <td>...</td>\n",
              "      <td>...</td>\n",
              "      <td>...</td>\n",
              "      <td>...</td>\n",
              "      <td>...</td>\n",
              "      <td>...</td>\n",
              "      <td>...</td>\n",
              "      <td>...</td>\n",
              "      <td>...</td>\n",
              "    </tr>\n",
              "    <tr>\n",
              "      <th>10881</th>\n",
              "      <td>2012-12-19 19:00:00</td>\n",
              "      <td>4</td>\n",
              "      <td>0</td>\n",
              "      <td>1</td>\n",
              "      <td>1</td>\n",
              "      <td>15.58</td>\n",
              "      <td>19.695</td>\n",
              "      <td>50</td>\n",
              "      <td>26.0027</td>\n",
              "      <td>7</td>\n",
              "      <td>329</td>\n",
              "      <td>336</td>\n",
              "      <td>2012</td>\n",
              "      <td>12</td>\n",
              "      <td>19</td>\n",
              "      <td>2</td>\n",
              "      <td>4</td>\n",
              "      <td>19</td>\n",
              "      <td>0</td>\n",
              "      <td>0</td>\n",
              "      <td>2.079442</td>\n",
              "      <td>5.799093</td>\n",
              "      <td>5.820083</td>\n",
              "    </tr>\n",
              "    <tr>\n",
              "      <th>10882</th>\n",
              "      <td>2012-12-19 20:00:00</td>\n",
              "      <td>4</td>\n",
              "      <td>0</td>\n",
              "      <td>1</td>\n",
              "      <td>1</td>\n",
              "      <td>14.76</td>\n",
              "      <td>17.425</td>\n",
              "      <td>57</td>\n",
              "      <td>15.0013</td>\n",
              "      <td>10</td>\n",
              "      <td>231</td>\n",
              "      <td>241</td>\n",
              "      <td>2012</td>\n",
              "      <td>12</td>\n",
              "      <td>19</td>\n",
              "      <td>2</td>\n",
              "      <td>4</td>\n",
              "      <td>20</td>\n",
              "      <td>0</td>\n",
              "      <td>0</td>\n",
              "      <td>2.397895</td>\n",
              "      <td>5.446737</td>\n",
              "      <td>5.488938</td>\n",
              "    </tr>\n",
              "    <tr>\n",
              "      <th>10883</th>\n",
              "      <td>2012-12-19 21:00:00</td>\n",
              "      <td>4</td>\n",
              "      <td>0</td>\n",
              "      <td>1</td>\n",
              "      <td>1</td>\n",
              "      <td>13.94</td>\n",
              "      <td>15.910</td>\n",
              "      <td>61</td>\n",
              "      <td>15.0013</td>\n",
              "      <td>4</td>\n",
              "      <td>164</td>\n",
              "      <td>168</td>\n",
              "      <td>2012</td>\n",
              "      <td>12</td>\n",
              "      <td>19</td>\n",
              "      <td>2</td>\n",
              "      <td>4</td>\n",
              "      <td>21</td>\n",
              "      <td>0</td>\n",
              "      <td>0</td>\n",
              "      <td>1.609438</td>\n",
              "      <td>5.105945</td>\n",
              "      <td>5.129899</td>\n",
              "    </tr>\n",
              "    <tr>\n",
              "      <th>10884</th>\n",
              "      <td>2012-12-19 22:00:00</td>\n",
              "      <td>4</td>\n",
              "      <td>0</td>\n",
              "      <td>1</td>\n",
              "      <td>1</td>\n",
              "      <td>13.94</td>\n",
              "      <td>17.425</td>\n",
              "      <td>61</td>\n",
              "      <td>6.0032</td>\n",
              "      <td>12</td>\n",
              "      <td>117</td>\n",
              "      <td>129</td>\n",
              "      <td>2012</td>\n",
              "      <td>12</td>\n",
              "      <td>19</td>\n",
              "      <td>2</td>\n",
              "      <td>4</td>\n",
              "      <td>22</td>\n",
              "      <td>0</td>\n",
              "      <td>0</td>\n",
              "      <td>2.564949</td>\n",
              "      <td>4.770685</td>\n",
              "      <td>4.867534</td>\n",
              "    </tr>\n",
              "    <tr>\n",
              "      <th>10885</th>\n",
              "      <td>2012-12-19 23:00:00</td>\n",
              "      <td>4</td>\n",
              "      <td>0</td>\n",
              "      <td>1</td>\n",
              "      <td>1</td>\n",
              "      <td>13.12</td>\n",
              "      <td>16.665</td>\n",
              "      <td>66</td>\n",
              "      <td>8.9981</td>\n",
              "      <td>4</td>\n",
              "      <td>84</td>\n",
              "      <td>88</td>\n",
              "      <td>2012</td>\n",
              "      <td>12</td>\n",
              "      <td>19</td>\n",
              "      <td>2</td>\n",
              "      <td>4</td>\n",
              "      <td>23</td>\n",
              "      <td>0</td>\n",
              "      <td>0</td>\n",
              "      <td>1.609438</td>\n",
              "      <td>4.442651</td>\n",
              "      <td>4.488636</td>\n",
              "    </tr>\n",
              "  </tbody>\n",
              "</table>\n",
              "<p>10886 rows × 23 columns</p>\n",
              "</div>"
            ],
            "text/plain": [
              "                 datetime  season  ...  registered_log  count_log\n",
              "0     2011-01-01 00:00:00       1  ...        2.639057   2.833213\n",
              "1     2011-01-01 01:00:00       1  ...        3.496508   3.713572\n",
              "2     2011-01-01 02:00:00       1  ...        3.332205   3.496508\n",
              "3     2011-01-01 03:00:00       1  ...        2.397895   2.639057\n",
              "4     2011-01-01 04:00:00       1  ...        0.693147   0.693147\n",
              "...                   ...     ...  ...             ...        ...\n",
              "10881 2012-12-19 19:00:00       4  ...        5.799093   5.820083\n",
              "10882 2012-12-19 20:00:00       4  ...        5.446737   5.488938\n",
              "10883 2012-12-19 21:00:00       4  ...        5.105945   5.129899\n",
              "10884 2012-12-19 22:00:00       4  ...        4.770685   4.867534\n",
              "10885 2012-12-19 23:00:00       4  ...        4.442651   4.488636\n",
              "\n",
              "[10886 rows x 23 columns]"
            ]
          },
          "metadata": {},
          "execution_count": 40
        }
      ]
    },
    {
      "cell_type": "code",
      "metadata": {
        "id": "8mZpIZ9i_u2D"
      },
      "source": [
        "# 데이터 분할, random_state=123, test_size=0.2 설정\n",
        "# y에는 'count_log' 지정\n",
        "x_train, x_test, y_train, y_test = train_test_split(X, train['count_log'], random_state=123, test_size=0.2)"
      ],
      "execution_count": 41,
      "outputs": []
    },
    {
      "cell_type": "markdown",
      "metadata": {
        "id": "YRxe6Nz0_u2D"
      },
      "source": [
        "- RandomForestRegressor 사용\n",
        "    - n_estimators=500,random_state=123,n_jobs=1 적용"
      ]
    },
    {
      "cell_type": "code",
      "metadata": {
        "colab": {
          "base_uri": "https://localhost:8080/"
        },
        "id": "8RO_Kf0JF_Wd",
        "outputId": "b2546e84-a7ad-43e4-8211-74be0da79855"
      },
      "source": [
        "model_log = RandomForestRegressor(n_estimators=500, random_state=123, n_jobs=1).fit(x_train, y_train)\n",
        "model_log.score(x_train, y_train), model_log.score(x_test, y_test)"
      ],
      "execution_count": 42,
      "outputs": [
        {
          "output_type": "execute_result",
          "data": {
            "text/plain": [
              "(0.9938754388349956, 0.9537572155259949)"
            ]
          },
          "metadata": {},
          "execution_count": 42
        }
      ]
    },
    {
      "cell_type": "code",
      "metadata": {
        "id": "tpwrFgnH_u2D"
      },
      "source": [
        "# test 데이터셋에 대한 예측\n",
        "prediction = model_log.predict(test[features])"
      ],
      "execution_count": 43,
      "outputs": []
    },
    {
      "cell_type": "code",
      "metadata": {
        "id": "o6ce4rCM_u2D"
      },
      "source": [
        "# expm1 함수를 이용하여 예측된 결과를 변환\n",
        "## log1p 변환을 했으므로 expm1으로 다시 돌리는거 같은데?\n",
        "prediction = np.expm1(prediction)"
      ],
      "execution_count": 44,
      "outputs": []
    },
    {
      "cell_type": "code",
      "metadata": {
        "id": "RpuPlybA_u2D",
        "colab": {
          "base_uri": "https://localhost:8080/"
        },
        "outputId": "e07834f9-3507-46c1-cf71-7dbc6b67bb6c"
      },
      "source": [
        "submission['count'] = prediction\n",
        "pjt.submit(submission)"
      ],
      "execution_count": 45,
      "outputs": [
        {
          "output_type": "stream",
          "name": "stdout",
          "text": [
            "파일을 저장하였습니다. 파일명: submission-04-53-26.csv\n",
            "제출 여부 :success\n",
            "오늘 제출 횟수 : 2\n",
            "제출 결과:0.44888\n"
          ]
        }
      ]
    },
    {
      "cell_type": "markdown",
      "metadata": {
        "id": "UuWaP3a6_u2E"
      },
      "source": [
        "# 3단계 Registered / Casual 나누어 예측 모델 생성\n",
        "\n",
        "`count`는 `registered` + `casual` 입니다.\n",
        "\n",
        "**총 대여량 = 등록된 회원 + 일반 회원 이 빌린 숫자의 합**입니다.\n",
        "\n",
        "registered를 예측하는 모델 / causal을 예측하는 모델 2개를 만들어 각각 예측 후 합산된 결과를 도출합니다.\n",
        "\n",
        "**요구사항**\n",
        "- registered_log를 y값으로 예측하는 모델 생성\n",
        "- casual_log를 y값으로 예측하는 모델 생성\n",
        "- train_test_split(random_state=123, test_size=0.2)\n",
        "- RandomForestRegressor 알고리즘 사용 (random_state=123, n_estimators=500)"
      ]
    },
    {
      "cell_type": "code",
      "metadata": {
        "id": "TqBSJC53_u2E",
        "colab": {
          "base_uri": "https://localhost:8080/",
          "height": 443
        },
        "outputId": "1540d97b-11e9-414c-c74d-462426e98be8"
      },
      "source": [
        "# x에는 정의한 train[features], \n",
        "X = train[features]\n",
        "X"
      ],
      "execution_count": 46,
      "outputs": [
        {
          "output_type": "execute_result",
          "data": {
            "text/html": [
              "<div>\n",
              "<style scoped>\n",
              "    .dataframe tbody tr th:only-of-type {\n",
              "        vertical-align: middle;\n",
              "    }\n",
              "\n",
              "    .dataframe tbody tr th {\n",
              "        vertical-align: top;\n",
              "    }\n",
              "\n",
              "    .dataframe thead th {\n",
              "        text-align: right;\n",
              "    }\n",
              "</style>\n",
              "<table border=\"1\" class=\"dataframe\">\n",
              "  <thead>\n",
              "    <tr style=\"text-align: right;\">\n",
              "      <th></th>\n",
              "      <th>season</th>\n",
              "      <th>holiday</th>\n",
              "      <th>workingday</th>\n",
              "      <th>weather</th>\n",
              "      <th>temp</th>\n",
              "      <th>atemp</th>\n",
              "      <th>humidity</th>\n",
              "      <th>windspeed</th>\n",
              "      <th>year</th>\n",
              "      <th>month</th>\n",
              "      <th>day</th>\n",
              "      <th>dayofweek</th>\n",
              "      <th>quarter</th>\n",
              "      <th>hour</th>\n",
              "      <th>minute</th>\n",
              "      <th>second</th>\n",
              "    </tr>\n",
              "  </thead>\n",
              "  <tbody>\n",
              "    <tr>\n",
              "      <th>0</th>\n",
              "      <td>1</td>\n",
              "      <td>0</td>\n",
              "      <td>0</td>\n",
              "      <td>1</td>\n",
              "      <td>9.84</td>\n",
              "      <td>14.395</td>\n",
              "      <td>81</td>\n",
              "      <td>0.0000</td>\n",
              "      <td>2011</td>\n",
              "      <td>1</td>\n",
              "      <td>1</td>\n",
              "      <td>5</td>\n",
              "      <td>1</td>\n",
              "      <td>0</td>\n",
              "      <td>0</td>\n",
              "      <td>0</td>\n",
              "    </tr>\n",
              "    <tr>\n",
              "      <th>1</th>\n",
              "      <td>1</td>\n",
              "      <td>0</td>\n",
              "      <td>0</td>\n",
              "      <td>1</td>\n",
              "      <td>9.02</td>\n",
              "      <td>13.635</td>\n",
              "      <td>80</td>\n",
              "      <td>0.0000</td>\n",
              "      <td>2011</td>\n",
              "      <td>1</td>\n",
              "      <td>1</td>\n",
              "      <td>5</td>\n",
              "      <td>1</td>\n",
              "      <td>1</td>\n",
              "      <td>0</td>\n",
              "      <td>0</td>\n",
              "    </tr>\n",
              "    <tr>\n",
              "      <th>2</th>\n",
              "      <td>1</td>\n",
              "      <td>0</td>\n",
              "      <td>0</td>\n",
              "      <td>1</td>\n",
              "      <td>9.02</td>\n",
              "      <td>13.635</td>\n",
              "      <td>80</td>\n",
              "      <td>0.0000</td>\n",
              "      <td>2011</td>\n",
              "      <td>1</td>\n",
              "      <td>1</td>\n",
              "      <td>5</td>\n",
              "      <td>1</td>\n",
              "      <td>2</td>\n",
              "      <td>0</td>\n",
              "      <td>0</td>\n",
              "    </tr>\n",
              "    <tr>\n",
              "      <th>3</th>\n",
              "      <td>1</td>\n",
              "      <td>0</td>\n",
              "      <td>0</td>\n",
              "      <td>1</td>\n",
              "      <td>9.84</td>\n",
              "      <td>14.395</td>\n",
              "      <td>75</td>\n",
              "      <td>0.0000</td>\n",
              "      <td>2011</td>\n",
              "      <td>1</td>\n",
              "      <td>1</td>\n",
              "      <td>5</td>\n",
              "      <td>1</td>\n",
              "      <td>3</td>\n",
              "      <td>0</td>\n",
              "      <td>0</td>\n",
              "    </tr>\n",
              "    <tr>\n",
              "      <th>4</th>\n",
              "      <td>1</td>\n",
              "      <td>0</td>\n",
              "      <td>0</td>\n",
              "      <td>1</td>\n",
              "      <td>9.84</td>\n",
              "      <td>14.395</td>\n",
              "      <td>75</td>\n",
              "      <td>0.0000</td>\n",
              "      <td>2011</td>\n",
              "      <td>1</td>\n",
              "      <td>1</td>\n",
              "      <td>5</td>\n",
              "      <td>1</td>\n",
              "      <td>4</td>\n",
              "      <td>0</td>\n",
              "      <td>0</td>\n",
              "    </tr>\n",
              "    <tr>\n",
              "      <th>...</th>\n",
              "      <td>...</td>\n",
              "      <td>...</td>\n",
              "      <td>...</td>\n",
              "      <td>...</td>\n",
              "      <td>...</td>\n",
              "      <td>...</td>\n",
              "      <td>...</td>\n",
              "      <td>...</td>\n",
              "      <td>...</td>\n",
              "      <td>...</td>\n",
              "      <td>...</td>\n",
              "      <td>...</td>\n",
              "      <td>...</td>\n",
              "      <td>...</td>\n",
              "      <td>...</td>\n",
              "      <td>...</td>\n",
              "    </tr>\n",
              "    <tr>\n",
              "      <th>10881</th>\n",
              "      <td>4</td>\n",
              "      <td>0</td>\n",
              "      <td>1</td>\n",
              "      <td>1</td>\n",
              "      <td>15.58</td>\n",
              "      <td>19.695</td>\n",
              "      <td>50</td>\n",
              "      <td>26.0027</td>\n",
              "      <td>2012</td>\n",
              "      <td>12</td>\n",
              "      <td>19</td>\n",
              "      <td>2</td>\n",
              "      <td>4</td>\n",
              "      <td>19</td>\n",
              "      <td>0</td>\n",
              "      <td>0</td>\n",
              "    </tr>\n",
              "    <tr>\n",
              "      <th>10882</th>\n",
              "      <td>4</td>\n",
              "      <td>0</td>\n",
              "      <td>1</td>\n",
              "      <td>1</td>\n",
              "      <td>14.76</td>\n",
              "      <td>17.425</td>\n",
              "      <td>57</td>\n",
              "      <td>15.0013</td>\n",
              "      <td>2012</td>\n",
              "      <td>12</td>\n",
              "      <td>19</td>\n",
              "      <td>2</td>\n",
              "      <td>4</td>\n",
              "      <td>20</td>\n",
              "      <td>0</td>\n",
              "      <td>0</td>\n",
              "    </tr>\n",
              "    <tr>\n",
              "      <th>10883</th>\n",
              "      <td>4</td>\n",
              "      <td>0</td>\n",
              "      <td>1</td>\n",
              "      <td>1</td>\n",
              "      <td>13.94</td>\n",
              "      <td>15.910</td>\n",
              "      <td>61</td>\n",
              "      <td>15.0013</td>\n",
              "      <td>2012</td>\n",
              "      <td>12</td>\n",
              "      <td>19</td>\n",
              "      <td>2</td>\n",
              "      <td>4</td>\n",
              "      <td>21</td>\n",
              "      <td>0</td>\n",
              "      <td>0</td>\n",
              "    </tr>\n",
              "    <tr>\n",
              "      <th>10884</th>\n",
              "      <td>4</td>\n",
              "      <td>0</td>\n",
              "      <td>1</td>\n",
              "      <td>1</td>\n",
              "      <td>13.94</td>\n",
              "      <td>17.425</td>\n",
              "      <td>61</td>\n",
              "      <td>6.0032</td>\n",
              "      <td>2012</td>\n",
              "      <td>12</td>\n",
              "      <td>19</td>\n",
              "      <td>2</td>\n",
              "      <td>4</td>\n",
              "      <td>22</td>\n",
              "      <td>0</td>\n",
              "      <td>0</td>\n",
              "    </tr>\n",
              "    <tr>\n",
              "      <th>10885</th>\n",
              "      <td>4</td>\n",
              "      <td>0</td>\n",
              "      <td>1</td>\n",
              "      <td>1</td>\n",
              "      <td>13.12</td>\n",
              "      <td>16.665</td>\n",
              "      <td>66</td>\n",
              "      <td>8.9981</td>\n",
              "      <td>2012</td>\n",
              "      <td>12</td>\n",
              "      <td>19</td>\n",
              "      <td>2</td>\n",
              "      <td>4</td>\n",
              "      <td>23</td>\n",
              "      <td>0</td>\n",
              "      <td>0</td>\n",
              "    </tr>\n",
              "  </tbody>\n",
              "</table>\n",
              "<p>10886 rows × 16 columns</p>\n",
              "</div>"
            ],
            "text/plain": [
              "       season  holiday  workingday  weather  ...  quarter  hour  minute  second\n",
              "0           1        0           0        1  ...        1     0       0       0\n",
              "1           1        0           0        1  ...        1     1       0       0\n",
              "2           1        0           0        1  ...        1     2       0       0\n",
              "3           1        0           0        1  ...        1     3       0       0\n",
              "4           1        0           0        1  ...        1     4       0       0\n",
              "...       ...      ...         ...      ...  ...      ...   ...     ...     ...\n",
              "10881       4        0           1        1  ...        4    19       0       0\n",
              "10882       4        0           1        1  ...        4    20       0       0\n",
              "10883       4        0           1        1  ...        4    21       0       0\n",
              "10884       4        0           1        1  ...        4    22       0       0\n",
              "10885       4        0           1        1  ...        4    23       0       0\n",
              "\n",
              "[10886 rows x 16 columns]"
            ]
          },
          "metadata": {},
          "execution_count": 46
        }
      ]
    },
    {
      "cell_type": "code",
      "metadata": {
        "colab": {
          "base_uri": "https://localhost:8080/",
          "height": 423
        },
        "id": "MLBXKzDUG6M4",
        "outputId": "4d6d52c1-8949-469d-bc8f-92b7e6117274"
      },
      "source": [
        "#y에는 casual_log','registered_log', 'count' 지정\n",
        "Y = train[['casual_log','registered_log','count']]\n",
        "Y"
      ],
      "execution_count": 48,
      "outputs": [
        {
          "output_type": "execute_result",
          "data": {
            "text/html": [
              "<div>\n",
              "<style scoped>\n",
              "    .dataframe tbody tr th:only-of-type {\n",
              "        vertical-align: middle;\n",
              "    }\n",
              "\n",
              "    .dataframe tbody tr th {\n",
              "        vertical-align: top;\n",
              "    }\n",
              "\n",
              "    .dataframe thead th {\n",
              "        text-align: right;\n",
              "    }\n",
              "</style>\n",
              "<table border=\"1\" class=\"dataframe\">\n",
              "  <thead>\n",
              "    <tr style=\"text-align: right;\">\n",
              "      <th></th>\n",
              "      <th>casual_log</th>\n",
              "      <th>registered_log</th>\n",
              "      <th>count</th>\n",
              "    </tr>\n",
              "  </thead>\n",
              "  <tbody>\n",
              "    <tr>\n",
              "      <th>0</th>\n",
              "      <td>1.386294</td>\n",
              "      <td>2.639057</td>\n",
              "      <td>16</td>\n",
              "    </tr>\n",
              "    <tr>\n",
              "      <th>1</th>\n",
              "      <td>2.197225</td>\n",
              "      <td>3.496508</td>\n",
              "      <td>40</td>\n",
              "    </tr>\n",
              "    <tr>\n",
              "      <th>2</th>\n",
              "      <td>1.791759</td>\n",
              "      <td>3.332205</td>\n",
              "      <td>32</td>\n",
              "    </tr>\n",
              "    <tr>\n",
              "      <th>3</th>\n",
              "      <td>1.386294</td>\n",
              "      <td>2.397895</td>\n",
              "      <td>13</td>\n",
              "    </tr>\n",
              "    <tr>\n",
              "      <th>4</th>\n",
              "      <td>0.000000</td>\n",
              "      <td>0.693147</td>\n",
              "      <td>1</td>\n",
              "    </tr>\n",
              "    <tr>\n",
              "      <th>...</th>\n",
              "      <td>...</td>\n",
              "      <td>...</td>\n",
              "      <td>...</td>\n",
              "    </tr>\n",
              "    <tr>\n",
              "      <th>10881</th>\n",
              "      <td>2.079442</td>\n",
              "      <td>5.799093</td>\n",
              "      <td>336</td>\n",
              "    </tr>\n",
              "    <tr>\n",
              "      <th>10882</th>\n",
              "      <td>2.397895</td>\n",
              "      <td>5.446737</td>\n",
              "      <td>241</td>\n",
              "    </tr>\n",
              "    <tr>\n",
              "      <th>10883</th>\n",
              "      <td>1.609438</td>\n",
              "      <td>5.105945</td>\n",
              "      <td>168</td>\n",
              "    </tr>\n",
              "    <tr>\n",
              "      <th>10884</th>\n",
              "      <td>2.564949</td>\n",
              "      <td>4.770685</td>\n",
              "      <td>129</td>\n",
              "    </tr>\n",
              "    <tr>\n",
              "      <th>10885</th>\n",
              "      <td>1.609438</td>\n",
              "      <td>4.442651</td>\n",
              "      <td>88</td>\n",
              "    </tr>\n",
              "  </tbody>\n",
              "</table>\n",
              "<p>10886 rows × 3 columns</p>\n",
              "</div>"
            ],
            "text/plain": [
              "       casual_log  registered_log  count\n",
              "0        1.386294        2.639057     16\n",
              "1        2.197225        3.496508     40\n",
              "2        1.791759        3.332205     32\n",
              "3        1.386294        2.397895     13\n",
              "4        0.000000        0.693147      1\n",
              "...           ...             ...    ...\n",
              "10881    2.079442        5.799093    336\n",
              "10882    2.397895        5.446737    241\n",
              "10883    1.609438        5.105945    168\n",
              "10884    2.564949        4.770685    129\n",
              "10885    1.609438        4.442651     88\n",
              "\n",
              "[10886 rows x 3 columns]"
            ]
          },
          "metadata": {},
          "execution_count": 48
        }
      ]
    },
    {
      "cell_type": "markdown",
      "metadata": {
        "id": "PtniUmgt_u2E"
      },
      "source": [
        "## 모델 정의"
      ]
    },
    {
      "cell_type": "code",
      "metadata": {
        "id": "BvV7AMZ1_u2E",
        "colab": {
          "base_uri": "https://localhost:8080/"
        },
        "outputId": "8d6bdecf-08bc-44ba-91d5-c0aefb58176f"
      },
      "source": [
        "# rfc_reg => RandomForestRegressor 를 생성, n_estimators=500, random_state=123\n",
        "# y값: Y['registered_log'] 변수로 설정\n",
        "rfc_reg = RandomForestRegressor(n_estimators=500, random_state=123, n_jobs=1).fit(X, Y['registered_log'])\n",
        "rfc_reg.score(X, Y['registered_log'])"
      ],
      "execution_count": 49,
      "outputs": [
        {
          "output_type": "execute_result",
          "data": {
            "text/plain": [
              "0.9941875004526082"
            ]
          },
          "metadata": {},
          "execution_count": 49
        }
      ]
    },
    {
      "cell_type": "code",
      "metadata": {
        "id": "tt2Iz-Q-_u2E",
        "colab": {
          "base_uri": "https://localhost:8080/"
        },
        "outputId": "e0c527b8-3a2e-4df3-dcfe-6385e34a0dd2"
      },
      "source": [
        "# rfc_cas => RandomForestRegressor 를 생성, n_estimators=750, random_state=123\n",
        "# y값: Y['casual_log'] 변수로 설정\n",
        "rfc_cas = RandomForestRegressor(n_estimators=750, random_state=123, n_jobs=1).fit(X, Y['casual_log'])\n",
        "rfc_cas.score(X, Y['casual_log'])"
      ],
      "execution_count": 50,
      "outputs": [
        {
          "output_type": "execute_result",
          "data": {
            "text/plain": [
              "0.9862611822707016"
            ]
          },
          "metadata": {},
          "execution_count": 50
        }
      ]
    },
    {
      "cell_type": "markdown",
      "metadata": {
        "id": "5m17lJKj_u2E"
      },
      "source": [
        "## 예측 결과 확인"
      ]
    },
    {
      "cell_type": "markdown",
      "metadata": {
        "id": "KxJbR8X3_u2E"
      },
      "source": [
        "## registered / casual 각각 예측"
      ]
    },
    {
      "cell_type": "code",
      "metadata": {
        "id": "AfM5scnH_u2E"
      },
      "source": [
        "# test[features]예측\n",
        "# rfc_reg 모델로 예측\n",
        "rfc_reg_val = rfc_reg.predict(test[features])\n",
        "# 예측값 exp1 변환\n",
        "rfc_reg_pred = np.expm1(rfc_reg_val)"
      ],
      "execution_count": 51,
      "outputs": []
    },
    {
      "cell_type": "code",
      "metadata": {
        "id": "xvFruDAZ_u2E"
      },
      "source": [
        "# rfc_cas 모델로 예측\n",
        "rfc_cas_val = rfc_cas.predict(test[features])\n",
        "# 예측값 exp1 변환\n",
        "rfc_cas_pred = np.expm1(rfc_cas_val)"
      ],
      "execution_count": 52,
      "outputs": []
    },
    {
      "cell_type": "code",
      "metadata": {
        "id": "t0ejh5AT_u2F"
      },
      "source": [
        "# rfc_pred 변수에 결과를 합산합니다.\n",
        "rfc_pred = rfc_reg_pred + rfc_cas_pred"
      ],
      "execution_count": 53,
      "outputs": []
    },
    {
      "cell_type": "code",
      "metadata": {
        "id": "gQ9yXgyr_u2F",
        "colab": {
          "base_uri": "https://localhost:8080/"
        },
        "outputId": "e2677460-eac6-4a54-e31c-8c56339bec44"
      },
      "source": [
        "submission['count'] = rfc_pred\n",
        "pjt.submit(submission)"
      ],
      "execution_count": 54,
      "outputs": [
        {
          "output_type": "stream",
          "name": "stdout",
          "text": [
            "파일을 저장하였습니다. 파일명: submission-05-00-21.csv\n",
            "제출 여부 :success\n",
            "오늘 제출 횟수 : 3\n",
            "제출 결과:0.44151\n"
          ]
        }
      ]
    },
    {
      "cell_type": "markdown",
      "metadata": {
        "id": "7NbUWCYZ_u2F"
      },
      "source": [
        "## 4단계 다른 알고리즘 사용"
      ]
    },
    {
      "cell_type": "code",
      "metadata": {
        "id": "Xn1y9U5VIZ47"
      },
      "source": [
        "from sklearn.neighbors import KNeighborsRegressor\n",
        "from sklearn.linear_model import LinearRegression\n",
        "from sklearn.linear_model import Ridge\n",
        "from sklearn.linear_model import Lasso\n",
        "from sklearn.tree import DecisionTreeRegressor\n",
        "from sklearn.ensemble import RandomForestRegressor\n",
        "from sklearn.ensemble import GradientBoostingRegressor\n",
        "from xgboost import XGBRegressor\n",
        "from lightgbm import LGBMRegressor"
      ],
      "execution_count": 55,
      "outputs": []
    },
    {
      "cell_type": "code",
      "metadata": {
        "id": "vNZD4zP0Ids1"
      },
      "source": [
        "# KNeighborsRegressor\n",
        "model_reg = KNeighborsRegressor(n_neighbors=30).fit(X, Y['registered_log'])\n",
        "model_reg_val = model_reg.predict(test[features])\n",
        "model_reg_pred = np.expm1(model_reg_val)\n",
        "\n",
        "model_cas = KNeighborsRegressor(n_neighbors=30).fit(X, Y['casual_log'])\n",
        "model_cas_val = model_cas.predict(test[features])\n",
        "model_cas_pred = np.expm1(model_cas_val)\n",
        "\n",
        "kne_pred = model_reg_pred + model_cas_pred"
      ],
      "execution_count": 60,
      "outputs": []
    },
    {
      "cell_type": "code",
      "metadata": {
        "colab": {
          "base_uri": "https://localhost:8080/"
        },
        "id": "6vLlnQHcJmNR",
        "outputId": "f1be6aeb-9bf1-4af9-92f5-be6458bb81f3"
      },
      "source": [
        "submission['count'] = kne_pred\n",
        "pjt.submit(submission)"
      ],
      "execution_count": 61,
      "outputs": [
        {
          "output_type": "stream",
          "name": "stdout",
          "text": [
            "파일을 저장하였습니다. 파일명: submission-05-12-01.csv\n",
            "제출 여부 :success\n",
            "오늘 제출 횟수 : 6\n",
            "제출 결과:0.9636\n"
          ]
        }
      ]
    },
    {
      "cell_type": "code",
      "metadata": {
        "colab": {
          "base_uri": "https://localhost:8080/"
        },
        "id": "BBZu6qWwJ9R5",
        "outputId": "ca36adcf-6a23-4528-cca2-7dde544831ca"
      },
      "source": [
        "# LinearRegression\n",
        "model_reg = LinearRegression().fit(X, Y['registered_log'])\n",
        "model_reg_val = model_reg.predict(test[features])\n",
        "model_reg_pred = np.expm1(model_reg_val)\n",
        "\n",
        "model_cas = LinearRegression().fit(X, Y['casual_log'])\n",
        "model_cas_val = model_cas.predict(test[features])\n",
        "model_cas_pred = np.expm1(model_cas_val)\n",
        "\n",
        "lin_pred = model_reg_pred + model_cas_pred\n",
        "\n",
        "submission['count'] = lin_pred\n",
        "pjt.submit(submission)"
      ],
      "execution_count": 62,
      "outputs": [
        {
          "output_type": "stream",
          "name": "stdout",
          "text": [
            "파일을 저장하였습니다. 파일명: submission-05-12-42.csv\n",
            "제출 여부 :success\n",
            "오늘 제출 횟수 : 7\n",
            "제출 결과:1.04663\n"
          ]
        }
      ]
    },
    {
      "cell_type": "code",
      "metadata": {
        "colab": {
          "base_uri": "https://localhost:8080/"
        },
        "id": "kqCRVjinJ-Ag",
        "outputId": "166b926d-2ea3-4ead-e7d1-5619f21fd59c"
      },
      "source": [
        "# DecisionTreeRegressor\n",
        "model_reg = DecisionTreeRegressor().fit(X, Y['registered_log'])\n",
        "model_reg_val = model_reg.predict(test[features])\n",
        "model_reg_pred = np.expm1(model_reg_val)\n",
        "\n",
        "model_cas = DecisionTreeRegressor().fit(X, Y['casual_log'])\n",
        "model_cas_val = model_cas.predict(test[features])\n",
        "model_cas_pred = np.expm1(model_cas_val)\n",
        "\n",
        "dec_pred = model_reg_pred + model_cas_pred\n",
        "\n",
        "submission['count'] = dec_pred\n",
        "pjt.submit(submission)"
      ],
      "execution_count": 63,
      "outputs": [
        {
          "output_type": "stream",
          "name": "stdout",
          "text": [
            "파일을 저장하였습니다. 파일명: submission-05-13-05.csv\n",
            "제출 여부 :success\n",
            "오늘 제출 횟수 : 8\n",
            "제출 결과:0.54336\n"
          ]
        }
      ]
    },
    {
      "cell_type": "code",
      "metadata": {
        "colab": {
          "base_uri": "https://localhost:8080/"
        },
        "id": "4WJy9vjUJ--d",
        "outputId": "9e98fc2e-f74f-4a85-e247-72b1988cbf00"
      },
      "source": [
        "# GradientBoostingRegressor\n",
        "model_reg = GradientBoostingRegressor(n_estimators=500, random_state=123).fit(X, Y['registered_log'])\n",
        "model_reg_val = model_reg.predict(test[features])\n",
        "model_reg_pred = np.expm1(model_reg_val)\n",
        "\n",
        "model_cas = GradientBoostingRegressor(n_estimators=750, random_state=123).fit(X, Y['casual_log'])\n",
        "model_cas_val = model_cas.predict(test[features])\n",
        "model_cas_pred = np.expm1(model_cas_val)\n",
        "\n",
        "gra_pred = model_reg_pred + model_cas_pred\n",
        "\n",
        "submission['count'] = gra_pred\n",
        "pjt.submit(submission)"
      ],
      "execution_count": 73,
      "outputs": [
        {
          "output_type": "stream",
          "name": "stdout",
          "text": [
            "파일을 저장하였습니다. 파일명: submission-05-21-02.csv\n",
            "제출 여부 :success\n",
            "오늘 제출 횟수 : 12\n",
            "제출 결과:0.41314\n"
          ]
        }
      ]
    },
    {
      "cell_type": "code",
      "metadata": {
        "colab": {
          "base_uri": "https://localhost:8080/"
        },
        "id": "aQ_WFkBRKAGy",
        "outputId": "906208d0-8969-45d2-d8b8-fed5f658a79e"
      },
      "source": [
        "# LGBMRegressor\n",
        "model_reg = LGBMRegressor().fit(X, Y['registered_log'])\n",
        "model_reg_val = model_reg.predict(test[features])\n",
        "model_reg_pred = np.expm1(model_reg_val)\n",
        "\n",
        "model_cas = LGBMRegressor().fit(X, Y['casual_log'])\n",
        "model_cas_val = model_cas.predict(test[features])\n",
        "model_cas_pred = np.expm1(model_cas_val)\n",
        "\n",
        "lgbm_pred = model_reg_pred + model_cas_pred\n",
        "\n",
        "submission['count'] = lgbm_pred\n",
        "pjt.submit(submission)"
      ],
      "execution_count": 76,
      "outputs": [
        {
          "output_type": "stream",
          "name": "stdout",
          "text": [
            "파일을 저장하였습니다. 파일명: submission-05-23-59.csv\n",
            "제출 여부 :success\n",
            "오늘 제출 횟수 : 15\n",
            "제출 결과:0.39733\n"
          ]
        }
      ]
    },
    {
      "cell_type": "code",
      "metadata": {
        "id": "5T6VABfD_u2F",
        "colab": {
          "base_uri": "https://localhost:8080/"
        },
        "outputId": "2dbcca27-0fc1-4ac2-ddb0-5e6f0190c871"
      },
      "source": [
        "# XGBRegressor\n",
        "model_reg = XGBRegressor().fit(X, Y['registered_log'])\n",
        "model_reg_val = model_reg.predict(test[features])\n",
        "model_reg_pred = np.expm1(model_reg_val)\n",
        "\n",
        "model_cas = XGBRegressor().fit(X, Y['casual_log'])\n",
        "model_cas_val = model_cas.predict(test[features])\n",
        "model_cas_pred = np.expm1(model_cas_val)\n",
        "\n",
        "xgb_pred = model_reg_pred + model_cas_pred\n",
        "\n",
        "submission['count'] = xgb_pred\n",
        "pjt.submit(submission)"
      ],
      "execution_count": 77,
      "outputs": [
        {
          "output_type": "stream",
          "name": "stdout",
          "text": [
            "[05:24:32] WARNING: /workspace/src/objective/regression_obj.cu:152: reg:linear is now deprecated in favor of reg:squarederror.\n",
            "[05:24:32] WARNING: /workspace/src/objective/regression_obj.cu:152: reg:linear is now deprecated in favor of reg:squarederror.\n",
            "파일을 저장하였습니다. 파일명: submission-05-24-33.csv\n",
            "제출 여부 :success\n",
            "오늘 제출 횟수 : 16\n",
            "제출 결과:0.45692\n"
          ]
        }
      ]
    },
    {
      "cell_type": "code",
      "metadata": {
        "id": "oSNDkgfc_u2F"
      },
      "source": [
        "# XGBRegressor\n",
        "# y_train['casual_log']로 지정\n"
      ],
      "execution_count": null,
      "outputs": []
    },
    {
      "cell_type": "code",
      "metadata": {
        "id": "d8reWIiT_u2F"
      },
      "source": [
        "# XGBRegressor registered_log 모델로 예측\n",
        "\n",
        "\n",
        "# XGBRegressor casual_log 모델로 예측\n",
        "\n",
        "\n",
        "# xgb_pred 변수에 결과를 합산합니다.\n",
        "\n"
      ],
      "execution_count": null,
      "outputs": []
    },
    {
      "cell_type": "code",
      "metadata": {
        "id": "CBNwOY5i_u2F"
      },
      "source": [
        "submission['count'] = xgb_pred\n",
        "pjt.submit(submission)"
      ],
      "execution_count": null,
      "outputs": []
    },
    {
      "cell_type": "code",
      "metadata": {
        "id": "IgWRAt0VIVOC"
      },
      "source": [
        "# "
      ],
      "execution_count": null,
      "outputs": []
    }
  ]
}