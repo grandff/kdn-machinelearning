{
  "nbformat": 4,
  "nbformat_minor": 5,
  "metadata": {
    "kernelspec": {
      "display_name": "Python 3",
      "language": "python",
      "name": "python3"
    },
    "language_info": {
      "codemirror_mode": {
        "name": "ipython",
        "version": 3
      },
      "file_extension": ".py",
      "mimetype": "text/x-python",
      "name": "python",
      "nbconvert_exporter": "python",
      "pygments_lexer": "ipython3",
      "version": "3.8.8"
    },
    "colab": {
      "name": "KDN_PJT_전력 사용량 예측 (실습).ipynb",
      "provenance": [],
      "collapsed_sections": [],
      "include_colab_link": true
    }
  },
  "cells": [
    {
      "cell_type": "markdown",
      "metadata": {
        "id": "view-in-github",
        "colab_type": "text"
      },
      "source": [
        "<a href=\"https://colab.research.google.com/github/grandff/kdn-machinelearning/blob/main/KDN_PJT_%EC%A0%84%EB%A0%A5_%EC%82%AC%EC%9A%A9%EB%9F%89_%EC%98%88%EC%B8%A1_(%EC%8B%A4%EC%8A%B5).ipynb\" target=\"_parent\"><img src=\"https://colab.research.google.com/assets/colab-badge.svg\" alt=\"Open In Colab\"/></a>"
      ]
    },
    {
      "cell_type": "markdown",
      "metadata": {
        "id": "725c5e53"
      },
      "source": [
        "# 환경 설정"
      ],
      "id": "725c5e53"
    },
    {
      "cell_type": "code",
      "metadata": {
        "id": "0383dfd5",
        "colab": {
          "base_uri": "https://localhost:8080/"
        },
        "outputId": "90a32cab-589e-454f-e284-f0ba03776e37"
      },
      "source": [
        "!wget http://49.247.133.7/KDN_DAY4_1.zip\n",
        "!unzip KDN_DAY4_1.zip -d data/"
      ],
      "id": "0383dfd5",
      "execution_count": null,
      "outputs": [
        {
          "output_type": "stream",
          "name": "stdout",
          "text": [
            "--2021-10-08 00:28:09--  http://49.247.133.7/KDN_DAY4_1.zip\n",
            "Connecting to 49.247.133.7:80... connected.\n",
            "HTTP request sent, awaiting response... 200 OK\n",
            "Length: 1452903 (1.4M) [application/zip]\n",
            "Saving to: ‘KDN_DAY4_1.zip’\n",
            "\n",
            "KDN_DAY4_1.zip      100%[===================>]   1.38M  1.37MB/s    in 1.0s    \n",
            "\n",
            "2021-10-08 00:28:10 (1.37 MB/s) - ‘KDN_DAY4_1.zip’ saved [1452903/1452903]\n",
            "\n",
            "Archive:  KDN_DAY4_1.zip\n",
            "  inflating: data/submission.csv     \n",
            "  inflating: data/test.csv           \n",
            "  inflating: data/train.csv          \n"
          ]
        }
      ]
    },
    {
      "cell_type": "code",
      "metadata": {
        "id": "d0701563",
        "colab": {
          "base_uri": "https://localhost:8080/"
        },
        "outputId": "e6531f16-db16-4d55-8437-f495ee3b678b"
      },
      "source": [
        "!pip install jaen"
      ],
      "id": "d0701563",
      "execution_count": null,
      "outputs": [
        {
          "output_type": "stream",
          "name": "stdout",
          "text": [
            "Collecting jaen\n",
            "  Downloading JAEN-0.0.1-py3-none-any.whl (2.1 kB)\n",
            "Installing collected packages: jaen\n",
            "Successfully installed jaen-0.0.1\n"
          ]
        }
      ]
    },
    {
      "cell_type": "code",
      "metadata": {
        "id": "e79ea331"
      },
      "source": [
        "# 실전프로젝트 환경 설정\n",
        "from JAEN.project import Project\n",
        "pjt = Project('전력 사용량 예측', # 프로젝트 이름\n",
        "              '한전KDN',                       # 과정명\n",
        "              '1차수 A반',                     # 차수 정보\n",
        "              '198080@kdn.com')                  # 이메일 (숫자@kdn.com) * 본인의 이메일로 수정"
      ],
      "id": "e79ea331",
      "execution_count": null,
      "outputs": []
    },
    {
      "cell_type": "markdown",
      "metadata": {
        "id": "9d10ce4f"
      },
      "source": [
        "# 모듈 import"
      ],
      "id": "9d10ce4f"
    },
    {
      "cell_type": "code",
      "metadata": {
        "id": "61caf2ae"
      },
      "source": [
        "import numpy as np\n",
        "import pandas as pd\n",
        "import seaborn as sns\n",
        "import matplotlib.pyplot as plt\n",
        "from sklearn.metrics import mean_absolute_error"
      ],
      "id": "61caf2ae",
      "execution_count": null,
      "outputs": []
    },
    {
      "cell_type": "markdown",
      "metadata": {
        "id": "574f0b63"
      },
      "source": [
        "# 데이터 로드\n",
        "2개의 데이터 셋트를 나누어 제공합니다.\n",
        "\n",
        "1. train: 학습용 데이터 세트. 정답 값이라고 할 수 있는 `label` 값이 같이 제공됩니다.\n",
        "2. test: 예측용 데이터 세트. 정답 값이 빠진 `feature` 들만 제공됩니다. 우리는 이 `feature`를 활용하여 예측을 진행합니다.\n",
        "3. submission: 정답 제출용 데이터 세트. 주어진 형식에 맞춰 정답 값을 기입하고 제출합니다.|"
      ],
      "id": "574f0b63"
    },
    {
      "cell_type": "code",
      "metadata": {
        "id": "e6c3ae8a",
        "colab": {
          "base_uri": "https://localhost:8080/",
          "height": 606
        },
        "outputId": "18a89942-c763-47c9-dc7e-c5cee85adf37"
      },
      "source": [
        "# train 데이터셋 로드 (train.csv)\n",
        "train = pd.read_csv(\"./data/train.csv\")\n",
        "train\n",
        "# 60개 건물 X 61일 X 24시간 = 87840"
      ],
      "id": "e6c3ae8a",
      "execution_count": null,
      "outputs": [
        {
          "output_type": "execute_result",
          "data": {
            "text/html": [
              "<div>\n",
              "<style scoped>\n",
              "    .dataframe tbody tr th:only-of-type {\n",
              "        vertical-align: middle;\n",
              "    }\n",
              "\n",
              "    .dataframe tbody tr th {\n",
              "        vertical-align: top;\n",
              "    }\n",
              "\n",
              "    .dataframe thead th {\n",
              "        text-align: right;\n",
              "    }\n",
              "</style>\n",
              "<table border=\"1\" class=\"dataframe\">\n",
              "  <thead>\n",
              "    <tr style=\"text-align: right;\">\n",
              "      <th></th>\n",
              "      <th>num</th>\n",
              "      <th>date_time</th>\n",
              "      <th>전력사용량(kWh)</th>\n",
              "      <th>기온(°C)</th>\n",
              "      <th>풍속(m/s)</th>\n",
              "      <th>습도(%)</th>\n",
              "      <th>강수량(mm)</th>\n",
              "      <th>일조(hr)</th>\n",
              "      <th>비전기냉방설비운영</th>\n",
              "      <th>태양광보유</th>\n",
              "    </tr>\n",
              "  </thead>\n",
              "  <tbody>\n",
              "    <tr>\n",
              "      <th>0</th>\n",
              "      <td>1</td>\n",
              "      <td>2020-06-01 00:00:00</td>\n",
              "      <td>8179.056</td>\n",
              "      <td>17.6</td>\n",
              "      <td>2.5</td>\n",
              "      <td>92.0</td>\n",
              "      <td>0.8</td>\n",
              "      <td>0.0</td>\n",
              "      <td>0.0</td>\n",
              "      <td>0.0</td>\n",
              "    </tr>\n",
              "    <tr>\n",
              "      <th>1</th>\n",
              "      <td>1</td>\n",
              "      <td>2020-06-01 01:00:00</td>\n",
              "      <td>8135.640</td>\n",
              "      <td>17.7</td>\n",
              "      <td>2.9</td>\n",
              "      <td>91.0</td>\n",
              "      <td>0.3</td>\n",
              "      <td>0.0</td>\n",
              "      <td>0.0</td>\n",
              "      <td>0.0</td>\n",
              "    </tr>\n",
              "    <tr>\n",
              "      <th>2</th>\n",
              "      <td>1</td>\n",
              "      <td>2020-06-01 02:00:00</td>\n",
              "      <td>8107.128</td>\n",
              "      <td>17.5</td>\n",
              "      <td>3.2</td>\n",
              "      <td>91.0</td>\n",
              "      <td>0.0</td>\n",
              "      <td>0.0</td>\n",
              "      <td>0.0</td>\n",
              "      <td>0.0</td>\n",
              "    </tr>\n",
              "    <tr>\n",
              "      <th>3</th>\n",
              "      <td>1</td>\n",
              "      <td>2020-06-01 03:00:00</td>\n",
              "      <td>8048.808</td>\n",
              "      <td>17.1</td>\n",
              "      <td>3.2</td>\n",
              "      <td>91.0</td>\n",
              "      <td>0.0</td>\n",
              "      <td>0.0</td>\n",
              "      <td>0.0</td>\n",
              "      <td>0.0</td>\n",
              "    </tr>\n",
              "    <tr>\n",
              "      <th>4</th>\n",
              "      <td>1</td>\n",
              "      <td>2020-06-01 04:00:00</td>\n",
              "      <td>8043.624</td>\n",
              "      <td>17.0</td>\n",
              "      <td>3.3</td>\n",
              "      <td>92.0</td>\n",
              "      <td>0.0</td>\n",
              "      <td>0.0</td>\n",
              "      <td>0.0</td>\n",
              "      <td>0.0</td>\n",
              "    </tr>\n",
              "    <tr>\n",
              "      <th>...</th>\n",
              "      <td>...</td>\n",
              "      <td>...</td>\n",
              "      <td>...</td>\n",
              "      <td>...</td>\n",
              "      <td>...</td>\n",
              "      <td>...</td>\n",
              "      <td>...</td>\n",
              "      <td>...</td>\n",
              "      <td>...</td>\n",
              "      <td>...</td>\n",
              "    </tr>\n",
              "    <tr>\n",
              "      <th>87835</th>\n",
              "      <td>60</td>\n",
              "      <td>2020-07-31 19:00:00</td>\n",
              "      <td>3603.744</td>\n",
              "      <td>25.0</td>\n",
              "      <td>2.7</td>\n",
              "      <td>95.0</td>\n",
              "      <td>0.0</td>\n",
              "      <td>0.0</td>\n",
              "      <td>1.0</td>\n",
              "      <td>1.0</td>\n",
              "    </tr>\n",
              "    <tr>\n",
              "      <th>87836</th>\n",
              "      <td>60</td>\n",
              "      <td>2020-07-31 20:00:00</td>\n",
              "      <td>3688.848</td>\n",
              "      <td>24.9</td>\n",
              "      <td>2.5</td>\n",
              "      <td>96.0</td>\n",
              "      <td>0.0</td>\n",
              "      <td>0.0</td>\n",
              "      <td>1.0</td>\n",
              "      <td>1.0</td>\n",
              "    </tr>\n",
              "    <tr>\n",
              "      <th>87837</th>\n",
              "      <td>60</td>\n",
              "      <td>2020-07-31 21:00:00</td>\n",
              "      <td>3765.312</td>\n",
              "      <td>24.9</td>\n",
              "      <td>1.9</td>\n",
              "      <td>96.0</td>\n",
              "      <td>0.0</td>\n",
              "      <td>0.0</td>\n",
              "      <td>1.0</td>\n",
              "      <td>1.0</td>\n",
              "    </tr>\n",
              "    <tr>\n",
              "      <th>87838</th>\n",
              "      <td>60</td>\n",
              "      <td>2020-07-31 22:00:00</td>\n",
              "      <td>3833.568</td>\n",
              "      <td>24.9</td>\n",
              "      <td>2.8</td>\n",
              "      <td>97.0</td>\n",
              "      <td>0.0</td>\n",
              "      <td>0.0</td>\n",
              "      <td>1.0</td>\n",
              "      <td>1.0</td>\n",
              "    </tr>\n",
              "    <tr>\n",
              "      <th>87839</th>\n",
              "      <td>60</td>\n",
              "      <td>2020-07-31 23:00:00</td>\n",
              "      <td>3309.120</td>\n",
              "      <td>24.9</td>\n",
              "      <td>2.2</td>\n",
              "      <td>97.0</td>\n",
              "      <td>0.0</td>\n",
              "      <td>0.0</td>\n",
              "      <td>1.0</td>\n",
              "      <td>1.0</td>\n",
              "    </tr>\n",
              "  </tbody>\n",
              "</table>\n",
              "<p>87840 rows × 10 columns</p>\n",
              "</div>"
            ],
            "text/plain": [
              "       num            date_time  전력사용량(kWh)  ...  일조(hr)  비전기냉방설비운영  태양광보유\n",
              "0        1  2020-06-01 00:00:00    8179.056  ...     0.0        0.0    0.0\n",
              "1        1  2020-06-01 01:00:00    8135.640  ...     0.0        0.0    0.0\n",
              "2        1  2020-06-01 02:00:00    8107.128  ...     0.0        0.0    0.0\n",
              "3        1  2020-06-01 03:00:00    8048.808  ...     0.0        0.0    0.0\n",
              "4        1  2020-06-01 04:00:00    8043.624  ...     0.0        0.0    0.0\n",
              "...    ...                  ...         ...  ...     ...        ...    ...\n",
              "87835   60  2020-07-31 19:00:00    3603.744  ...     0.0        1.0    1.0\n",
              "87836   60  2020-07-31 20:00:00    3688.848  ...     0.0        1.0    1.0\n",
              "87837   60  2020-07-31 21:00:00    3765.312  ...     0.0        1.0    1.0\n",
              "87838   60  2020-07-31 22:00:00    3833.568  ...     0.0        1.0    1.0\n",
              "87839   60  2020-07-31 23:00:00    3309.120  ...     0.0        1.0    1.0\n",
              "\n",
              "[87840 rows x 10 columns]"
            ]
          },
          "metadata": {},
          "execution_count": 5
        }
      ]
    },
    {
      "cell_type": "code",
      "metadata": {
        "id": "172c64ab",
        "colab": {
          "base_uri": "https://localhost:8080/",
          "height": 606
        },
        "outputId": "b3c01bac-dc24-411a-b450-6dbbc3757e47"
      },
      "source": [
        "# test 데이터셋 로드 (test.csv)\n",
        "test = pd.read_csv(\"./data/test.csv\")\n",
        "test\n",
        "# 60개 건물 X 24일 X 24시간 = 34560"
      ],
      "id": "172c64ab",
      "execution_count": null,
      "outputs": [
        {
          "output_type": "execute_result",
          "data": {
            "text/html": [
              "<div>\n",
              "<style scoped>\n",
              "    .dataframe tbody tr th:only-of-type {\n",
              "        vertical-align: middle;\n",
              "    }\n",
              "\n",
              "    .dataframe tbody tr th {\n",
              "        vertical-align: top;\n",
              "    }\n",
              "\n",
              "    .dataframe thead th {\n",
              "        text-align: right;\n",
              "    }\n",
              "</style>\n",
              "<table border=\"1\" class=\"dataframe\">\n",
              "  <thead>\n",
              "    <tr style=\"text-align: right;\">\n",
              "      <th></th>\n",
              "      <th>num</th>\n",
              "      <th>date_time</th>\n",
              "      <th>기온(°C)</th>\n",
              "      <th>풍속(m/s)</th>\n",
              "      <th>습도(%)</th>\n",
              "      <th>강수량(mm)</th>\n",
              "      <th>일조(hr)</th>\n",
              "      <th>비전기냉방설비운영</th>\n",
              "      <th>태양광보유</th>\n",
              "    </tr>\n",
              "  </thead>\n",
              "  <tbody>\n",
              "    <tr>\n",
              "      <th>0</th>\n",
              "      <td>1</td>\n",
              "      <td>2020-08-01 00:00:00</td>\n",
              "      <td>25.0</td>\n",
              "      <td>3.4</td>\n",
              "      <td>90.0</td>\n",
              "      <td>1.0</td>\n",
              "      <td>0.0</td>\n",
              "      <td>0.0</td>\n",
              "      <td>0.0</td>\n",
              "    </tr>\n",
              "    <tr>\n",
              "      <th>1</th>\n",
              "      <td>1</td>\n",
              "      <td>2020-08-01 01:00:00</td>\n",
              "      <td>24.6</td>\n",
              "      <td>0.5</td>\n",
              "      <td>90.0</td>\n",
              "      <td>0.2</td>\n",
              "      <td>0.0</td>\n",
              "      <td>0.0</td>\n",
              "      <td>0.0</td>\n",
              "    </tr>\n",
              "    <tr>\n",
              "      <th>2</th>\n",
              "      <td>1</td>\n",
              "      <td>2020-08-01 02:00:00</td>\n",
              "      <td>24.6</td>\n",
              "      <td>0.5</td>\n",
              "      <td>91.0</td>\n",
              "      <td>0.0</td>\n",
              "      <td>0.0</td>\n",
              "      <td>0.0</td>\n",
              "      <td>0.0</td>\n",
              "    </tr>\n",
              "    <tr>\n",
              "      <th>3</th>\n",
              "      <td>1</td>\n",
              "      <td>2020-08-01 03:00:00</td>\n",
              "      <td>24.7</td>\n",
              "      <td>1.2</td>\n",
              "      <td>93.0</td>\n",
              "      <td>0.0</td>\n",
              "      <td>0.0</td>\n",
              "      <td>0.0</td>\n",
              "      <td>0.0</td>\n",
              "    </tr>\n",
              "    <tr>\n",
              "      <th>4</th>\n",
              "      <td>1</td>\n",
              "      <td>2020-08-01 04:00:00</td>\n",
              "      <td>24.7</td>\n",
              "      <td>0.8</td>\n",
              "      <td>94.0</td>\n",
              "      <td>0.0</td>\n",
              "      <td>0.0</td>\n",
              "      <td>0.0</td>\n",
              "      <td>0.0</td>\n",
              "    </tr>\n",
              "    <tr>\n",
              "      <th>...</th>\n",
              "      <td>...</td>\n",
              "      <td>...</td>\n",
              "      <td>...</td>\n",
              "      <td>...</td>\n",
              "      <td>...</td>\n",
              "      <td>...</td>\n",
              "      <td>...</td>\n",
              "      <td>...</td>\n",
              "      <td>...</td>\n",
              "    </tr>\n",
              "    <tr>\n",
              "      <th>34555</th>\n",
              "      <td>60</td>\n",
              "      <td>2020-08-24 19:00:00</td>\n",
              "      <td>27.8</td>\n",
              "      <td>2.3</td>\n",
              "      <td>68.0</td>\n",
              "      <td>0.0</td>\n",
              "      <td>0.7</td>\n",
              "      <td>1.0</td>\n",
              "      <td>1.0</td>\n",
              "    </tr>\n",
              "    <tr>\n",
              "      <th>34556</th>\n",
              "      <td>60</td>\n",
              "      <td>2020-08-24 20:00:00</td>\n",
              "      <td>27.3</td>\n",
              "      <td>1.2</td>\n",
              "      <td>71.0</td>\n",
              "      <td>0.0</td>\n",
              "      <td>0.0</td>\n",
              "      <td>1.0</td>\n",
              "      <td>1.0</td>\n",
              "    </tr>\n",
              "    <tr>\n",
              "      <th>34557</th>\n",
              "      <td>60</td>\n",
              "      <td>2020-08-24 21:00:00</td>\n",
              "      <td>27.3</td>\n",
              "      <td>1.8</td>\n",
              "      <td>71.0</td>\n",
              "      <td>0.0</td>\n",
              "      <td>0.0</td>\n",
              "      <td>1.0</td>\n",
              "      <td>1.0</td>\n",
              "    </tr>\n",
              "    <tr>\n",
              "      <th>34558</th>\n",
              "      <td>60</td>\n",
              "      <td>2020-08-24 22:00:00</td>\n",
              "      <td>27.1</td>\n",
              "      <td>1.8</td>\n",
              "      <td>74.0</td>\n",
              "      <td>0.0</td>\n",
              "      <td>0.0</td>\n",
              "      <td>1.0</td>\n",
              "      <td>1.0</td>\n",
              "    </tr>\n",
              "    <tr>\n",
              "      <th>34559</th>\n",
              "      <td>60</td>\n",
              "      <td>2020-08-24 23:00:00</td>\n",
              "      <td>27.1</td>\n",
              "      <td>2.6</td>\n",
              "      <td>75.0</td>\n",
              "      <td>0.0</td>\n",
              "      <td>0.0</td>\n",
              "      <td>1.0</td>\n",
              "      <td>1.0</td>\n",
              "    </tr>\n",
              "  </tbody>\n",
              "</table>\n",
              "<p>34560 rows × 9 columns</p>\n",
              "</div>"
            ],
            "text/plain": [
              "       num            date_time  기온(°C)  ...  일조(hr)  비전기냉방설비운영  태양광보유\n",
              "0        1  2020-08-01 00:00:00    25.0  ...     0.0        0.0    0.0\n",
              "1        1  2020-08-01 01:00:00    24.6  ...     0.0        0.0    0.0\n",
              "2        1  2020-08-01 02:00:00    24.6  ...     0.0        0.0    0.0\n",
              "3        1  2020-08-01 03:00:00    24.7  ...     0.0        0.0    0.0\n",
              "4        1  2020-08-01 04:00:00    24.7  ...     0.0        0.0    0.0\n",
              "...    ...                  ...     ...  ...     ...        ...    ...\n",
              "34555   60  2020-08-24 19:00:00    27.8  ...     0.7        1.0    1.0\n",
              "34556   60  2020-08-24 20:00:00    27.3  ...     0.0        1.0    1.0\n",
              "34557   60  2020-08-24 21:00:00    27.3  ...     0.0        1.0    1.0\n",
              "34558   60  2020-08-24 22:00:00    27.1  ...     0.0        1.0    1.0\n",
              "34559   60  2020-08-24 23:00:00    27.1  ...     0.0        1.0    1.0\n",
              "\n",
              "[34560 rows x 9 columns]"
            ]
          },
          "metadata": {},
          "execution_count": 6
        }
      ]
    },
    {
      "cell_type": "code",
      "metadata": {
        "id": "107cbc89",
        "colab": {
          "base_uri": "https://localhost:8080/"
        },
        "outputId": "91b99793-8847-43bd-d6b3-20be1afb8b1c"
      },
      "source": [
        "# train column 별 데이터 개수, 타입 확인\n",
        "train.info()"
      ],
      "id": "107cbc89",
      "execution_count": null,
      "outputs": [
        {
          "output_type": "stream",
          "name": "stdout",
          "text": [
            "<class 'pandas.core.frame.DataFrame'>\n",
            "RangeIndex: 87840 entries, 0 to 87839\n",
            "Data columns (total 10 columns):\n",
            " #   Column      Non-Null Count  Dtype  \n",
            "---  ------      --------------  -----  \n",
            " 0   num         87840 non-null  int64  \n",
            " 1   date_time   87840 non-null  object \n",
            " 2   전력사용량(kWh)  87840 non-null  float64\n",
            " 3   기온(°C)      87840 non-null  float64\n",
            " 4   풍속(m/s)     87840 non-null  float64\n",
            " 5   습도(%)       87840 non-null  float64\n",
            " 6   강수량(mm)     87840 non-null  float64\n",
            " 7   일조(hr)      87840 non-null  float64\n",
            " 8   비전기냉방설비운영   87840 non-null  float64\n",
            " 9   태양광보유       87840 non-null  float64\n",
            "dtypes: float64(8), int64(1), object(1)\n",
            "memory usage: 6.7+ MB\n"
          ]
        }
      ]
    },
    {
      "cell_type": "code",
      "metadata": {
        "id": "6a5f7ce4",
        "colab": {
          "base_uri": "https://localhost:8080/"
        },
        "outputId": "d35261f8-1a3b-43f7-d4c7-a5495cdb0c5e"
      },
      "source": [
        "# test column 별 데이터 개수, 타입 확인\n",
        "test.info()"
      ],
      "id": "6a5f7ce4",
      "execution_count": null,
      "outputs": [
        {
          "output_type": "stream",
          "name": "stdout",
          "text": [
            "<class 'pandas.core.frame.DataFrame'>\n",
            "RangeIndex: 34560 entries, 0 to 34559\n",
            "Data columns (total 9 columns):\n",
            " #   Column     Non-Null Count  Dtype  \n",
            "---  ------     --------------  -----  \n",
            " 0   num        34560 non-null  int64  \n",
            " 1   date_time  34560 non-null  object \n",
            " 2   기온(°C)     34560 non-null  float64\n",
            " 3   풍속(m/s)    34560 non-null  float64\n",
            " 4   습도(%)      34560 non-null  float64\n",
            " 5   강수량(mm)    34560 non-null  float64\n",
            " 6   일조(hr)     34560 non-null  float64\n",
            " 7   비전기냉방설비운영  34560 non-null  float64\n",
            " 8   태양광보유      34560 non-null  float64\n",
            "dtypes: float64(7), int64(1), object(1)\n",
            "memory usage: 2.4+ MB\n"
          ]
        }
      ]
    },
    {
      "cell_type": "code",
      "metadata": {
        "id": "d3469184",
        "colab": {
          "base_uri": "https://localhost:8080/"
        },
        "outputId": "8097723b-d180-4ee4-fbed-072eb41f9d90"
      },
      "source": [
        "# train 결측치 확인 \n",
        "train.isnull().sum()"
      ],
      "id": "d3469184",
      "execution_count": null,
      "outputs": [
        {
          "output_type": "execute_result",
          "data": {
            "text/plain": [
              "num           0\n",
              "date_time     0\n",
              "전력사용량(kWh)    0\n",
              "기온(°C)        0\n",
              "풍속(m/s)       0\n",
              "습도(%)         0\n",
              "강수량(mm)       0\n",
              "일조(hr)        0\n",
              "비전기냉방설비운영     0\n",
              "태양광보유         0\n",
              "dtype: int64"
            ]
          },
          "metadata": {},
          "execution_count": 9
        }
      ]
    },
    {
      "cell_type": "code",
      "metadata": {
        "id": "0d7faa69",
        "colab": {
          "base_uri": "https://localhost:8080/"
        },
        "outputId": "f2b273a4-3fb3-4e1e-b1b3-de1095f9f706"
      },
      "source": [
        "# test 결측치 확인\n",
        "test.isnull().sum()"
      ],
      "id": "0d7faa69",
      "execution_count": null,
      "outputs": [
        {
          "output_type": "execute_result",
          "data": {
            "text/plain": [
              "num          0\n",
              "date_time    0\n",
              "기온(°C)       0\n",
              "풍속(m/s)      0\n",
              "습도(%)        0\n",
              "강수량(mm)      0\n",
              "일조(hr)       0\n",
              "비전기냉방설비운영    0\n",
              "태양광보유        0\n",
              "dtype: int64"
            ]
          },
          "metadata": {},
          "execution_count": 10
        }
      ]
    },
    {
      "cell_type": "code",
      "metadata": {
        "id": "23e511bf",
        "colab": {
          "base_uri": "https://localhost:8080/"
        },
        "outputId": "b2f8fd2c-128a-4b02-dbf8-60fd5f59b034"
      },
      "source": [
        "# 본인의 판단에 따라 훈련에 사용할 feature와 사용하지 않을 feature를 선택합니다.\n",
        "features = [\n",
        "    'num',\n",
        "    '기온(°C)',\n",
        "    '풍속(m/s)',\n",
        "    '습도(%)',\n",
        "    '강수량(mm)',\n",
        "    '일조(hr)',\n",
        "    '비전기냉방설비운영',\n",
        "    '태양광보유',\n",
        "]\n",
        "features"
      ],
      "id": "23e511bf",
      "execution_count": null,
      "outputs": [
        {
          "output_type": "execute_result",
          "data": {
            "text/plain": [
              "['num',\n",
              " '기온(°C)',\n",
              " '풍속(m/s)',\n",
              " '습도(%)',\n",
              " '강수량(mm)',\n",
              " '일조(hr)',\n",
              " '비전기냉방설비운영',\n",
              " '태양광보유']"
            ]
          },
          "metadata": {},
          "execution_count": 11
        }
      ]
    },
    {
      "cell_type": "code",
      "metadata": {
        "id": "4c3cd6c5",
        "colab": {
          "base_uri": "https://localhost:8080/",
          "height": 419
        },
        "outputId": "1f0752a0-821f-420c-be89-53ea0a18dac2"
      },
      "source": [
        "# features의 컬럼을 X로 설정한다.\n",
        "X = train[features]\n",
        "X"
      ],
      "id": "4c3cd6c5",
      "execution_count": null,
      "outputs": [
        {
          "output_type": "execute_result",
          "data": {
            "text/html": [
              "<div>\n",
              "<style scoped>\n",
              "    .dataframe tbody tr th:only-of-type {\n",
              "        vertical-align: middle;\n",
              "    }\n",
              "\n",
              "    .dataframe tbody tr th {\n",
              "        vertical-align: top;\n",
              "    }\n",
              "\n",
              "    .dataframe thead th {\n",
              "        text-align: right;\n",
              "    }\n",
              "</style>\n",
              "<table border=\"1\" class=\"dataframe\">\n",
              "  <thead>\n",
              "    <tr style=\"text-align: right;\">\n",
              "      <th></th>\n",
              "      <th>num</th>\n",
              "      <th>기온(°C)</th>\n",
              "      <th>풍속(m/s)</th>\n",
              "      <th>습도(%)</th>\n",
              "      <th>강수량(mm)</th>\n",
              "      <th>일조(hr)</th>\n",
              "      <th>비전기냉방설비운영</th>\n",
              "      <th>태양광보유</th>\n",
              "    </tr>\n",
              "  </thead>\n",
              "  <tbody>\n",
              "    <tr>\n",
              "      <th>0</th>\n",
              "      <td>1</td>\n",
              "      <td>17.6</td>\n",
              "      <td>2.5</td>\n",
              "      <td>92.0</td>\n",
              "      <td>0.8</td>\n",
              "      <td>0.0</td>\n",
              "      <td>0.0</td>\n",
              "      <td>0.0</td>\n",
              "    </tr>\n",
              "    <tr>\n",
              "      <th>1</th>\n",
              "      <td>1</td>\n",
              "      <td>17.7</td>\n",
              "      <td>2.9</td>\n",
              "      <td>91.0</td>\n",
              "      <td>0.3</td>\n",
              "      <td>0.0</td>\n",
              "      <td>0.0</td>\n",
              "      <td>0.0</td>\n",
              "    </tr>\n",
              "    <tr>\n",
              "      <th>2</th>\n",
              "      <td>1</td>\n",
              "      <td>17.5</td>\n",
              "      <td>3.2</td>\n",
              "      <td>91.0</td>\n",
              "      <td>0.0</td>\n",
              "      <td>0.0</td>\n",
              "      <td>0.0</td>\n",
              "      <td>0.0</td>\n",
              "    </tr>\n",
              "    <tr>\n",
              "      <th>3</th>\n",
              "      <td>1</td>\n",
              "      <td>17.1</td>\n",
              "      <td>3.2</td>\n",
              "      <td>91.0</td>\n",
              "      <td>0.0</td>\n",
              "      <td>0.0</td>\n",
              "      <td>0.0</td>\n",
              "      <td>0.0</td>\n",
              "    </tr>\n",
              "    <tr>\n",
              "      <th>4</th>\n",
              "      <td>1</td>\n",
              "      <td>17.0</td>\n",
              "      <td>3.3</td>\n",
              "      <td>92.0</td>\n",
              "      <td>0.0</td>\n",
              "      <td>0.0</td>\n",
              "      <td>0.0</td>\n",
              "      <td>0.0</td>\n",
              "    </tr>\n",
              "    <tr>\n",
              "      <th>...</th>\n",
              "      <td>...</td>\n",
              "      <td>...</td>\n",
              "      <td>...</td>\n",
              "      <td>...</td>\n",
              "      <td>...</td>\n",
              "      <td>...</td>\n",
              "      <td>...</td>\n",
              "      <td>...</td>\n",
              "    </tr>\n",
              "    <tr>\n",
              "      <th>87835</th>\n",
              "      <td>60</td>\n",
              "      <td>25.0</td>\n",
              "      <td>2.7</td>\n",
              "      <td>95.0</td>\n",
              "      <td>0.0</td>\n",
              "      <td>0.0</td>\n",
              "      <td>1.0</td>\n",
              "      <td>1.0</td>\n",
              "    </tr>\n",
              "    <tr>\n",
              "      <th>87836</th>\n",
              "      <td>60</td>\n",
              "      <td>24.9</td>\n",
              "      <td>2.5</td>\n",
              "      <td>96.0</td>\n",
              "      <td>0.0</td>\n",
              "      <td>0.0</td>\n",
              "      <td>1.0</td>\n",
              "      <td>1.0</td>\n",
              "    </tr>\n",
              "    <tr>\n",
              "      <th>87837</th>\n",
              "      <td>60</td>\n",
              "      <td>24.9</td>\n",
              "      <td>1.9</td>\n",
              "      <td>96.0</td>\n",
              "      <td>0.0</td>\n",
              "      <td>0.0</td>\n",
              "      <td>1.0</td>\n",
              "      <td>1.0</td>\n",
              "    </tr>\n",
              "    <tr>\n",
              "      <th>87838</th>\n",
              "      <td>60</td>\n",
              "      <td>24.9</td>\n",
              "      <td>2.8</td>\n",
              "      <td>97.0</td>\n",
              "      <td>0.0</td>\n",
              "      <td>0.0</td>\n",
              "      <td>1.0</td>\n",
              "      <td>1.0</td>\n",
              "    </tr>\n",
              "    <tr>\n",
              "      <th>87839</th>\n",
              "      <td>60</td>\n",
              "      <td>24.9</td>\n",
              "      <td>2.2</td>\n",
              "      <td>97.0</td>\n",
              "      <td>0.0</td>\n",
              "      <td>0.0</td>\n",
              "      <td>1.0</td>\n",
              "      <td>1.0</td>\n",
              "    </tr>\n",
              "  </tbody>\n",
              "</table>\n",
              "<p>87840 rows × 8 columns</p>\n",
              "</div>"
            ],
            "text/plain": [
              "       num  기온(°C)  풍속(m/s)  습도(%)  강수량(mm)  일조(hr)  비전기냉방설비운영  태양광보유\n",
              "0        1    17.6      2.5   92.0      0.8     0.0        0.0    0.0\n",
              "1        1    17.7      2.9   91.0      0.3     0.0        0.0    0.0\n",
              "2        1    17.5      3.2   91.0      0.0     0.0        0.0    0.0\n",
              "3        1    17.1      3.2   91.0      0.0     0.0        0.0    0.0\n",
              "4        1    17.0      3.3   92.0      0.0     0.0        0.0    0.0\n",
              "...    ...     ...      ...    ...      ...     ...        ...    ...\n",
              "87835   60    25.0      2.7   95.0      0.0     0.0        1.0    1.0\n",
              "87836   60    24.9      2.5   96.0      0.0     0.0        1.0    1.0\n",
              "87837   60    24.9      1.9   96.0      0.0     0.0        1.0    1.0\n",
              "87838   60    24.9      2.8   97.0      0.0     0.0        1.0    1.0\n",
              "87839   60    24.9      2.2   97.0      0.0     0.0        1.0    1.0\n",
              "\n",
              "[87840 rows x 8 columns]"
            ]
          },
          "metadata": {},
          "execution_count": 13
        }
      ]
    },
    {
      "cell_type": "code",
      "metadata": {
        "id": "73d2eea5",
        "colab": {
          "base_uri": "https://localhost:8080/"
        },
        "outputId": "e96d17ad-ad60-4d01-faed-77fc3a05978c"
      },
      "source": [
        "# 전력사용량(kWh) 값을 Y값으로 설정한다.\n",
        "Y = train['전력사용량(kWh)']\n",
        "Y"
      ],
      "id": "73d2eea5",
      "execution_count": null,
      "outputs": [
        {
          "output_type": "execute_result",
          "data": {
            "text/plain": [
              "0        8179.056\n",
              "1        8135.640\n",
              "2        8107.128\n",
              "3        8048.808\n",
              "4        8043.624\n",
              "           ...   \n",
              "87835    3603.744\n",
              "87836    3688.848\n",
              "87837    3765.312\n",
              "87838    3833.568\n",
              "87839    3309.120\n",
              "Name: 전력사용량(kWh), Length: 87840, dtype: float64"
            ]
          },
          "metadata": {},
          "execution_count": 14
        }
      ]
    },
    {
      "cell_type": "code",
      "metadata": {
        "id": "AzlRRIJ5Uf2d"
      },
      "source": [
        "from sklearn.model_selection import train_test_split\n",
        "from sklearn.ensemble import RandomForestRegressor"
      ],
      "id": "AzlRRIJ5Uf2d",
      "execution_count": null,
      "outputs": []
    },
    {
      "cell_type": "code",
      "metadata": {
        "id": "07523c2b"
      },
      "source": [
        "# RandomForestRegressor 사용\n",
        "  # n_estimators=500,random_state=123적용\n",
        "model = RandomForestRegressor(n_estimators=500, random_state=123, n_jobs=1).fit(X, Y)"
      ],
      "id": "07523c2b",
      "execution_count": null,
      "outputs": []
    },
    {
      "cell_type": "code",
      "metadata": {
        "id": "50c378d5"
      },
      "source": [
        "# test 데이터셋에 대한 예측\n",
        "predcition = model.predict(test[features])"
      ],
      "id": "50c378d5",
      "execution_count": null,
      "outputs": []
    },
    {
      "cell_type": "code",
      "metadata": {
        "id": "20b8d400"
      },
      "source": [
        "# submission 데이터 로드 (submission.csv)\n",
        "submission = pd.read_csv(\"./data/submission.csv\")"
      ],
      "id": "20b8d400",
      "execution_count": null,
      "outputs": []
    },
    {
      "cell_type": "code",
      "metadata": {
        "id": "1276faca",
        "colab": {
          "base_uri": "https://localhost:8080/",
          "height": 419
        },
        "outputId": "29e4207f-0e77-4289-e786-a0b0239ba829"
      },
      "source": [
        "# 예측 결과 대입\n",
        "submission['전력사용량(kWh)'] = predcition\n",
        "submission"
      ],
      "id": "1276faca",
      "execution_count": null,
      "outputs": [
        {
          "output_type": "execute_result",
          "data": {
            "text/html": [
              "<div>\n",
              "<style scoped>\n",
              "    .dataframe tbody tr th:only-of-type {\n",
              "        vertical-align: middle;\n",
              "    }\n",
              "\n",
              "    .dataframe tbody tr th {\n",
              "        vertical-align: top;\n",
              "    }\n",
              "\n",
              "    .dataframe thead th {\n",
              "        text-align: right;\n",
              "    }\n",
              "</style>\n",
              "<table border=\"1\" class=\"dataframe\">\n",
              "  <thead>\n",
              "    <tr style=\"text-align: right;\">\n",
              "      <th></th>\n",
              "      <th>num</th>\n",
              "      <th>date_time</th>\n",
              "      <th>전력사용량(kWh)</th>\n",
              "    </tr>\n",
              "  </thead>\n",
              "  <tbody>\n",
              "    <tr>\n",
              "      <th>0</th>\n",
              "      <td>1</td>\n",
              "      <td>2020-08-01 00:00:00</td>\n",
              "      <td>8561.821824</td>\n",
              "    </tr>\n",
              "    <tr>\n",
              "      <th>1</th>\n",
              "      <td>1</td>\n",
              "      <td>2020-08-01 01:00:00</td>\n",
              "      <td>8567.121168</td>\n",
              "    </tr>\n",
              "    <tr>\n",
              "      <th>2</th>\n",
              "      <td>1</td>\n",
              "      <td>2020-08-01 02:00:00</td>\n",
              "      <td>8569.396944</td>\n",
              "    </tr>\n",
              "    <tr>\n",
              "      <th>3</th>\n",
              "      <td>1</td>\n",
              "      <td>2020-08-01 03:00:00</td>\n",
              "      <td>8593.397568</td>\n",
              "    </tr>\n",
              "    <tr>\n",
              "      <th>4</th>\n",
              "      <td>1</td>\n",
              "      <td>2020-08-01 04:00:00</td>\n",
              "      <td>8607.215520</td>\n",
              "    </tr>\n",
              "    <tr>\n",
              "      <th>...</th>\n",
              "      <td>...</td>\n",
              "      <td>...</td>\n",
              "      <td>...</td>\n",
              "    </tr>\n",
              "    <tr>\n",
              "      <th>34555</th>\n",
              "      <td>60</td>\n",
              "      <td>2020-08-24 19:00:00</td>\n",
              "      <td>3826.051200</td>\n",
              "    </tr>\n",
              "    <tr>\n",
              "      <th>34556</th>\n",
              "      <td>60</td>\n",
              "      <td>2020-08-24 20:00:00</td>\n",
              "      <td>3256.924032</td>\n",
              "    </tr>\n",
              "    <tr>\n",
              "      <th>34557</th>\n",
              "      <td>60</td>\n",
              "      <td>2020-08-24 21:00:00</td>\n",
              "      <td>3649.785696</td>\n",
              "    </tr>\n",
              "    <tr>\n",
              "      <th>34558</th>\n",
              "      <td>60</td>\n",
              "      <td>2020-08-24 22:00:00</td>\n",
              "      <td>3673.616544</td>\n",
              "    </tr>\n",
              "    <tr>\n",
              "      <th>34559</th>\n",
              "      <td>60</td>\n",
              "      <td>2020-08-24 23:00:00</td>\n",
              "      <td>3750.689664</td>\n",
              "    </tr>\n",
              "  </tbody>\n",
              "</table>\n",
              "<p>34560 rows × 3 columns</p>\n",
              "</div>"
            ],
            "text/plain": [
              "       num            date_time   전력사용량(kWh)\n",
              "0        1  2020-08-01 00:00:00  8561.821824\n",
              "1        1  2020-08-01 01:00:00  8567.121168\n",
              "2        1  2020-08-01 02:00:00  8569.396944\n",
              "3        1  2020-08-01 03:00:00  8593.397568\n",
              "4        1  2020-08-01 04:00:00  8607.215520\n",
              "...    ...                  ...          ...\n",
              "34555   60  2020-08-24 19:00:00  3826.051200\n",
              "34556   60  2020-08-24 20:00:00  3256.924032\n",
              "34557   60  2020-08-24 21:00:00  3649.785696\n",
              "34558   60  2020-08-24 22:00:00  3673.616544\n",
              "34559   60  2020-08-24 23:00:00  3750.689664\n",
              "\n",
              "[34560 rows x 3 columns]"
            ]
          },
          "metadata": {},
          "execution_count": 20
        }
      ]
    },
    {
      "cell_type": "code",
      "metadata": {
        "id": "7810dda6",
        "colab": {
          "base_uri": "https://localhost:8080/"
        },
        "outputId": "395ca5fb-d6a0-447e-c1da-5a0e7eee8216"
      },
      "source": [
        "# 결과 제출 \n",
        "pjt.submit(submission)"
      ],
      "id": "7810dda6",
      "execution_count": null,
      "outputs": [
        {
          "output_type": "stream",
          "name": "stdout",
          "text": [
            "파일을 저장하였습니다. 파일명: submission-00-37-25.csv\n",
            "제출 여부 :success\n",
            "오늘 제출 횟수 : 1\n",
            "제출 결과:0.4239426964723295\n"
          ]
        }
      ]
    },
    {
      "cell_type": "markdown",
      "metadata": {
        "id": "19adb2c4"
      },
      "source": [
        "# 데이터 전처리, 모델 튜닝 등 성능을 더 높여보세요"
      ],
      "id": "19adb2c4"
    },
    {
      "cell_type": "code",
      "metadata": {
        "id": "0xIvbDSOVeDp"
      },
      "source": [
        "# datetime 형태 변환\n",
        "train['date_time'] = pd.to_datetime(train['date_time'])\n",
        "test['date_time'] = pd.to_datetime(test['date_time'])"
      ],
      "id": "0xIvbDSOVeDp",
      "execution_count": null,
      "outputs": []
    },
    {
      "cell_type": "code",
      "metadata": {
        "id": "0iXt1lO_V0NC"
      },
      "source": [
        "# 연, 월, 일, 시간 까지만 나누기\n",
        "train['year'] = train['date_time'].dt.year\n",
        "train['month'] = train['date_time'].dt.month\n",
        "train['day'] = train['date_time'].dt.day\n",
        "train['hour'] = train['date_time'].dt.hour\n",
        "\n",
        "test['year'] = test['date_time'].dt.year\n",
        "test['month'] = test['date_time'].dt.month\n",
        "test['day'] = test['date_time'].dt.day\n",
        "test['hour'] = test['date_time'].dt.hour"
      ],
      "id": "0iXt1lO_V0NC",
      "execution_count": null,
      "outputs": []
    },
    {
      "cell_type": "code",
      "metadata": {
        "colab": {
          "base_uri": "https://localhost:8080/"
        },
        "id": "EAgl1fqhWSs6",
        "outputId": "c86680fe-aee7-4af0-be62-51248ea4eb5d"
      },
      "source": [
        "# features 다시 확인\n",
        "features = [\n",
        "    'num',\n",
        "    '기온(°C)',\n",
        "    '풍속(m/s)',\n",
        "    '습도(%)',\n",
        "    '강수량(mm)',\n",
        "    '일조(hr)',\n",
        "    '비전기냉방설비운영',\n",
        "    '태양광보유',\n",
        "    'year',\n",
        "    'month',\n",
        "    'day',\n",
        "    'hour'\n",
        "]\n",
        "features"
      ],
      "id": "EAgl1fqhWSs6",
      "execution_count": null,
      "outputs": [
        {
          "output_type": "execute_result",
          "data": {
            "text/plain": [
              "['num',\n",
              " '기온(°C)',\n",
              " '풍속(m/s)',\n",
              " '습도(%)',\n",
              " '강수량(mm)',\n",
              " '일조(hr)',\n",
              " '비전기냉방설비운영',\n",
              " '태양광보유',\n",
              " 'year',\n",
              " 'month',\n",
              " 'day',\n",
              " 'hour']"
            ]
          },
          "metadata": {},
          "execution_count": 30
        }
      ]
    },
    {
      "cell_type": "code",
      "metadata": {
        "colab": {
          "base_uri": "https://localhost:8080/",
          "height": 623
        },
        "id": "nmBgvbZdWrca",
        "outputId": "f7e794d9-a62a-410f-e0b6-2cb7924c0bb7"
      },
      "source": [
        "train"
      ],
      "id": "nmBgvbZdWrca",
      "execution_count": null,
      "outputs": [
        {
          "output_type": "execute_result",
          "data": {
            "text/html": [
              "<div>\n",
              "<style scoped>\n",
              "    .dataframe tbody tr th:only-of-type {\n",
              "        vertical-align: middle;\n",
              "    }\n",
              "\n",
              "    .dataframe tbody tr th {\n",
              "        vertical-align: top;\n",
              "    }\n",
              "\n",
              "    .dataframe thead th {\n",
              "        text-align: right;\n",
              "    }\n",
              "</style>\n",
              "<table border=\"1\" class=\"dataframe\">\n",
              "  <thead>\n",
              "    <tr style=\"text-align: right;\">\n",
              "      <th></th>\n",
              "      <th>num</th>\n",
              "      <th>date_time</th>\n",
              "      <th>전력사용량(kWh)</th>\n",
              "      <th>기온(°C)</th>\n",
              "      <th>풍속(m/s)</th>\n",
              "      <th>습도(%)</th>\n",
              "      <th>강수량(mm)</th>\n",
              "      <th>일조(hr)</th>\n",
              "      <th>비전기냉방설비운영</th>\n",
              "      <th>태양광보유</th>\n",
              "      <th>year</th>\n",
              "      <th>month</th>\n",
              "      <th>day</th>\n",
              "      <th>hour</th>\n",
              "    </tr>\n",
              "  </thead>\n",
              "  <tbody>\n",
              "    <tr>\n",
              "      <th>0</th>\n",
              "      <td>1</td>\n",
              "      <td>2020-06-01 00:00:00</td>\n",
              "      <td>8179.056</td>\n",
              "      <td>17.6</td>\n",
              "      <td>2.5</td>\n",
              "      <td>92.0</td>\n",
              "      <td>0.8</td>\n",
              "      <td>0.0</td>\n",
              "      <td>0.0</td>\n",
              "      <td>0.0</td>\n",
              "      <td>2020</td>\n",
              "      <td>6</td>\n",
              "      <td>1</td>\n",
              "      <td>0</td>\n",
              "    </tr>\n",
              "    <tr>\n",
              "      <th>1</th>\n",
              "      <td>1</td>\n",
              "      <td>2020-06-01 01:00:00</td>\n",
              "      <td>8135.640</td>\n",
              "      <td>17.7</td>\n",
              "      <td>2.9</td>\n",
              "      <td>91.0</td>\n",
              "      <td>0.3</td>\n",
              "      <td>0.0</td>\n",
              "      <td>0.0</td>\n",
              "      <td>0.0</td>\n",
              "      <td>2020</td>\n",
              "      <td>6</td>\n",
              "      <td>1</td>\n",
              "      <td>1</td>\n",
              "    </tr>\n",
              "    <tr>\n",
              "      <th>2</th>\n",
              "      <td>1</td>\n",
              "      <td>2020-06-01 02:00:00</td>\n",
              "      <td>8107.128</td>\n",
              "      <td>17.5</td>\n",
              "      <td>3.2</td>\n",
              "      <td>91.0</td>\n",
              "      <td>0.0</td>\n",
              "      <td>0.0</td>\n",
              "      <td>0.0</td>\n",
              "      <td>0.0</td>\n",
              "      <td>2020</td>\n",
              "      <td>6</td>\n",
              "      <td>1</td>\n",
              "      <td>2</td>\n",
              "    </tr>\n",
              "    <tr>\n",
              "      <th>3</th>\n",
              "      <td>1</td>\n",
              "      <td>2020-06-01 03:00:00</td>\n",
              "      <td>8048.808</td>\n",
              "      <td>17.1</td>\n",
              "      <td>3.2</td>\n",
              "      <td>91.0</td>\n",
              "      <td>0.0</td>\n",
              "      <td>0.0</td>\n",
              "      <td>0.0</td>\n",
              "      <td>0.0</td>\n",
              "      <td>2020</td>\n",
              "      <td>6</td>\n",
              "      <td>1</td>\n",
              "      <td>3</td>\n",
              "    </tr>\n",
              "    <tr>\n",
              "      <th>4</th>\n",
              "      <td>1</td>\n",
              "      <td>2020-06-01 04:00:00</td>\n",
              "      <td>8043.624</td>\n",
              "      <td>17.0</td>\n",
              "      <td>3.3</td>\n",
              "      <td>92.0</td>\n",
              "      <td>0.0</td>\n",
              "      <td>0.0</td>\n",
              "      <td>0.0</td>\n",
              "      <td>0.0</td>\n",
              "      <td>2020</td>\n",
              "      <td>6</td>\n",
              "      <td>1</td>\n",
              "      <td>4</td>\n",
              "    </tr>\n",
              "    <tr>\n",
              "      <th>...</th>\n",
              "      <td>...</td>\n",
              "      <td>...</td>\n",
              "      <td>...</td>\n",
              "      <td>...</td>\n",
              "      <td>...</td>\n",
              "      <td>...</td>\n",
              "      <td>...</td>\n",
              "      <td>...</td>\n",
              "      <td>...</td>\n",
              "      <td>...</td>\n",
              "      <td>...</td>\n",
              "      <td>...</td>\n",
              "      <td>...</td>\n",
              "      <td>...</td>\n",
              "    </tr>\n",
              "    <tr>\n",
              "      <th>87835</th>\n",
              "      <td>60</td>\n",
              "      <td>2020-07-31 19:00:00</td>\n",
              "      <td>3603.744</td>\n",
              "      <td>25.0</td>\n",
              "      <td>2.7</td>\n",
              "      <td>95.0</td>\n",
              "      <td>0.0</td>\n",
              "      <td>0.0</td>\n",
              "      <td>1.0</td>\n",
              "      <td>1.0</td>\n",
              "      <td>2020</td>\n",
              "      <td>7</td>\n",
              "      <td>31</td>\n",
              "      <td>19</td>\n",
              "    </tr>\n",
              "    <tr>\n",
              "      <th>87836</th>\n",
              "      <td>60</td>\n",
              "      <td>2020-07-31 20:00:00</td>\n",
              "      <td>3688.848</td>\n",
              "      <td>24.9</td>\n",
              "      <td>2.5</td>\n",
              "      <td>96.0</td>\n",
              "      <td>0.0</td>\n",
              "      <td>0.0</td>\n",
              "      <td>1.0</td>\n",
              "      <td>1.0</td>\n",
              "      <td>2020</td>\n",
              "      <td>7</td>\n",
              "      <td>31</td>\n",
              "      <td>20</td>\n",
              "    </tr>\n",
              "    <tr>\n",
              "      <th>87837</th>\n",
              "      <td>60</td>\n",
              "      <td>2020-07-31 21:00:00</td>\n",
              "      <td>3765.312</td>\n",
              "      <td>24.9</td>\n",
              "      <td>1.9</td>\n",
              "      <td>96.0</td>\n",
              "      <td>0.0</td>\n",
              "      <td>0.0</td>\n",
              "      <td>1.0</td>\n",
              "      <td>1.0</td>\n",
              "      <td>2020</td>\n",
              "      <td>7</td>\n",
              "      <td>31</td>\n",
              "      <td>21</td>\n",
              "    </tr>\n",
              "    <tr>\n",
              "      <th>87838</th>\n",
              "      <td>60</td>\n",
              "      <td>2020-07-31 22:00:00</td>\n",
              "      <td>3833.568</td>\n",
              "      <td>24.9</td>\n",
              "      <td>2.8</td>\n",
              "      <td>97.0</td>\n",
              "      <td>0.0</td>\n",
              "      <td>0.0</td>\n",
              "      <td>1.0</td>\n",
              "      <td>1.0</td>\n",
              "      <td>2020</td>\n",
              "      <td>7</td>\n",
              "      <td>31</td>\n",
              "      <td>22</td>\n",
              "    </tr>\n",
              "    <tr>\n",
              "      <th>87839</th>\n",
              "      <td>60</td>\n",
              "      <td>2020-07-31 23:00:00</td>\n",
              "      <td>3309.120</td>\n",
              "      <td>24.9</td>\n",
              "      <td>2.2</td>\n",
              "      <td>97.0</td>\n",
              "      <td>0.0</td>\n",
              "      <td>0.0</td>\n",
              "      <td>1.0</td>\n",
              "      <td>1.0</td>\n",
              "      <td>2020</td>\n",
              "      <td>7</td>\n",
              "      <td>31</td>\n",
              "      <td>23</td>\n",
              "    </tr>\n",
              "  </tbody>\n",
              "</table>\n",
              "<p>87840 rows × 14 columns</p>\n",
              "</div>"
            ],
            "text/plain": [
              "       num           date_time  전력사용량(kWh)  기온(°C)  ...  year  month  day  hour\n",
              "0        1 2020-06-01 00:00:00    8179.056    17.6  ...  2020      6    1     0\n",
              "1        1 2020-06-01 01:00:00    8135.640    17.7  ...  2020      6    1     1\n",
              "2        1 2020-06-01 02:00:00    8107.128    17.5  ...  2020      6    1     2\n",
              "3        1 2020-06-01 03:00:00    8048.808    17.1  ...  2020      6    1     3\n",
              "4        1 2020-06-01 04:00:00    8043.624    17.0  ...  2020      6    1     4\n",
              "...    ...                 ...         ...     ...  ...   ...    ...  ...   ...\n",
              "87835   60 2020-07-31 19:00:00    3603.744    25.0  ...  2020      7   31    19\n",
              "87836   60 2020-07-31 20:00:00    3688.848    24.9  ...  2020      7   31    20\n",
              "87837   60 2020-07-31 21:00:00    3765.312    24.9  ...  2020      7   31    21\n",
              "87838   60 2020-07-31 22:00:00    3833.568    24.9  ...  2020      7   31    22\n",
              "87839   60 2020-07-31 23:00:00    3309.120    24.9  ...  2020      7   31    23\n",
              "\n",
              "[87840 rows x 14 columns]"
            ]
          },
          "metadata": {},
          "execution_count": 32
        }
      ]
    },
    {
      "cell_type": "code",
      "metadata": {
        "id": "e142e981",
        "colab": {
          "base_uri": "https://localhost:8080/",
          "height": 1000
        },
        "outputId": "4ff76eae-4d70-414b-b277-5dd642e171aa"
      },
      "source": [
        "# 분산치 확인 (박스 그래프)\n",
        "train.plot(kind='box', figsize=(15,15), subplots=True, layout=(4,5))\n",
        "plt.show"
      ],
      "id": "e142e981",
      "execution_count": null,
      "outputs": [
        {
          "output_type": "execute_result",
          "data": {
            "text/plain": [
              "<function matplotlib.pyplot.show>"
            ]
          },
          "metadata": {},
          "execution_count": 76
        },
        {
          "output_type": "stream",
          "name": "stderr",
          "text": [
            "/usr/local/lib/python3.7/dist-packages/matplotlib/backends/backend_agg.py:214: RuntimeWarning: Glyph 51204 missing from current font.\n",
            "  font.set_text(s, 0.0, flags=flags)\n",
            "/usr/local/lib/python3.7/dist-packages/matplotlib/backends/backend_agg.py:214: RuntimeWarning: Glyph 47141 missing from current font.\n",
            "  font.set_text(s, 0.0, flags=flags)\n",
            "/usr/local/lib/python3.7/dist-packages/matplotlib/backends/backend_agg.py:214: RuntimeWarning: Glyph 49324 missing from current font.\n",
            "  font.set_text(s, 0.0, flags=flags)\n",
            "/usr/local/lib/python3.7/dist-packages/matplotlib/backends/backend_agg.py:214: RuntimeWarning: Glyph 50857 missing from current font.\n",
            "  font.set_text(s, 0.0, flags=flags)\n",
            "/usr/local/lib/python3.7/dist-packages/matplotlib/backends/backend_agg.py:214: RuntimeWarning: Glyph 47049 missing from current font.\n",
            "  font.set_text(s, 0.0, flags=flags)\n",
            "/usr/local/lib/python3.7/dist-packages/matplotlib/backends/backend_agg.py:183: RuntimeWarning: Glyph 51204 missing from current font.\n",
            "  font.set_text(s, 0, flags=flags)\n",
            "/usr/local/lib/python3.7/dist-packages/matplotlib/backends/backend_agg.py:183: RuntimeWarning: Glyph 47141 missing from current font.\n",
            "  font.set_text(s, 0, flags=flags)\n",
            "/usr/local/lib/python3.7/dist-packages/matplotlib/backends/backend_agg.py:183: RuntimeWarning: Glyph 49324 missing from current font.\n",
            "  font.set_text(s, 0, flags=flags)\n",
            "/usr/local/lib/python3.7/dist-packages/matplotlib/backends/backend_agg.py:183: RuntimeWarning: Glyph 50857 missing from current font.\n",
            "  font.set_text(s, 0, flags=flags)\n",
            "/usr/local/lib/python3.7/dist-packages/matplotlib/backends/backend_agg.py:183: RuntimeWarning: Glyph 47049 missing from current font.\n",
            "  font.set_text(s, 0, flags=flags)\n",
            "/usr/local/lib/python3.7/dist-packages/matplotlib/backends/backend_agg.py:214: RuntimeWarning: Glyph 44592 missing from current font.\n",
            "  font.set_text(s, 0.0, flags=flags)\n",
            "/usr/local/lib/python3.7/dist-packages/matplotlib/backends/backend_agg.py:214: RuntimeWarning: Glyph 50728 missing from current font.\n",
            "  font.set_text(s, 0.0, flags=flags)\n",
            "/usr/local/lib/python3.7/dist-packages/matplotlib/backends/backend_agg.py:183: RuntimeWarning: Glyph 44592 missing from current font.\n",
            "  font.set_text(s, 0, flags=flags)\n",
            "/usr/local/lib/python3.7/dist-packages/matplotlib/backends/backend_agg.py:183: RuntimeWarning: Glyph 50728 missing from current font.\n",
            "  font.set_text(s, 0, flags=flags)\n",
            "/usr/local/lib/python3.7/dist-packages/matplotlib/backends/backend_agg.py:214: RuntimeWarning: Glyph 54413 missing from current font.\n",
            "  font.set_text(s, 0.0, flags=flags)\n",
            "/usr/local/lib/python3.7/dist-packages/matplotlib/backends/backend_agg.py:214: RuntimeWarning: Glyph 49549 missing from current font.\n",
            "  font.set_text(s, 0.0, flags=flags)\n",
            "/usr/local/lib/python3.7/dist-packages/matplotlib/backends/backend_agg.py:183: RuntimeWarning: Glyph 54413 missing from current font.\n",
            "  font.set_text(s, 0, flags=flags)\n",
            "/usr/local/lib/python3.7/dist-packages/matplotlib/backends/backend_agg.py:183: RuntimeWarning: Glyph 49549 missing from current font.\n",
            "  font.set_text(s, 0, flags=flags)\n",
            "/usr/local/lib/python3.7/dist-packages/matplotlib/backends/backend_agg.py:214: RuntimeWarning: Glyph 49845 missing from current font.\n",
            "  font.set_text(s, 0.0, flags=flags)\n",
            "/usr/local/lib/python3.7/dist-packages/matplotlib/backends/backend_agg.py:214: RuntimeWarning: Glyph 46020 missing from current font.\n",
            "  font.set_text(s, 0.0, flags=flags)\n",
            "/usr/local/lib/python3.7/dist-packages/matplotlib/backends/backend_agg.py:183: RuntimeWarning: Glyph 49845 missing from current font.\n",
            "  font.set_text(s, 0, flags=flags)\n",
            "/usr/local/lib/python3.7/dist-packages/matplotlib/backends/backend_agg.py:183: RuntimeWarning: Glyph 46020 missing from current font.\n",
            "  font.set_text(s, 0, flags=flags)\n",
            "/usr/local/lib/python3.7/dist-packages/matplotlib/backends/backend_agg.py:214: RuntimeWarning: Glyph 44053 missing from current font.\n",
            "  font.set_text(s, 0.0, flags=flags)\n",
            "/usr/local/lib/python3.7/dist-packages/matplotlib/backends/backend_agg.py:214: RuntimeWarning: Glyph 49688 missing from current font.\n",
            "  font.set_text(s, 0.0, flags=flags)\n",
            "/usr/local/lib/python3.7/dist-packages/matplotlib/backends/backend_agg.py:183: RuntimeWarning: Glyph 44053 missing from current font.\n",
            "  font.set_text(s, 0, flags=flags)\n",
            "/usr/local/lib/python3.7/dist-packages/matplotlib/backends/backend_agg.py:183: RuntimeWarning: Glyph 49688 missing from current font.\n",
            "  font.set_text(s, 0, flags=flags)\n",
            "/usr/local/lib/python3.7/dist-packages/matplotlib/backends/backend_agg.py:214: RuntimeWarning: Glyph 51068 missing from current font.\n",
            "  font.set_text(s, 0.0, flags=flags)\n",
            "/usr/local/lib/python3.7/dist-packages/matplotlib/backends/backend_agg.py:214: RuntimeWarning: Glyph 51312 missing from current font.\n",
            "  font.set_text(s, 0.0, flags=flags)\n",
            "/usr/local/lib/python3.7/dist-packages/matplotlib/backends/backend_agg.py:183: RuntimeWarning: Glyph 51068 missing from current font.\n",
            "  font.set_text(s, 0, flags=flags)\n",
            "/usr/local/lib/python3.7/dist-packages/matplotlib/backends/backend_agg.py:183: RuntimeWarning: Glyph 51312 missing from current font.\n",
            "  font.set_text(s, 0, flags=flags)\n",
            "/usr/local/lib/python3.7/dist-packages/matplotlib/backends/backend_agg.py:214: RuntimeWarning: Glyph 48708 missing from current font.\n",
            "  font.set_text(s, 0.0, flags=flags)\n",
            "/usr/local/lib/python3.7/dist-packages/matplotlib/backends/backend_agg.py:214: RuntimeWarning: Glyph 45257 missing from current font.\n",
            "  font.set_text(s, 0.0, flags=flags)\n",
            "/usr/local/lib/python3.7/dist-packages/matplotlib/backends/backend_agg.py:214: RuntimeWarning: Glyph 48169 missing from current font.\n",
            "  font.set_text(s, 0.0, flags=flags)\n",
            "/usr/local/lib/python3.7/dist-packages/matplotlib/backends/backend_agg.py:214: RuntimeWarning: Glyph 49444 missing from current font.\n",
            "  font.set_text(s, 0.0, flags=flags)\n",
            "/usr/local/lib/python3.7/dist-packages/matplotlib/backends/backend_agg.py:214: RuntimeWarning: Glyph 50868 missing from current font.\n",
            "  font.set_text(s, 0.0, flags=flags)\n",
            "/usr/local/lib/python3.7/dist-packages/matplotlib/backends/backend_agg.py:214: RuntimeWarning: Glyph 50689 missing from current font.\n",
            "  font.set_text(s, 0.0, flags=flags)\n",
            "/usr/local/lib/python3.7/dist-packages/matplotlib/backends/backend_agg.py:183: RuntimeWarning: Glyph 48708 missing from current font.\n",
            "  font.set_text(s, 0, flags=flags)\n",
            "/usr/local/lib/python3.7/dist-packages/matplotlib/backends/backend_agg.py:183: RuntimeWarning: Glyph 45257 missing from current font.\n",
            "  font.set_text(s, 0, flags=flags)\n",
            "/usr/local/lib/python3.7/dist-packages/matplotlib/backends/backend_agg.py:183: RuntimeWarning: Glyph 48169 missing from current font.\n",
            "  font.set_text(s, 0, flags=flags)\n",
            "/usr/local/lib/python3.7/dist-packages/matplotlib/backends/backend_agg.py:183: RuntimeWarning: Glyph 49444 missing from current font.\n",
            "  font.set_text(s, 0, flags=flags)\n",
            "/usr/local/lib/python3.7/dist-packages/matplotlib/backends/backend_agg.py:183: RuntimeWarning: Glyph 50868 missing from current font.\n",
            "  font.set_text(s, 0, flags=flags)\n",
            "/usr/local/lib/python3.7/dist-packages/matplotlib/backends/backend_agg.py:183: RuntimeWarning: Glyph 50689 missing from current font.\n",
            "  font.set_text(s, 0, flags=flags)\n",
            "/usr/local/lib/python3.7/dist-packages/matplotlib/backends/backend_agg.py:214: RuntimeWarning: Glyph 53468 missing from current font.\n",
            "  font.set_text(s, 0.0, flags=flags)\n",
            "/usr/local/lib/python3.7/dist-packages/matplotlib/backends/backend_agg.py:214: RuntimeWarning: Glyph 50577 missing from current font.\n",
            "  font.set_text(s, 0.0, flags=flags)\n",
            "/usr/local/lib/python3.7/dist-packages/matplotlib/backends/backend_agg.py:214: RuntimeWarning: Glyph 44305 missing from current font.\n",
            "  font.set_text(s, 0.0, flags=flags)\n",
            "/usr/local/lib/python3.7/dist-packages/matplotlib/backends/backend_agg.py:214: RuntimeWarning: Glyph 48372 missing from current font.\n",
            "  font.set_text(s, 0.0, flags=flags)\n",
            "/usr/local/lib/python3.7/dist-packages/matplotlib/backends/backend_agg.py:214: RuntimeWarning: Glyph 50976 missing from current font.\n",
            "  font.set_text(s, 0.0, flags=flags)\n",
            "/usr/local/lib/python3.7/dist-packages/matplotlib/backends/backend_agg.py:183: RuntimeWarning: Glyph 53468 missing from current font.\n",
            "  font.set_text(s, 0, flags=flags)\n",
            "/usr/local/lib/python3.7/dist-packages/matplotlib/backends/backend_agg.py:183: RuntimeWarning: Glyph 50577 missing from current font.\n",
            "  font.set_text(s, 0, flags=flags)\n",
            "/usr/local/lib/python3.7/dist-packages/matplotlib/backends/backend_agg.py:183: RuntimeWarning: Glyph 44305 missing from current font.\n",
            "  font.set_text(s, 0, flags=flags)\n",
            "/usr/local/lib/python3.7/dist-packages/matplotlib/backends/backend_agg.py:183: RuntimeWarning: Glyph 48372 missing from current font.\n",
            "  font.set_text(s, 0, flags=flags)\n",
            "/usr/local/lib/python3.7/dist-packages/matplotlib/backends/backend_agg.py:183: RuntimeWarning: Glyph 50976 missing from current font.\n",
            "  font.set_text(s, 0, flags=flags)\n"
          ]
        },
        {
          "output_type": "display_data",
          "data": {
            "image/png": "[encoded data removed]",
            "text/plain": [
              "<Figure size 1080x1080 with 20 Axes>"
            ]
          },
          "metadata": {
            "needs_background": "light"
          }
        }
      ]
    },
    {
      "cell_type": "code",
      "metadata": {
        "colab": {
          "base_uri": "https://localhost:8080/"
        },
        "id": "lgMO1BWdvT77",
        "outputId": "e7fd26e6-121b-44a2-f534-86a99421e320"
      },
      "source": [
        "train.var()"
      ],
      "id": "lgMO1BWdvT77",
      "execution_count": null,
      "outputs": [
        {
          "output_type": "execute_result",
          "data": {
            "text/plain": [
              "num           2.999201e+02\n",
              "전력사용량(kWh)    4.019446e+06\n",
              "기온(°C)        1.000011e+00\n",
              "풍속(m/s)       1.000011e+00\n",
              "습도(%)         1.000011e+00\n",
              "강수량(mm)       1.000011e+00\n",
              "일조(hr)        1.441573e-01\n",
              "비전기냉방설비운영     2.163914e-01\n",
              "태양광보유         2.497251e-01\n",
              "month         2.499357e-01\n",
              "day           7.756337e+01\n",
              "hour          4.791721e+01\n",
              "kwh_log       5.433328e-01\n",
              "dtype: float64"
            ]
          },
          "metadata": {},
          "execution_count": 75
        }
      ]
    },
    {
      "cell_type": "code",
      "metadata": {
        "id": "-Ua0jPT3XgVE"
      },
      "source": [
        "# 분산값이 0인 컬럼 제거\n",
        "train.var()[train.var() == 0] # year\n",
        "train.drop(train.var()[train.var() == 0].index, axis = 1, inplace=True)"
      ],
      "id": "-Ua0jPT3XgVE",
      "execution_count": null,
      "outputs": []
    },
    {
      "cell_type": "code",
      "metadata": {
        "colab": {
          "base_uri": "https://localhost:8080/",
          "height": 419
        },
        "id": "s68bx9bBX3p9",
        "outputId": "9844fbc2-c271-42ff-ee85-53bc1546d1c9"
      },
      "source": [
        "features = [\n",
        "    'num',\n",
        "    '기온(°C)',\n",
        "    '풍속(m/s)',\n",
        "    '습도(%)',\n",
        "    '강수량(mm)',\n",
        "    '일조(hr)',\n",
        "    '비전기냉방설비운영',\n",
        "    '태양광보유',\n",
        "    'month',\n",
        "    'day',\n",
        "    'hour'\n",
        "]\n",
        "X = train[features]\n",
        "X"
      ],
      "id": "s68bx9bBX3p9",
      "execution_count": null,
      "outputs": [
        {
          "output_type": "execute_result",
          "data": {
            "text/html": [
              "<div>\n",
              "<style scoped>\n",
              "    .dataframe tbody tr th:only-of-type {\n",
              "        vertical-align: middle;\n",
              "    }\n",
              "\n",
              "    .dataframe tbody tr th {\n",
              "        vertical-align: top;\n",
              "    }\n",
              "\n",
              "    .dataframe thead th {\n",
              "        text-align: right;\n",
              "    }\n",
              "</style>\n",
              "<table border=\"1\" class=\"dataframe\">\n",
              "  <thead>\n",
              "    <tr style=\"text-align: right;\">\n",
              "      <th></th>\n",
              "      <th>num</th>\n",
              "      <th>기온(°C)</th>\n",
              "      <th>풍속(m/s)</th>\n",
              "      <th>습도(%)</th>\n",
              "      <th>강수량(mm)</th>\n",
              "      <th>일조(hr)</th>\n",
              "      <th>비전기냉방설비운영</th>\n",
              "      <th>태양광보유</th>\n",
              "      <th>month</th>\n",
              "      <th>day</th>\n",
              "      <th>hour</th>\n",
              "    </tr>\n",
              "  </thead>\n",
              "  <tbody>\n",
              "    <tr>\n",
              "      <th>0</th>\n",
              "      <td>1</td>\n",
              "      <td>17.6</td>\n",
              "      <td>2.5</td>\n",
              "      <td>92.0</td>\n",
              "      <td>0.8</td>\n",
              "      <td>0.0</td>\n",
              "      <td>0.0</td>\n",
              "      <td>0.0</td>\n",
              "      <td>6</td>\n",
              "      <td>1</td>\n",
              "      <td>0</td>\n",
              "    </tr>\n",
              "    <tr>\n",
              "      <th>1</th>\n",
              "      <td>1</td>\n",
              "      <td>17.7</td>\n",
              "      <td>2.9</td>\n",
              "      <td>91.0</td>\n",
              "      <td>0.3</td>\n",
              "      <td>0.0</td>\n",
              "      <td>0.0</td>\n",
              "      <td>0.0</td>\n",
              "      <td>6</td>\n",
              "      <td>1</td>\n",
              "      <td>1</td>\n",
              "    </tr>\n",
              "    <tr>\n",
              "      <th>2</th>\n",
              "      <td>1</td>\n",
              "      <td>17.5</td>\n",
              "      <td>3.2</td>\n",
              "      <td>91.0</td>\n",
              "      <td>0.0</td>\n",
              "      <td>0.0</td>\n",
              "      <td>0.0</td>\n",
              "      <td>0.0</td>\n",
              "      <td>6</td>\n",
              "      <td>1</td>\n",
              "      <td>2</td>\n",
              "    </tr>\n",
              "    <tr>\n",
              "      <th>3</th>\n",
              "      <td>1</td>\n",
              "      <td>17.1</td>\n",
              "      <td>3.2</td>\n",
              "      <td>91.0</td>\n",
              "      <td>0.0</td>\n",
              "      <td>0.0</td>\n",
              "      <td>0.0</td>\n",
              "      <td>0.0</td>\n",
              "      <td>6</td>\n",
              "      <td>1</td>\n",
              "      <td>3</td>\n",
              "    </tr>\n",
              "    <tr>\n",
              "      <th>4</th>\n",
              "      <td>1</td>\n",
              "      <td>17.0</td>\n",
              "      <td>3.3</td>\n",
              "      <td>92.0</td>\n",
              "      <td>0.0</td>\n",
              "      <td>0.0</td>\n",
              "      <td>0.0</td>\n",
              "      <td>0.0</td>\n",
              "      <td>6</td>\n",
              "      <td>1</td>\n",
              "      <td>4</td>\n",
              "    </tr>\n",
              "    <tr>\n",
              "      <th>...</th>\n",
              "      <td>...</td>\n",
              "      <td>...</td>\n",
              "      <td>...</td>\n",
              "      <td>...</td>\n",
              "      <td>...</td>\n",
              "      <td>...</td>\n",
              "      <td>...</td>\n",
              "      <td>...</td>\n",
              "      <td>...</td>\n",
              "      <td>...</td>\n",
              "      <td>...</td>\n",
              "    </tr>\n",
              "    <tr>\n",
              "      <th>87835</th>\n",
              "      <td>60</td>\n",
              "      <td>25.0</td>\n",
              "      <td>2.7</td>\n",
              "      <td>95.0</td>\n",
              "      <td>0.0</td>\n",
              "      <td>0.0</td>\n",
              "      <td>1.0</td>\n",
              "      <td>1.0</td>\n",
              "      <td>7</td>\n",
              "      <td>31</td>\n",
              "      <td>19</td>\n",
              "    </tr>\n",
              "    <tr>\n",
              "      <th>87836</th>\n",
              "      <td>60</td>\n",
              "      <td>24.9</td>\n",
              "      <td>2.5</td>\n",
              "      <td>96.0</td>\n",
              "      <td>0.0</td>\n",
              "      <td>0.0</td>\n",
              "      <td>1.0</td>\n",
              "      <td>1.0</td>\n",
              "      <td>7</td>\n",
              "      <td>31</td>\n",
              "      <td>20</td>\n",
              "    </tr>\n",
              "    <tr>\n",
              "      <th>87837</th>\n",
              "      <td>60</td>\n",
              "      <td>24.9</td>\n",
              "      <td>1.9</td>\n",
              "      <td>96.0</td>\n",
              "      <td>0.0</td>\n",
              "      <td>0.0</td>\n",
              "      <td>1.0</td>\n",
              "      <td>1.0</td>\n",
              "      <td>7</td>\n",
              "      <td>31</td>\n",
              "      <td>21</td>\n",
              "    </tr>\n",
              "    <tr>\n",
              "      <th>87838</th>\n",
              "      <td>60</td>\n",
              "      <td>24.9</td>\n",
              "      <td>2.8</td>\n",
              "      <td>97.0</td>\n",
              "      <td>0.0</td>\n",
              "      <td>0.0</td>\n",
              "      <td>1.0</td>\n",
              "      <td>1.0</td>\n",
              "      <td>7</td>\n",
              "      <td>31</td>\n",
              "      <td>22</td>\n",
              "    </tr>\n",
              "    <tr>\n",
              "      <th>87839</th>\n",
              "      <td>60</td>\n",
              "      <td>24.9</td>\n",
              "      <td>2.2</td>\n",
              "      <td>97.0</td>\n",
              "      <td>0.0</td>\n",
              "      <td>0.0</td>\n",
              "      <td>1.0</td>\n",
              "      <td>1.0</td>\n",
              "      <td>7</td>\n",
              "      <td>31</td>\n",
              "      <td>23</td>\n",
              "    </tr>\n",
              "  </tbody>\n",
              "</table>\n",
              "<p>87840 rows × 11 columns</p>\n",
              "</div>"
            ],
            "text/plain": [
              "       num  기온(°C)  풍속(m/s)  습도(%)  강수량(mm)  ...  비전기냉방설비운영  태양광보유  month  day  hour\n",
              "0        1    17.6      2.5   92.0      0.8  ...        0.0    0.0      6    1     0\n",
              "1        1    17.7      2.9   91.0      0.3  ...        0.0    0.0      6    1     1\n",
              "2        1    17.5      3.2   91.0      0.0  ...        0.0    0.0      6    1     2\n",
              "3        1    17.1      3.2   91.0      0.0  ...        0.0    0.0      6    1     3\n",
              "4        1    17.0      3.3   92.0      0.0  ...        0.0    0.0      6    1     4\n",
              "...    ...     ...      ...    ...      ...  ...        ...    ...    ...  ...   ...\n",
              "87835   60    25.0      2.7   95.0      0.0  ...        1.0    1.0      7   31    19\n",
              "87836   60    24.9      2.5   96.0      0.0  ...        1.0    1.0      7   31    20\n",
              "87837   60    24.9      1.9   96.0      0.0  ...        1.0    1.0      7   31    21\n",
              "87838   60    24.9      2.8   97.0      0.0  ...        1.0    1.0      7   31    22\n",
              "87839   60    24.9      2.2   97.0      0.0  ...        1.0    1.0      7   31    23\n",
              "\n",
              "[87840 rows x 11 columns]"
            ]
          },
          "metadata": {},
          "execution_count": 38
        }
      ]
    },
    {
      "cell_type": "code",
      "metadata": {
        "colab": {
          "base_uri": "https://localhost:8080/",
          "height": 623
        },
        "id": "v0UZIDlmYCN9",
        "outputId": "d45a9df7-776f-4a9b-9bdf-456733a996c6"
      },
      "source": [
        "# y label log 변환\n",
        "train['kwh_log'] = np.log1p(train['전력사용량(kWh)'])\n",
        "train"
      ],
      "id": "v0UZIDlmYCN9",
      "execution_count": null,
      "outputs": [
        {
          "output_type": "execute_result",
          "data": {
            "text/html": [
              "<div>\n",
              "<style scoped>\n",
              "    .dataframe tbody tr th:only-of-type {\n",
              "        vertical-align: middle;\n",
              "    }\n",
              "\n",
              "    .dataframe tbody tr th {\n",
              "        vertical-align: top;\n",
              "    }\n",
              "\n",
              "    .dataframe thead th {\n",
              "        text-align: right;\n",
              "    }\n",
              "</style>\n",
              "<table border=\"1\" class=\"dataframe\">\n",
              "  <thead>\n",
              "    <tr style=\"text-align: right;\">\n",
              "      <th></th>\n",
              "      <th>num</th>\n",
              "      <th>date_time</th>\n",
              "      <th>전력사용량(kWh)</th>\n",
              "      <th>기온(°C)</th>\n",
              "      <th>풍속(m/s)</th>\n",
              "      <th>습도(%)</th>\n",
              "      <th>강수량(mm)</th>\n",
              "      <th>일조(hr)</th>\n",
              "      <th>비전기냉방설비운영</th>\n",
              "      <th>태양광보유</th>\n",
              "      <th>month</th>\n",
              "      <th>day</th>\n",
              "      <th>hour</th>\n",
              "      <th>kwh_log</th>\n",
              "    </tr>\n",
              "  </thead>\n",
              "  <tbody>\n",
              "    <tr>\n",
              "      <th>0</th>\n",
              "      <td>1</td>\n",
              "      <td>2020-06-01 00:00:00</td>\n",
              "      <td>8179.056</td>\n",
              "      <td>17.6</td>\n",
              "      <td>2.5</td>\n",
              "      <td>92.0</td>\n",
              "      <td>0.8</td>\n",
              "      <td>0.0</td>\n",
              "      <td>0.0</td>\n",
              "      <td>0.0</td>\n",
              "      <td>6</td>\n",
              "      <td>1</td>\n",
              "      <td>0</td>\n",
              "      <td>9.009454</td>\n",
              "    </tr>\n",
              "    <tr>\n",
              "      <th>1</th>\n",
              "      <td>1</td>\n",
              "      <td>2020-06-01 01:00:00</td>\n",
              "      <td>8135.640</td>\n",
              "      <td>17.7</td>\n",
              "      <td>2.9</td>\n",
              "      <td>91.0</td>\n",
              "      <td>0.3</td>\n",
              "      <td>0.0</td>\n",
              "      <td>0.0</td>\n",
              "      <td>0.0</td>\n",
              "      <td>6</td>\n",
              "      <td>1</td>\n",
              "      <td>1</td>\n",
              "      <td>9.004133</td>\n",
              "    </tr>\n",
              "    <tr>\n",
              "      <th>2</th>\n",
              "      <td>1</td>\n",
              "      <td>2020-06-01 02:00:00</td>\n",
              "      <td>8107.128</td>\n",
              "      <td>17.5</td>\n",
              "      <td>3.2</td>\n",
              "      <td>91.0</td>\n",
              "      <td>0.0</td>\n",
              "      <td>0.0</td>\n",
              "      <td>0.0</td>\n",
              "      <td>0.0</td>\n",
              "      <td>6</td>\n",
              "      <td>1</td>\n",
              "      <td>2</td>\n",
              "      <td>9.000622</td>\n",
              "    </tr>\n",
              "    <tr>\n",
              "      <th>3</th>\n",
              "      <td>1</td>\n",
              "      <td>2020-06-01 03:00:00</td>\n",
              "      <td>8048.808</td>\n",
              "      <td>17.1</td>\n",
              "      <td>3.2</td>\n",
              "      <td>91.0</td>\n",
              "      <td>0.0</td>\n",
              "      <td>0.0</td>\n",
              "      <td>0.0</td>\n",
              "      <td>0.0</td>\n",
              "      <td>6</td>\n",
              "      <td>1</td>\n",
              "      <td>3</td>\n",
              "      <td>8.993404</td>\n",
              "    </tr>\n",
              "    <tr>\n",
              "      <th>4</th>\n",
              "      <td>1</td>\n",
              "      <td>2020-06-01 04:00:00</td>\n",
              "      <td>8043.624</td>\n",
              "      <td>17.0</td>\n",
              "      <td>3.3</td>\n",
              "      <td>92.0</td>\n",
              "      <td>0.0</td>\n",
              "      <td>0.0</td>\n",
              "      <td>0.0</td>\n",
              "      <td>0.0</td>\n",
              "      <td>6</td>\n",
              "      <td>1</td>\n",
              "      <td>4</td>\n",
              "      <td>8.992759</td>\n",
              "    </tr>\n",
              "    <tr>\n",
              "      <th>...</th>\n",
              "      <td>...</td>\n",
              "      <td>...</td>\n",
              "      <td>...</td>\n",
              "      <td>...</td>\n",
              "      <td>...</td>\n",
              "      <td>...</td>\n",
              "      <td>...</td>\n",
              "      <td>...</td>\n",
              "      <td>...</td>\n",
              "      <td>...</td>\n",
              "      <td>...</td>\n",
              "      <td>...</td>\n",
              "      <td>...</td>\n",
              "      <td>...</td>\n",
              "    </tr>\n",
              "    <tr>\n",
              "      <th>87835</th>\n",
              "      <td>60</td>\n",
              "      <td>2020-07-31 19:00:00</td>\n",
              "      <td>3603.744</td>\n",
              "      <td>25.0</td>\n",
              "      <td>2.7</td>\n",
              "      <td>95.0</td>\n",
              "      <td>0.0</td>\n",
              "      <td>0.0</td>\n",
              "      <td>1.0</td>\n",
              "      <td>1.0</td>\n",
              "      <td>7</td>\n",
              "      <td>31</td>\n",
              "      <td>19</td>\n",
              "      <td>8.190006</td>\n",
              "    </tr>\n",
              "    <tr>\n",
              "      <th>87836</th>\n",
              "      <td>60</td>\n",
              "      <td>2020-07-31 20:00:00</td>\n",
              "      <td>3688.848</td>\n",
              "      <td>24.9</td>\n",
              "      <td>2.5</td>\n",
              "      <td>96.0</td>\n",
              "      <td>0.0</td>\n",
              "      <td>0.0</td>\n",
              "      <td>1.0</td>\n",
              "      <td>1.0</td>\n",
              "      <td>7</td>\n",
              "      <td>31</td>\n",
              "      <td>20</td>\n",
              "      <td>8.213341</td>\n",
              "    </tr>\n",
              "    <tr>\n",
              "      <th>87837</th>\n",
              "      <td>60</td>\n",
              "      <td>2020-07-31 21:00:00</td>\n",
              "      <td>3765.312</td>\n",
              "      <td>24.9</td>\n",
              "      <td>1.9</td>\n",
              "      <td>96.0</td>\n",
              "      <td>0.0</td>\n",
              "      <td>0.0</td>\n",
              "      <td>1.0</td>\n",
              "      <td>1.0</td>\n",
              "      <td>7</td>\n",
              "      <td>31</td>\n",
              "      <td>21</td>\n",
              "      <td>8.233852</td>\n",
              "    </tr>\n",
              "    <tr>\n",
              "      <th>87838</th>\n",
              "      <td>60</td>\n",
              "      <td>2020-07-31 22:00:00</td>\n",
              "      <td>3833.568</td>\n",
              "      <td>24.9</td>\n",
              "      <td>2.8</td>\n",
              "      <td>97.0</td>\n",
              "      <td>0.0</td>\n",
              "      <td>0.0</td>\n",
              "      <td>1.0</td>\n",
              "      <td>1.0</td>\n",
              "      <td>7</td>\n",
              "      <td>31</td>\n",
              "      <td>22</td>\n",
              "      <td>8.251812</td>\n",
              "    </tr>\n",
              "    <tr>\n",
              "      <th>87839</th>\n",
              "      <td>60</td>\n",
              "      <td>2020-07-31 23:00:00</td>\n",
              "      <td>3309.120</td>\n",
              "      <td>24.9</td>\n",
              "      <td>2.2</td>\n",
              "      <td>97.0</td>\n",
              "      <td>0.0</td>\n",
              "      <td>0.0</td>\n",
              "      <td>1.0</td>\n",
              "      <td>1.0</td>\n",
              "      <td>7</td>\n",
              "      <td>31</td>\n",
              "      <td>23</td>\n",
              "      <td>8.104740</td>\n",
              "    </tr>\n",
              "  </tbody>\n",
              "</table>\n",
              "<p>87840 rows × 14 columns</p>\n",
              "</div>"
            ],
            "text/plain": [
              "       num           date_time  전력사용량(kWh)  기온(°C)  ...  month  day  hour   kwh_log\n",
              "0        1 2020-06-01 00:00:00    8179.056    17.6  ...      6    1     0  9.009454\n",
              "1        1 2020-06-01 01:00:00    8135.640    17.7  ...      6    1     1  9.004133\n",
              "2        1 2020-06-01 02:00:00    8107.128    17.5  ...      6    1     2  9.000622\n",
              "3        1 2020-06-01 03:00:00    8048.808    17.1  ...      6    1     3  8.993404\n",
              "4        1 2020-06-01 04:00:00    8043.624    17.0  ...      6    1     4  8.992759\n",
              "...    ...                 ...         ...     ...  ...    ...  ...   ...       ...\n",
              "87835   60 2020-07-31 19:00:00    3603.744    25.0  ...      7   31    19  8.190006\n",
              "87836   60 2020-07-31 20:00:00    3688.848    24.9  ...      7   31    20  8.213341\n",
              "87837   60 2020-07-31 21:00:00    3765.312    24.9  ...      7   31    21  8.233852\n",
              "87838   60 2020-07-31 22:00:00    3833.568    24.9  ...      7   31    22  8.251812\n",
              "87839   60 2020-07-31 23:00:00    3309.120    24.9  ...      7   31    23  8.104740\n",
              "\n",
              "[87840 rows x 14 columns]"
            ]
          },
          "metadata": {},
          "execution_count": 40
        }
      ]
    },
    {
      "cell_type": "code",
      "metadata": {
        "id": "W2uwhk7hYglR"
      },
      "source": [
        "x_train, x_test, y_train, y_test = train_test_split(X, train['kwh_log'], random_state=123, test_size=0.2)"
      ],
      "id": "W2uwhk7hYglR",
      "execution_count": null,
      "outputs": []
    },
    {
      "cell_type": "code",
      "metadata": {
        "colab": {
          "base_uri": "https://localhost:8080/"
        },
        "id": "x4gqIHyVYkCh",
        "outputId": "c5d62d7f-fa25-4829-ed5c-af5ba797630d"
      },
      "source": [
        "model = RandomForestRegressor(n_estimators=600, random_state=123, n_jobs=1).fit(x_train, y_train)\n",
        "prediction = model.predict(test[features])\n",
        "prediction = np.expm1(prediction)\n",
        "submission['전력사용량(kWh)'] = prediction\n",
        "pjt.submit(submission)"
      ],
      "id": "x4gqIHyVYkCh",
      "execution_count": null,
      "outputs": [
        {
          "output_type": "stream",
          "name": "stdout",
          "text": [
            "파일을 저장하였습니다. 파일명: submission-01-08-38.csv\n",
            "제출 여부 :success\n",
            "오늘 제출 횟수 : 5\n",
            "제출 결과:0.2591338228658714\n"
          ]
        }
      ]
    },
    {
      "cell_type": "code",
      "metadata": {
        "id": "qY5UiyxKaI1z"
      },
      "source": [
        "from sklearn.neighbors import KNeighborsRegressor\n",
        "from sklearn.linear_model import LinearRegression\n",
        "from sklearn.linear_model import Ridge\n",
        "from sklearn.linear_model import Lasso\n",
        "from sklearn.tree import DecisionTreeRegressor\n",
        "from sklearn.ensemble import RandomForestRegressor\n",
        "from sklearn.ensemble import GradientBoostingRegressor\n",
        "from xgboost import XGBRegressor\n",
        "from lightgbm import LGBMRegressor"
      ],
      "id": "qY5UiyxKaI1z",
      "execution_count": null,
      "outputs": []
    },
    {
      "cell_type": "code",
      "metadata": {
        "colab": {
          "base_uri": "https://localhost:8080/"
        },
        "id": "_OrDrwxvaJ0k",
        "outputId": "85533638-d4d9-4e27-e7c3-88a56cc895c2"
      },
      "source": [
        "# 다른 모델로 확인해보기\n",
        "# decision\n",
        "model = DecisionTreeRegressor(max_depth=5 ,random_state=123).fit(x_train, y_train)\n",
        "prediction = model.predict(test[features])\n",
        "prediction = np.expm1(prediction)\n",
        "submission['전력사용량(kWh)'] = prediction\n",
        "pjt.submit(submission)"
      ],
      "id": "_OrDrwxvaJ0k",
      "execution_count": null,
      "outputs": [
        {
          "output_type": "stream",
          "name": "stdout",
          "text": [
            "파일을 저장하였습니다. 파일명: submission-01-01-43.csv\n",
            "제출 여부 :success\n",
            "오늘 제출 횟수 : 3\n",
            "제출 결과:0.6042177551190486\n"
          ]
        }
      ]
    },
    {
      "cell_type": "code",
      "metadata": {
        "colab": {
          "base_uri": "https://localhost:8080/"
        },
        "id": "1U3c3D2baSfK",
        "outputId": "4d425cd7-d9fb-4c04-e305-7b7405836fbb"
      },
      "source": [
        "# gradient\n",
        "model = GradientBoostingRegressor(n_estimators=750, random_state=123).fit(x_train, y_train)\n",
        "prediction = model.predict(test[features])\n",
        "prediction = np.expm1(prediction)\n",
        "submission['전력사용량(kWh)'] = prediction\n",
        "pjt.submit(submission)"
      ],
      "id": "1U3c3D2baSfK",
      "execution_count": null,
      "outputs": [
        {
          "output_type": "stream",
          "name": "stdout",
          "text": [
            "파일을 저장하였습니다. 파일명: submission-01-03-05.csv\n",
            "제출 여부 :success\n",
            "오늘 제출 횟수 : 4\n",
            "제출 결과:0.29244268463002415\n"
          ]
        }
      ]
    },
    {
      "cell_type": "code",
      "metadata": {
        "colab": {
          "base_uri": "https://localhost:8080/"
        },
        "id": "5j-AySSgaT3S",
        "outputId": "8dd2e3d9-6397-4dd7-e019-73f6ef0e4389"
      },
      "source": [
        "# xgb\n",
        "model = XGBRegressor(learning_rate = 0.1, n_estimators=700, n_jobs=-1, gamma=3, max_depth=5).fit(x_train, y_train)\n",
        "prediction = model.predict(test[features])\n",
        "prediction = np.expm1(prediction)\n",
        "submission['전력사용량(kWh)'] = prediction\n",
        "pjt.submit(submission)"
      ],
      "id": "5j-AySSgaT3S",
      "execution_count": null,
      "outputs": [
        {
          "output_type": "stream",
          "name": "stdout",
          "text": [
            "[01:11:33] WARNING: /workspace/src/objective/regression_obj.cu:152: reg:linear is now deprecated in favor of reg:squarederror.\n",
            "파일을 저장하였습니다. 파일명: submission-01-12-04.csv\n",
            "제출 여부 :success\n",
            "오늘 제출 횟수 : 7\n",
            "제출 결과:0.2913184364625581\n"
          ]
        }
      ]
    },
    {
      "cell_type": "code",
      "metadata": {
        "colab": {
          "base_uri": "https://localhost:8080/"
        },
        "id": "4o1uZEUYaUq0",
        "outputId": "26d23e77-9222-4947-cf59-d97630a328f9"
      },
      "source": [
        "# lgbm\n",
        "model = LGBMRegressor(learning_rate = 0.05, num_iterations=1000, n_jobs=-1, random_state=123, n_estimators=600).fit(x_train, y_train)\n",
        "prediction = model.predict(test[features])\n",
        "prediction = np.expm1(prediction)\n",
        "submission['전력사용량(kWh)'] = prediction\n",
        "pjt.submit(submission)"
      ],
      "id": "4o1uZEUYaUq0",
      "execution_count": null,
      "outputs": [
        {
          "output_type": "stream",
          "name": "stderr",
          "text": [
            "/usr/local/lib/python3.7/dist-packages/lightgbm/engine.py:118: UserWarning: Found `num_iterations` in params. Will use it instead of argument\n",
            "  warnings.warn(\"Found `{}` in params. Will use it instead of argument\".format(alias))\n"
          ]
        },
        {
          "output_type": "stream",
          "name": "stdout",
          "text": [
            "파일을 저장하였습니다. 파일명: submission-01-13-56.csv\n",
            "제출 여부 :success\n",
            "오늘 제출 횟수 : 9\n",
            "제출 결과:0.27675673149906344\n"
          ]
        }
      ]
    },
    {
      "cell_type": "code",
      "metadata": {
        "id": "hLMB7u1NfAnU"
      },
      "source": [
        "# 이놈들을 한번 다져보자\n",
        "continuous = ['기온(°C)', '풍속(m/s)', '습도(%)', '강수량(mm)',]"
      ],
      "id": "hLMB7u1NfAnU",
      "execution_count": null,
      "outputs": []
    },
    {
      "cell_type": "code",
      "metadata": {
        "colab": {
          "base_uri": "https://localhost:8080/",
          "height": 1000
        },
        "id": "0KE5dwnVelmj",
        "outputId": "48c6eefa-969e-4ede-90e8-b5a344bc27b2"
      },
      "source": [
        "plt.figure(figsize=(15, 15))\n",
        "for index, col_name in enumerate(continuous):\n",
        "    plt.subplot(3,3,index+1)\n",
        "    sns.histplot(train[col_name])"
      ],
      "id": "0KE5dwnVelmj",
      "execution_count": null,
      "outputs": [
        {
          "output_type": "stream",
          "name": "stderr",
          "text": [
            "/usr/local/lib/python3.7/dist-packages/matplotlib/backends/backend_agg.py:214: RuntimeWarning: Glyph 44592 missing from current font.\n",
            "  font.set_text(s, 0.0, flags=flags)\n",
            "/usr/local/lib/python3.7/dist-packages/matplotlib/backends/backend_agg.py:214: RuntimeWarning: Glyph 50728 missing from current font.\n",
            "  font.set_text(s, 0.0, flags=flags)\n",
            "/usr/local/lib/python3.7/dist-packages/matplotlib/backends/backend_agg.py:183: RuntimeWarning: Glyph 44592 missing from current font.\n",
            "  font.set_text(s, 0, flags=flags)\n",
            "/usr/local/lib/python3.7/dist-packages/matplotlib/backends/backend_agg.py:183: RuntimeWarning: Glyph 50728 missing from current font.\n",
            "  font.set_text(s, 0, flags=flags)\n",
            "/usr/local/lib/python3.7/dist-packages/matplotlib/backends/backend_agg.py:214: RuntimeWarning: Glyph 54413 missing from current font.\n",
            "  font.set_text(s, 0.0, flags=flags)\n",
            "/usr/local/lib/python3.7/dist-packages/matplotlib/backends/backend_agg.py:214: RuntimeWarning: Glyph 49549 missing from current font.\n",
            "  font.set_text(s, 0.0, flags=flags)\n",
            "/usr/local/lib/python3.7/dist-packages/matplotlib/backends/backend_agg.py:183: RuntimeWarning: Glyph 54413 missing from current font.\n",
            "  font.set_text(s, 0, flags=flags)\n",
            "/usr/local/lib/python3.7/dist-packages/matplotlib/backends/backend_agg.py:183: RuntimeWarning: Glyph 49549 missing from current font.\n",
            "  font.set_text(s, 0, flags=flags)\n",
            "/usr/local/lib/python3.7/dist-packages/matplotlib/backends/backend_agg.py:214: RuntimeWarning: Glyph 49845 missing from current font.\n",
            "  font.set_text(s, 0.0, flags=flags)\n",
            "/usr/local/lib/python3.7/dist-packages/matplotlib/backends/backend_agg.py:214: RuntimeWarning: Glyph 46020 missing from current font.\n",
            "  font.set_text(s, 0.0, flags=flags)\n",
            "/usr/local/lib/python3.7/dist-packages/matplotlib/backends/backend_agg.py:183: RuntimeWarning: Glyph 49845 missing from current font.\n",
            "  font.set_text(s, 0, flags=flags)\n",
            "/usr/local/lib/python3.7/dist-packages/matplotlib/backends/backend_agg.py:183: RuntimeWarning: Glyph 46020 missing from current font.\n",
            "  font.set_text(s, 0, flags=flags)\n",
            "/usr/local/lib/python3.7/dist-packages/matplotlib/backends/backend_agg.py:214: RuntimeWarning: Glyph 44053 missing from current font.\n",
            "  font.set_text(s, 0.0, flags=flags)\n",
            "/usr/local/lib/python3.7/dist-packages/matplotlib/backends/backend_agg.py:214: RuntimeWarning: Glyph 49688 missing from current font.\n",
            "  font.set_text(s, 0.0, flags=flags)\n",
            "/usr/local/lib/python3.7/dist-packages/matplotlib/backends/backend_agg.py:214: RuntimeWarning: Glyph 47049 missing from current font.\n",
            "  font.set_text(s, 0.0, flags=flags)\n",
            "/usr/local/lib/python3.7/dist-packages/matplotlib/backends/backend_agg.py:183: RuntimeWarning: Glyph 44053 missing from current font.\n",
            "  font.set_text(s, 0, flags=flags)\n",
            "/usr/local/lib/python3.7/dist-packages/matplotlib/backends/backend_agg.py:183: RuntimeWarning: Glyph 49688 missing from current font.\n",
            "  font.set_text(s, 0, flags=flags)\n",
            "/usr/local/lib/python3.7/dist-packages/matplotlib/backends/backend_agg.py:183: RuntimeWarning: Glyph 47049 missing from current font.\n",
            "  font.set_text(s, 0, flags=flags)\n"
          ]
        },
        {
          "output_type": "display_data",
          "data": {
            "image/png": "[encoded data removed]",
            "text/plain": [
              "<Figure size 1080x1080 with 4 Axes>"
            ]
          },
          "metadata": {
            "needs_background": "light"
          }
        }
      ]
    },
    {
      "cell_type": "code",
      "metadata": {
        "id": "Je80HvXxYSoT"
      },
      "source": [
        "# 아래 컬럼들을 log 변환 적용\n",
        "target_col = '기온(°C), 풍속(m/s), 습도(%), 강수량(mm)'.split(', ')\n",
        "for col_name in target_col :\n",
        "  train[col_name] = np.log1p(train[col_name])"
      ],
      "id": "Je80HvXxYSoT",
      "execution_count": null,
      "outputs": []
    },
    {
      "cell_type": "code",
      "metadata": {
        "colab": {
          "base_uri": "https://localhost:8080/",
          "height": 1000
        },
        "id": "bsYodGWJfrsM",
        "outputId": "eaf19951-015f-4436-fc35-89068754ad83"
      },
      "source": [
        "# 다시 확인\n",
        "plt.figure(figsize=(15, 15))\n",
        "for index, col_name in enumerate(continuous):\n",
        "    plt.subplot(3,3,index+1)\n",
        "    sns.histplot(train[col_name])"
      ],
      "id": "bsYodGWJfrsM",
      "execution_count": null,
      "outputs": [
        {
          "output_type": "stream",
          "name": "stderr",
          "text": [
            "/usr/local/lib/python3.7/dist-packages/matplotlib/backends/backend_agg.py:214: RuntimeWarning: Glyph 44592 missing from current font.\n",
            "  font.set_text(s, 0.0, flags=flags)\n",
            "/usr/local/lib/python3.7/dist-packages/matplotlib/backends/backend_agg.py:214: RuntimeWarning: Glyph 50728 missing from current font.\n",
            "  font.set_text(s, 0.0, flags=flags)\n",
            "/usr/local/lib/python3.7/dist-packages/matplotlib/backends/backend_agg.py:183: RuntimeWarning: Glyph 44592 missing from current font.\n",
            "  font.set_text(s, 0, flags=flags)\n",
            "/usr/local/lib/python3.7/dist-packages/matplotlib/backends/backend_agg.py:183: RuntimeWarning: Glyph 50728 missing from current font.\n",
            "  font.set_text(s, 0, flags=flags)\n",
            "/usr/local/lib/python3.7/dist-packages/matplotlib/backends/backend_agg.py:214: RuntimeWarning: Glyph 54413 missing from current font.\n",
            "  font.set_text(s, 0.0, flags=flags)\n",
            "/usr/local/lib/python3.7/dist-packages/matplotlib/backends/backend_agg.py:214: RuntimeWarning: Glyph 49549 missing from current font.\n",
            "  font.set_text(s, 0.0, flags=flags)\n",
            "/usr/local/lib/python3.7/dist-packages/matplotlib/backends/backend_agg.py:183: RuntimeWarning: Glyph 54413 missing from current font.\n",
            "  font.set_text(s, 0, flags=flags)\n",
            "/usr/local/lib/python3.7/dist-packages/matplotlib/backends/backend_agg.py:183: RuntimeWarning: Glyph 49549 missing from current font.\n",
            "  font.set_text(s, 0, flags=flags)\n",
            "/usr/local/lib/python3.7/dist-packages/matplotlib/backends/backend_agg.py:214: RuntimeWarning: Glyph 49845 missing from current font.\n",
            "  font.set_text(s, 0.0, flags=flags)\n",
            "/usr/local/lib/python3.7/dist-packages/matplotlib/backends/backend_agg.py:214: RuntimeWarning: Glyph 46020 missing from current font.\n",
            "  font.set_text(s, 0.0, flags=flags)\n",
            "/usr/local/lib/python3.7/dist-packages/matplotlib/backends/backend_agg.py:183: RuntimeWarning: Glyph 49845 missing from current font.\n",
            "  font.set_text(s, 0, flags=flags)\n",
            "/usr/local/lib/python3.7/dist-packages/matplotlib/backends/backend_agg.py:183: RuntimeWarning: Glyph 46020 missing from current font.\n",
            "  font.set_text(s, 0, flags=flags)\n",
            "/usr/local/lib/python3.7/dist-packages/matplotlib/backends/backend_agg.py:214: RuntimeWarning: Glyph 44053 missing from current font.\n",
            "  font.set_text(s, 0.0, flags=flags)\n",
            "/usr/local/lib/python3.7/dist-packages/matplotlib/backends/backend_agg.py:214: RuntimeWarning: Glyph 49688 missing from current font.\n",
            "  font.set_text(s, 0.0, flags=flags)\n",
            "/usr/local/lib/python3.7/dist-packages/matplotlib/backends/backend_agg.py:214: RuntimeWarning: Glyph 47049 missing from current font.\n",
            "  font.set_text(s, 0.0, flags=flags)\n",
            "/usr/local/lib/python3.7/dist-packages/matplotlib/backends/backend_agg.py:183: RuntimeWarning: Glyph 44053 missing from current font.\n",
            "  font.set_text(s, 0, flags=flags)\n",
            "/usr/local/lib/python3.7/dist-packages/matplotlib/backends/backend_agg.py:183: RuntimeWarning: Glyph 49688 missing from current font.\n",
            "  font.set_text(s, 0, flags=flags)\n",
            "/usr/local/lib/python3.7/dist-packages/matplotlib/backends/backend_agg.py:183: RuntimeWarning: Glyph 47049 missing from current font.\n",
            "  font.set_text(s, 0, flags=flags)\n"
          ]
        },
        {
          "output_type": "display_data",
          "data": {
            "image/png": "[encoded data removed]",
            "text/plain": [
              "<Figure size 1080x1080 with 4 Axes>"
            ]
          },
          "metadata": {
            "needs_background": "light"
          }
        }
      ]
    },
    {
      "cell_type": "code",
      "metadata": {
        "colab": {
          "base_uri": "https://localhost:8080/",
          "height": 419
        },
        "id": "PriKsTVGfzIo",
        "outputId": "86c1e126-7608-4790-da3b-ce8c9d9bf576"
      },
      "source": [
        "train_continuous = train[continuous].copy()\n",
        "train_continuous"
      ],
      "id": "PriKsTVGfzIo",
      "execution_count": null,
      "outputs": [
        {
          "output_type": "execute_result",
          "data": {
            "text/html": [
              "<div>\n",
              "<style scoped>\n",
              "    .dataframe tbody tr th:only-of-type {\n",
              "        vertical-align: middle;\n",
              "    }\n",
              "\n",
              "    .dataframe tbody tr th {\n",
              "        vertical-align: top;\n",
              "    }\n",
              "\n",
              "    .dataframe thead th {\n",
              "        text-align: right;\n",
              "    }\n",
              "</style>\n",
              "<table border=\"1\" class=\"dataframe\">\n",
              "  <thead>\n",
              "    <tr style=\"text-align: right;\">\n",
              "      <th></th>\n",
              "      <th>기온(°C)</th>\n",
              "      <th>풍속(m/s)</th>\n",
              "      <th>습도(%)</th>\n",
              "      <th>강수량(mm)</th>\n",
              "    </tr>\n",
              "  </thead>\n",
              "  <tbody>\n",
              "    <tr>\n",
              "      <th>0</th>\n",
              "      <td>2.923162</td>\n",
              "      <td>1.252763</td>\n",
              "      <td>4.532599</td>\n",
              "      <td>0.587787</td>\n",
              "    </tr>\n",
              "    <tr>\n",
              "      <th>1</th>\n",
              "      <td>2.928524</td>\n",
              "      <td>1.360977</td>\n",
              "      <td>4.521789</td>\n",
              "      <td>0.262364</td>\n",
              "    </tr>\n",
              "    <tr>\n",
              "      <th>2</th>\n",
              "      <td>2.917771</td>\n",
              "      <td>1.435085</td>\n",
              "      <td>4.521789</td>\n",
              "      <td>0.000000</td>\n",
              "    </tr>\n",
              "    <tr>\n",
              "      <th>3</th>\n",
              "      <td>2.895912</td>\n",
              "      <td>1.435085</td>\n",
              "      <td>4.521789</td>\n",
              "      <td>0.000000</td>\n",
              "    </tr>\n",
              "    <tr>\n",
              "      <th>4</th>\n",
              "      <td>2.890372</td>\n",
              "      <td>1.458615</td>\n",
              "      <td>4.532599</td>\n",
              "      <td>0.000000</td>\n",
              "    </tr>\n",
              "    <tr>\n",
              "      <th>...</th>\n",
              "      <td>...</td>\n",
              "      <td>...</td>\n",
              "      <td>...</td>\n",
              "      <td>...</td>\n",
              "    </tr>\n",
              "    <tr>\n",
              "      <th>87835</th>\n",
              "      <td>3.258097</td>\n",
              "      <td>1.308333</td>\n",
              "      <td>4.564348</td>\n",
              "      <td>0.000000</td>\n",
              "    </tr>\n",
              "    <tr>\n",
              "      <th>87836</th>\n",
              "      <td>3.254243</td>\n",
              "      <td>1.252763</td>\n",
              "      <td>4.574711</td>\n",
              "      <td>0.000000</td>\n",
              "    </tr>\n",
              "    <tr>\n",
              "      <th>87837</th>\n",
              "      <td>3.254243</td>\n",
              "      <td>1.064711</td>\n",
              "      <td>4.574711</td>\n",
              "      <td>0.000000</td>\n",
              "    </tr>\n",
              "    <tr>\n",
              "      <th>87838</th>\n",
              "      <td>3.254243</td>\n",
              "      <td>1.335001</td>\n",
              "      <td>4.584967</td>\n",
              "      <td>0.000000</td>\n",
              "    </tr>\n",
              "    <tr>\n",
              "      <th>87839</th>\n",
              "      <td>3.254243</td>\n",
              "      <td>1.163151</td>\n",
              "      <td>4.584967</td>\n",
              "      <td>0.000000</td>\n",
              "    </tr>\n",
              "  </tbody>\n",
              "</table>\n",
              "<p>87840 rows × 4 columns</p>\n",
              "</div>"
            ],
            "text/plain": [
              "         기온(°C)   풍속(m/s)     습도(%)   강수량(mm)\n",
              "0      2.923162  1.252763  4.532599  0.587787\n",
              "1      2.928524  1.360977  4.521789  0.262364\n",
              "2      2.917771  1.435085  4.521789  0.000000\n",
              "3      2.895912  1.435085  4.521789  0.000000\n",
              "4      2.890372  1.458615  4.532599  0.000000\n",
              "...         ...       ...       ...       ...\n",
              "87835  3.258097  1.308333  4.564348  0.000000\n",
              "87836  3.254243  1.252763  4.574711  0.000000\n",
              "87837  3.254243  1.064711  4.574711  0.000000\n",
              "87838  3.254243  1.335001  4.584967  0.000000\n",
              "87839  3.254243  1.163151  4.584967  0.000000\n",
              "\n",
              "[87840 rows x 4 columns]"
            ]
          },
          "metadata": {},
          "execution_count": 65
        }
      ]
    },
    {
      "cell_type": "code",
      "metadata": {
        "id": "jAb8jTZgf4t_"
      },
      "source": [
        "# continous 표준화\n",
        "from sklearn.preprocessing import StandardScaler\n",
        "scaler = StandardScaler()\n",
        "X_Scaled = scaler.fit_transform(train_continuous)"
      ],
      "id": "jAb8jTZgf4t_",
      "execution_count": null,
      "outputs": []
    },
    {
      "cell_type": "code",
      "metadata": {
        "id": "kOSr8CkWgUFZ"
      },
      "source": [
        "# 표준화된 결과를 데이터 프레임에 대입\n",
        "train.loc[:, continuous] = X_Scaled"
      ],
      "id": "kOSr8CkWgUFZ",
      "execution_count": null,
      "outputs": []
    },
    {
      "cell_type": "code",
      "metadata": {
        "colab": {
          "base_uri": "https://localhost:8080/",
          "height": 915
        },
        "id": "XFQtc5ALgbnM",
        "outputId": "e7ef5708-b7be-4354-d8ae-ffaad3d5d043"
      },
      "source": [
        "train"
      ],
      "id": "XFQtc5ALgbnM",
      "execution_count": null,
      "outputs": [
        {
          "output_type": "execute_result",
          "data": {
            "text/html": [
              "<div>\n",
              "<style scoped>\n",
              "    .dataframe tbody tr th:only-of-type {\n",
              "        vertical-align: middle;\n",
              "    }\n",
              "\n",
              "    .dataframe tbody tr th {\n",
              "        vertical-align: top;\n",
              "    }\n",
              "\n",
              "    .dataframe thead th {\n",
              "        text-align: right;\n",
              "    }\n",
              "</style>\n",
              "<table border=\"1\" class=\"dataframe\">\n",
              "  <thead>\n",
              "    <tr style=\"text-align: right;\">\n",
              "      <th></th>\n",
              "      <th>num</th>\n",
              "      <th>date_time</th>\n",
              "      <th>전력사용량(kWh)</th>\n",
              "      <th>기온(°C)</th>\n",
              "      <th>풍속(m/s)</th>\n",
              "      <th>습도(%)</th>\n",
              "      <th>강수량(mm)</th>\n",
              "      <th>일조(hr)</th>\n",
              "      <th>비전기냉방설비운영</th>\n",
              "      <th>태양광보유</th>\n",
              "      <th>month</th>\n",
              "      <th>day</th>\n",
              "      <th>hour</th>\n",
              "      <th>kwh_log</th>\n",
              "    </tr>\n",
              "  </thead>\n",
              "  <tbody>\n",
              "    <tr>\n",
              "      <th>0</th>\n",
              "      <td>1</td>\n",
              "      <td>2020-06-01 00:00:00</td>\n",
              "      <td>8179.056</td>\n",
              "      <td>-1.936847</td>\n",
              "      <td>0.499376</td>\n",
              "      <td>0.802318</td>\n",
              "      <td>1.034141</td>\n",
              "      <td>0.0</td>\n",
              "      <td>0.0</td>\n",
              "      <td>0.0</td>\n",
              "      <td>6</td>\n",
              "      <td>1</td>\n",
              "      <td>0</td>\n",
              "      <td>9.009454</td>\n",
              "    </tr>\n",
              "    <tr>\n",
              "      <th>1</th>\n",
              "      <td>1</td>\n",
              "      <td>2020-06-01 01:00:00</td>\n",
              "      <td>8135.640</td>\n",
              "      <td>-1.896711</td>\n",
              "      <td>0.741903</td>\n",
              "      <td>0.756156</td>\n",
              "      <td>0.299856</td>\n",
              "      <td>0.0</td>\n",
              "      <td>0.0</td>\n",
              "      <td>0.0</td>\n",
              "      <td>6</td>\n",
              "      <td>1</td>\n",
              "      <td>1</td>\n",
              "      <td>9.004133</td>\n",
              "    </tr>\n",
              "    <tr>\n",
              "      <th>2</th>\n",
              "      <td>1</td>\n",
              "      <td>2020-06-01 02:00:00</td>\n",
              "      <td>8107.128</td>\n",
              "      <td>-1.977199</td>\n",
              "      <td>0.907993</td>\n",
              "      <td>0.756156</td>\n",
              "      <td>-0.292145</td>\n",
              "      <td>0.0</td>\n",
              "      <td>0.0</td>\n",
              "      <td>0.0</td>\n",
              "      <td>6</td>\n",
              "      <td>1</td>\n",
              "      <td>2</td>\n",
              "      <td>9.000622</td>\n",
              "    </tr>\n",
              "    <tr>\n",
              "      <th>3</th>\n",
              "      <td>1</td>\n",
              "      <td>2020-06-01 03:00:00</td>\n",
              "      <td>8048.808</td>\n",
              "      <td>-2.140819</td>\n",
              "      <td>0.907993</td>\n",
              "      <td>0.756156</td>\n",
              "      <td>-0.292145</td>\n",
              "      <td>0.0</td>\n",
              "      <td>0.0</td>\n",
              "      <td>0.0</td>\n",
              "      <td>6</td>\n",
              "      <td>1</td>\n",
              "      <td>3</td>\n",
              "      <td>8.993404</td>\n",
              "    </tr>\n",
              "    <tr>\n",
              "      <th>4</th>\n",
              "      <td>1</td>\n",
              "      <td>2020-06-01 04:00:00</td>\n",
              "      <td>8043.624</td>\n",
              "      <td>-2.182289</td>\n",
              "      <td>0.960729</td>\n",
              "      <td>0.802318</td>\n",
              "      <td>-0.292145</td>\n",
              "      <td>0.0</td>\n",
              "      <td>0.0</td>\n",
              "      <td>0.0</td>\n",
              "      <td>6</td>\n",
              "      <td>1</td>\n",
              "      <td>4</td>\n",
              "      <td>8.992759</td>\n",
              "    </tr>\n",
              "    <tr>\n",
              "      <th>...</th>\n",
              "      <td>...</td>\n",
              "      <td>...</td>\n",
              "      <td>...</td>\n",
              "      <td>...</td>\n",
              "      <td>...</td>\n",
              "      <td>...</td>\n",
              "      <td>...</td>\n",
              "      <td>...</td>\n",
              "      <td>...</td>\n",
              "      <td>...</td>\n",
              "      <td>...</td>\n",
              "      <td>...</td>\n",
              "      <td>...</td>\n",
              "      <td>...</td>\n",
              "    </tr>\n",
              "    <tr>\n",
              "      <th>87835</th>\n",
              "      <td>60</td>\n",
              "      <td>2020-07-31 19:00:00</td>\n",
              "      <td>3603.744</td>\n",
              "      <td>0.570245</td>\n",
              "      <td>0.623918</td>\n",
              "      <td>0.937881</td>\n",
              "      <td>-0.292145</td>\n",
              "      <td>0.0</td>\n",
              "      <td>1.0</td>\n",
              "      <td>1.0</td>\n",
              "      <td>7</td>\n",
              "      <td>31</td>\n",
              "      <td>19</td>\n",
              "      <td>8.190006</td>\n",
              "    </tr>\n",
              "    <tr>\n",
              "      <th>87836</th>\n",
              "      <td>60</td>\n",
              "      <td>2020-07-31 20:00:00</td>\n",
              "      <td>3688.848</td>\n",
              "      <td>0.541400</td>\n",
              "      <td>0.499376</td>\n",
              "      <td>0.982129</td>\n",
              "      <td>-0.292145</td>\n",
              "      <td>0.0</td>\n",
              "      <td>1.0</td>\n",
              "      <td>1.0</td>\n",
              "      <td>7</td>\n",
              "      <td>31</td>\n",
              "      <td>20</td>\n",
              "      <td>8.213341</td>\n",
              "    </tr>\n",
              "    <tr>\n",
              "      <th>87837</th>\n",
              "      <td>60</td>\n",
              "      <td>2020-07-31 21:00:00</td>\n",
              "      <td>3765.312</td>\n",
              "      <td>0.541400</td>\n",
              "      <td>0.077915</td>\n",
              "      <td>0.982129</td>\n",
              "      <td>-0.292145</td>\n",
              "      <td>0.0</td>\n",
              "      <td>1.0</td>\n",
              "      <td>1.0</td>\n",
              "      <td>7</td>\n",
              "      <td>31</td>\n",
              "      <td>21</td>\n",
              "      <td>8.233852</td>\n",
              "    </tr>\n",
              "    <tr>\n",
              "      <th>87838</th>\n",
              "      <td>60</td>\n",
              "      <td>2020-07-31 22:00:00</td>\n",
              "      <td>3833.568</td>\n",
              "      <td>0.541400</td>\n",
              "      <td>0.683687</td>\n",
              "      <td>1.025923</td>\n",
              "      <td>-0.292145</td>\n",
              "      <td>0.0</td>\n",
              "      <td>1.0</td>\n",
              "      <td>1.0</td>\n",
              "      <td>7</td>\n",
              "      <td>31</td>\n",
              "      <td>22</td>\n",
              "      <td>8.251812</td>\n",
              "    </tr>\n",
              "    <tr>\n",
              "      <th>87839</th>\n",
              "      <td>60</td>\n",
              "      <td>2020-07-31 23:00:00</td>\n",
              "      <td>3309.120</td>\n",
              "      <td>0.541400</td>\n",
              "      <td>0.298538</td>\n",
              "      <td>1.025923</td>\n",
              "      <td>-0.292145</td>\n",
              "      <td>0.0</td>\n",
              "      <td>1.0</td>\n",
              "      <td>1.0</td>\n",
              "      <td>7</td>\n",
              "      <td>31</td>\n",
              "      <td>23</td>\n",
              "      <td>8.104740</td>\n",
              "    </tr>\n",
              "  </tbody>\n",
              "</table>\n",
              "<p>87840 rows × 14 columns</p>\n",
              "</div>"
            ],
            "text/plain": [
              "       num           date_time  전력사용량(kWh)  ...  day  hour   kwh_log\n",
              "0        1 2020-06-01 00:00:00    8179.056  ...    1     0  9.009454\n",
              "1        1 2020-06-01 01:00:00    8135.640  ...    1     1  9.004133\n",
              "2        1 2020-06-01 02:00:00    8107.128  ...    1     2  9.000622\n",
              "3        1 2020-06-01 03:00:00    8048.808  ...    1     3  8.993404\n",
              "4        1 2020-06-01 04:00:00    8043.624  ...    1     4  8.992759\n",
              "...    ...                 ...         ...  ...  ...   ...       ...\n",
              "87835   60 2020-07-31 19:00:00    3603.744  ...   31    19  8.190006\n",
              "87836   60 2020-07-31 20:00:00    3688.848  ...   31    20  8.213341\n",
              "87837   60 2020-07-31 21:00:00    3765.312  ...   31    21  8.233852\n",
              "87838   60 2020-07-31 22:00:00    3833.568  ...   31    22  8.251812\n",
              "87839   60 2020-07-31 23:00:00    3309.120  ...   31    23  8.104740\n",
              "\n",
              "[87840 rows x 14 columns]"
            ]
          },
          "metadata": {},
          "execution_count": 69
        }
      ]
    },
    {
      "cell_type": "code",
      "metadata": {
        "id": "G3C5Ip8fWlQB"
      },
      "source": [
        "# 다시 한번 나눠서 하기\n",
        "X = train[features]\n",
        "x_train, x_test, y_train, y_test = train_test_split(X, train['kwh_log'], random_state=123)"
      ],
      "id": "G3C5Ip8fWlQB",
      "execution_count": null,
      "outputs": []
    },
    {
      "cell_type": "code",
      "metadata": {
        "colab": {
          "base_uri": "https://localhost:8080/"
        },
        "id": "1Zh3Lc3xgup3",
        "outputId": "f2f636fd-5b47-40cb-c29e-0ddd83b3c148"
      },
      "source": [
        "model = RandomForestRegressor(n_estimators=500, random_state=123, n_jobs=1).fit(x_train, y_train)\n",
        "prediction = model.predict(test[features])\n",
        "prediction = np.expm1(prediction)\n",
        "submission['전력사용량(kWh)'] = prediction\n",
        "pjt.submit(submission)"
      ],
      "id": "1Zh3Lc3xgup3",
      "execution_count": null,
      "outputs": [
        {
          "output_type": "stream",
          "name": "stdout",
          "text": [
            "파일을 저장하였습니다. 파일명: submission-01-31-26.csv\n",
            "제출 여부 :success\n",
            "오늘 제출 횟수 : 10\n",
            "제출 결과:0.25404376926338057\n"
          ]
        }
      ]
    },
    {
      "cell_type": "code",
      "metadata": {
        "id": "XlDqh5LfwHZY"
      },
      "source": [
        "features=['num', '기온(°C)', '풍속(m/s)', '습도(%)', '강수량(mm)', '일조(hr)', '비전기냉방설비운영', '태양광보유']\n",
        "X = train[features]"
      ],
      "id": "XlDqh5LfwHZY",
      "execution_count": null,
      "outputs": []
    },
    {
      "cell_type": "code",
      "metadata": {
        "id": "wQhPQmYEwCHx"
      },
      "source": [
        "x_train, x_test, y_train, y_test = train_test_split(X, train['kwh_log'], random_state=123)"
      ],
      "id": "wQhPQmYEwCHx",
      "execution_count": null,
      "outputs": []
    },
    {
      "cell_type": "code",
      "metadata": {
        "colab": {
          "base_uri": "https://localhost:8080/",
          "height": 385
        },
        "id": "nMLbIV13g9oP",
        "outputId": "affebc93-dfc6-4a0c-8f8f-5d7848daf266"
      },
      "source": [
        "model = RandomForestRegressor(n_estimators=500, random_state=123, n_jobs=1).fit(x_train, y_train)\n",
        "prediction = model.predict(test[features])\n",
        "prediction = np.expm1(prediction)\n",
        "submission['전력사용량(kWh)'] = prediction\n",
        "pjt.submit(submission)"
      ],
      "id": "nMLbIV13g9oP",
      "execution_count": null,
      "outputs": [
        {
          "output_type": "stream",
          "name": "stdout",
          "text": [
            "파일을 저장하였습니다. 파일명: submission-02-40-23.csv\n"
          ]
        },
        {
          "output_type": "error",
          "ename": "KeyError",
          "evalue": "ignored",
          "traceback": [
            "\u001b[0;31m---------------------------------------------------------------------------\u001b[0m",
            "\u001b[0;31mKeyError\u001b[0m                                  Traceback (most recent call last)",
            "\u001b[0;32m<ipython-input-87-33d651044b81>\u001b[0m in \u001b[0;36m<module>\u001b[0;34m()\u001b[0m\n\u001b[1;32m      3\u001b[0m \u001b[0mprediction\u001b[0m \u001b[0;34m=\u001b[0m \u001b[0mnp\u001b[0m\u001b[0;34m.\u001b[0m\u001b[0mexpm1\u001b[0m\u001b[0;34m(\u001b[0m\u001b[0mprediction\u001b[0m\u001b[0;34m)\u001b[0m\u001b[0;34m\u001b[0m\u001b[0;34m\u001b[0m\u001b[0m\n\u001b[1;32m      4\u001b[0m \u001b[0msubmission\u001b[0m\u001b[0;34m[\u001b[0m\u001b[0;34m'전력사용량(kWh)'\u001b[0m\u001b[0;34m]\u001b[0m \u001b[0;34m=\u001b[0m \u001b[0mprediction\u001b[0m\u001b[0;34m\u001b[0m\u001b[0;34m\u001b[0m\u001b[0m\n\u001b[0;32m----> 5\u001b[0;31m \u001b[0mpjt\u001b[0m\u001b[0;34m.\u001b[0m\u001b[0msubmit\u001b[0m\u001b[0;34m(\u001b[0m\u001b[0msubmission\u001b[0m\u001b[0;34m)\u001b[0m\u001b[0;34m\u001b[0m\u001b[0;34m\u001b[0m\u001b[0m\n\u001b[0m",
            "\u001b[0;32m/usr/local/lib/python3.7/dist-packages/JAEN/project.py\u001b[0m in \u001b[0;36msubmit\u001b[0;34m(self, submission)\u001b[0m\n\u001b[1;32m     34\u001b[0m     \u001b[0;32mdef\u001b[0m \u001b[0msubmit\u001b[0m\u001b[0;34m(\u001b[0m\u001b[0mself\u001b[0m\u001b[0;34m,\u001b[0m \u001b[0msubmission\u001b[0m\u001b[0;34m)\u001b[0m\u001b[0;34m:\u001b[0m\u001b[0;34m\u001b[0m\u001b[0;34m\u001b[0m\u001b[0m\n\u001b[1;32m     35\u001b[0m         \u001b[0mfilename\u001b[0m \u001b[0;34m=\u001b[0m \u001b[0mself\u001b[0m\u001b[0;34m.\u001b[0m\u001b[0m__make_submission\u001b[0m\u001b[0;34m(\u001b[0m\u001b[0msubmission\u001b[0m\u001b[0;34m)\u001b[0m\u001b[0;34m\u001b[0m\u001b[0;34m\u001b[0m\u001b[0m\n\u001b[0;32m---> 36\u001b[0;31m         \u001b[0mprint\u001b[0m\u001b[0;34m(\u001b[0m\u001b[0mself\u001b[0m\u001b[0;34m.\u001b[0m\u001b[0m__project_submission\u001b[0m\u001b[0;34m(\u001b[0m\u001b[0mfilename\u001b[0m\u001b[0;34m)\u001b[0m\u001b[0;34m)\u001b[0m\u001b[0;34m\u001b[0m\u001b[0;34m\u001b[0m\u001b[0m\n\u001b[0m\u001b[1;32m     37\u001b[0m \u001b[0;34m\u001b[0m\u001b[0m\n\u001b[1;32m     38\u001b[0m \u001b[0;32mdef\u001b[0m \u001b[0msubmit\u001b[0m\u001b[0;34m(\u001b[0m\u001b[0msubmission_file\u001b[0m\u001b[0;34m)\u001b[0m\u001b[0;34m:\u001b[0m\u001b[0;34m\u001b[0m\u001b[0;34m\u001b[0m\u001b[0m\n",
            "\u001b[0;32m/usr/local/lib/python3.7/dist-packages/JAEN/project.py\u001b[0m in \u001b[0;36m__project_submission\u001b[0;34m(self, file_name)\u001b[0m\n\u001b[1;32m     27\u001b[0m         \u001b[0;32mif\u001b[0m \u001b[0;34m'msg'\u001b[0m \u001b[0;32min\u001b[0m \u001b[0mr\u001b[0m\u001b[0;34m.\u001b[0m\u001b[0mtext\u001b[0m\u001b[0;34m:\u001b[0m\u001b[0;34m\u001b[0m\u001b[0;34m\u001b[0m\u001b[0m\n\u001b[1;32m     28\u001b[0m             \u001b[0mdata\u001b[0m \u001b[0;34m=\u001b[0m \u001b[0mjson\u001b[0m\u001b[0;34m.\u001b[0m\u001b[0mloads\u001b[0m\u001b[0;34m(\u001b[0m\u001b[0mr\u001b[0m\u001b[0;34m.\u001b[0m\u001b[0mtext\u001b[0m\u001b[0;34m)\u001b[0m\u001b[0;34m\u001b[0m\u001b[0;34m\u001b[0m\u001b[0m\n\u001b[0;32m---> 29\u001b[0;31m             \u001b[0mmessage\u001b[0m \u001b[0;34m=\u001b[0m \u001b[0;34m'제출 여부 :{}\\n오늘 제출 횟수 : {}\\n제출 결과:{}'\u001b[0m\u001b[0;34m.\u001b[0m\u001b[0mformat\u001b[0m\u001b[0;34m(\u001b[0m\u001b[0mdata\u001b[0m\u001b[0;34m[\u001b[0m\u001b[0;34m'msg'\u001b[0m\u001b[0;34m]\u001b[0m\u001b[0;34m,\u001b[0m \u001b[0mdata\u001b[0m\u001b[0;34m[\u001b[0m\u001b[0;34m'trial'\u001b[0m\u001b[0;34m]\u001b[0m\u001b[0;34m,\u001b[0m \u001b[0mdata\u001b[0m\u001b[0;34m[\u001b[0m\u001b[0;34m'score'\u001b[0m\u001b[0;34m]\u001b[0m\u001b[0;34m)\u001b[0m\u001b[0;34m\u001b[0m\u001b[0;34m\u001b[0m\u001b[0m\n\u001b[0m\u001b[1;32m     30\u001b[0m         \u001b[0;32melse\u001b[0m\u001b[0;34m:\u001b[0m\u001b[0;34m\u001b[0m\u001b[0;34m\u001b[0m\u001b[0m\n\u001b[1;32m     31\u001b[0m             \u001b[0mmessage\u001b[0m \u001b[0;34m=\u001b[0m \u001b[0mr\u001b[0m\u001b[0;34m.\u001b[0m\u001b[0mtext\u001b[0m\u001b[0;34m\u001b[0m\u001b[0;34m\u001b[0m\u001b[0m\n",
            "\u001b[0;31mKeyError\u001b[0m: 'trial'"
          ]
        }
      ]
    },
    {
      "cell_type": "code",
      "metadata": {
        "id": "rapJmDVywVDn"
      },
      "source": [
        ""
      ],
      "id": "rapJmDVywVDn",
      "execution_count": null,
      "outputs": []
    }
  ]
}